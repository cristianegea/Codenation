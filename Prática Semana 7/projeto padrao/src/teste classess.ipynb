{
 "cells": [
  {
   "cell_type": "markdown",
   "metadata": {},
   "source": [
    "## Importação das bibliotecas"
   ]
  },
  {
   "cell_type": "code",
   "execution_count": 1,
   "metadata": {
    "pycharm": {
     "is_executing": false
    }
   },
   "outputs": [],
   "source": [
    "import pandas as pd"
   ]
  },
  {
   "cell_type": "code",
   "execution_count": 2,
   "metadata": {
    "pycharm": {
     "is_executing": false
    }
   },
   "outputs": [],
   "source": [
    "from model_inference import ModelInference"
   ]
  },
  {
   "cell_type": "code",
   "execution_count": 3,
   "metadata": {
    "pycharm": {
     "is_executing": false
    }
   },
   "outputs": [],
   "source": [
    "from model_training import ModelTraining"
   ]
  },
  {
   "cell_type": "code",
   "execution_count": 4,
   "metadata": {
    "pycharm": {
     "is_executing": false
    }
   },
   "outputs": [],
   "source": [
    "from experiments import Experiments"
   ]
  },
  {
   "cell_type": "markdown",
   "metadata": {},
   "source": [
    "## Importação dos dados"
   ]
  },
  {
   "cell_type": "code",
   "execution_count": 5,
   "metadata": {},
   "outputs": [],
   "source": [
    "df = pd.read_csv('../data/train.csv')"
   ]
  },
  {
   "cell_type": "markdown",
   "metadata": {},
   "source": [
    "## Leitura dos dados"
   ]
  },
  {
   "cell_type": "code",
   "execution_count": 6,
   "metadata": {
    "tags": [
     "outputPrepend"
    ]
   },
   "outputs": [
    {
     "output_type": "stream",
     "name": "stdout",
     "text": "11.7s\tremaining: 6.49s\n644:\tlearn: 8375.8292578\ttotal: 11.8s\tremaining: 6.47s\n645:\tlearn: 8371.8440369\ttotal: 11.8s\tremaining: 6.45s\n646:\tlearn: 8365.6647973\ttotal: 11.8s\tremaining: 6.43s\n647:\tlearn: 8354.3938998\ttotal: 11.8s\tremaining: 6.41s\n648:\tlearn: 8338.6451274\ttotal: 11.8s\tremaining: 6.39s\n649:\tlearn: 8333.1493970\ttotal: 11.8s\tremaining: 6.38s\n650:\tlearn: 8323.4921326\ttotal: 11.9s\tremaining: 6.36s\n651:\tlearn: 8309.2689341\ttotal: 11.9s\tremaining: 6.35s\n652:\tlearn: 8300.3444758\ttotal: 11.9s\tremaining: 6.33s\n653:\tlearn: 8290.5489140\ttotal: 11.9s\tremaining: 6.31s\n654:\tlearn: 8286.4214036\ttotal: 12s\tremaining: 6.3s\n655:\tlearn: 8271.6446636\ttotal: 12s\tremaining: 6.28s\n656:\tlearn: 8260.8971085\ttotal: 12s\tremaining: 6.26s\n657:\tlearn: 8245.1760310\ttotal: 12s\tremaining: 6.24s\n658:\tlearn: 8237.0272461\ttotal: 12s\tremaining: 6.23s\n659:\tlearn: 8228.5028762\ttotal: 12.1s\tremaining: 6.22s\n660:\tlearn: 8216.3503441\ttotal: 12.1s\tremaining: 6.21s\n661:\tlearn: 8204.2710847\ttotal: 12.1s\tremaining: 6.19s\n662:\tlearn: 8193.0942711\ttotal: 12.2s\tremaining: 6.18s\n663:\tlearn: 8190.2490284\ttotal: 12.2s\tremaining: 6.16s\n664:\tlearn: 8181.2199444\ttotal: 12.2s\tremaining: 6.14s\n665:\tlearn: 8173.2360229\ttotal: 12.3s\tremaining: 6.14s\n666:\tlearn: 8165.0433026\ttotal: 12.3s\tremaining: 6.12s\n667:\tlearn: 8146.6402468\ttotal: 12.3s\tremaining: 6.11s\n668:\tlearn: 8137.7854711\ttotal: 12.3s\tremaining: 6.09s\n669:\tlearn: 8135.1155898\ttotal: 12.3s\tremaining: 6.07s\n670:\tlearn: 8127.7856771\ttotal: 12.3s\tremaining: 6.05s\n671:\tlearn: 8113.5264475\ttotal: 12.4s\tremaining: 6.03s\n672:\tlearn: 8111.7693215\ttotal: 12.4s\tremaining: 6.01s\n673:\tlearn: 8104.6258783\ttotal: 12.4s\tremaining: 6s\n674:\tlearn: 8095.6637223\ttotal: 12.4s\tremaining: 5.98s\n675:\tlearn: 8092.4128236\ttotal: 12.5s\tremaining: 5.97s\n676:\tlearn: 8091.0561633\ttotal: 12.5s\tremaining: 5.95s\n677:\tlearn: 8089.3063481\ttotal: 12.5s\tremaining: 5.93s\n678:\tlearn: 8080.6108892\ttotal: 12.5s\tremaining: 5.91s\n679:\tlearn: 8074.6463772\ttotal: 12.5s\tremaining: 5.89s\n680:\tlearn: 8070.3069997\ttotal: 12.5s\tremaining: 5.88s\n681:\tlearn: 8061.5827106\ttotal: 12.6s\tremaining: 5.87s\n682:\tlearn: 8052.2298576\ttotal: 12.6s\tremaining: 5.85s\n683:\tlearn: 8037.4437185\ttotal: 12.6s\tremaining: 5.83s\n684:\tlearn: 8035.4903031\ttotal: 12.6s\tremaining: 5.81s\n685:\tlearn: 8024.9333415\ttotal: 12.6s\tremaining: 5.79s\n686:\tlearn: 8014.3441916\ttotal: 12.7s\tremaining: 5.77s\n687:\tlearn: 8003.9406294\ttotal: 12.7s\tremaining: 5.75s\n688:\tlearn: 7986.4499360\ttotal: 12.7s\tremaining: 5.73s\n689:\tlearn: 7974.9359454\ttotal: 12.7s\tremaining: 5.71s\n690:\tlearn: 7960.6720445\ttotal: 12.7s\tremaining: 5.7s\n691:\tlearn: 7949.8705642\ttotal: 12.8s\tremaining: 5.68s\n692:\tlearn: 7946.0116292\ttotal: 12.8s\tremaining: 5.67s\n693:\tlearn: 7936.1294302\ttotal: 12.8s\tremaining: 5.66s\n694:\tlearn: 7928.7029423\ttotal: 12.8s\tremaining: 5.63s\n695:\tlearn: 7926.4016798\ttotal: 12.9s\tremaining: 5.61s\n696:\tlearn: 7918.5513199\ttotal: 12.9s\tremaining: 5.61s\n697:\tlearn: 7910.0210604\ttotal: 12.9s\tremaining: 5.59s\n698:\tlearn: 7902.3895852\ttotal: 12.9s\tremaining: 5.57s\n699:\tlearn: 7886.9233075\ttotal: 13s\tremaining: 5.57s\n700:\tlearn: 7874.0363211\ttotal: 13s\tremaining: 5.55s\n701:\tlearn: 7872.3931360\ttotal: 13s\tremaining: 5.53s\n702:\tlearn: 7863.2278149\ttotal: 13s\tremaining: 5.51s\n703:\tlearn: 7861.5769983\ttotal: 13.1s\tremaining: 5.49s\n704:\tlearn: 7854.4589096\ttotal: 13.1s\tremaining: 5.47s\n705:\tlearn: 7843.4008952\ttotal: 13.1s\tremaining: 5.45s\n706:\tlearn: 7833.8803950\ttotal: 13.1s\tremaining: 5.43s\n707:\tlearn: 7831.2819873\ttotal: 13.1s\tremaining: 5.41s\n708:\tlearn: 7816.1566087\ttotal: 13.2s\tremaining: 5.4s\n709:\tlearn: 7814.5651870\ttotal: 13.2s\tremaining: 5.38s\n710:\tlearn: 7799.7873304\ttotal: 13.2s\tremaining: 5.37s\n711:\tlearn: 7795.8118359\ttotal: 13.2s\tremaining: 5.35s\n712:\tlearn: 7782.6868425\ttotal: 13.2s\tremaining: 5.33s\n713:\tlearn: 7771.7558818\ttotal: 13.3s\tremaining: 5.31s\n714:\tlearn: 7760.6775739\ttotal: 13.3s\tremaining: 5.29s\n715:\tlearn: 7746.9733309\ttotal: 13.3s\tremaining: 5.26s\n716:\tlearn: 7742.0016782\ttotal: 13.3s\tremaining: 5.25s\n717:\tlearn: 7733.1530981\ttotal: 13.4s\tremaining: 5.25s\n718:\tlearn: 7727.9493546\ttotal: 13.4s\tremaining: 5.23s\n719:\tlearn: 7717.8069675\ttotal: 13.4s\tremaining: 5.21s\n720:\tlearn: 7704.8223307\ttotal: 13.4s\tremaining: 5.2s\n721:\tlearn: 7693.8922063\ttotal: 13.5s\tremaining: 5.18s\n722:\tlearn: 7678.9910890\ttotal: 13.5s\tremaining: 5.16s\n723:\tlearn: 7665.4356410\ttotal: 13.5s\tremaining: 5.16s\n724:\tlearn: 7652.1668103\ttotal: 13.5s\tremaining: 5.14s\n725:\tlearn: 7642.1522310\ttotal: 13.6s\tremaining: 5.12s\n726:\tlearn: 7640.1020659\ttotal: 13.6s\tremaining: 5.1s\n727:\tlearn: 7638.0498017\ttotal: 13.6s\tremaining: 5.08s\n728:\tlearn: 7622.7045130\ttotal: 13.6s\tremaining: 5.06s\n729:\tlearn: 7612.8034459\ttotal: 13.6s\tremaining: 5.04s\n730:\tlearn: 7610.9618778\ttotal: 13.6s\tremaining: 5.02s\n731:\tlearn: 7605.3149340\ttotal: 13.6s\tremaining: 5s\n732:\tlearn: 7595.4192617\ttotal: 13.7s\tremaining: 4.98s\n733:\tlearn: 7580.9081615\ttotal: 13.7s\tremaining: 4.96s\n734:\tlearn: 7570.8422923\ttotal: 13.7s\tremaining: 4.94s\n735:\tlearn: 7564.8878983\ttotal: 13.7s\tremaining: 4.92s\n736:\tlearn: 7550.9664061\ttotal: 13.7s\tremaining: 4.9s\n737:\tlearn: 7549.3941704\ttotal: 13.8s\tremaining: 4.88s\n738:\tlearn: 7540.3908764\ttotal: 13.8s\tremaining: 4.86s\n739:\tlearn: 7529.2838173\ttotal: 13.8s\tremaining: 4.84s\n740:\tlearn: 7520.5478824\ttotal: 13.8s\tremaining: 4.82s\n741:\tlearn: 7512.2156358\ttotal: 13.9s\tremaining: 4.82s\n742:\tlearn: 7501.2680643\ttotal: 13.9s\tremaining: 4.8s\n743:\tlearn: 7491.0214678\ttotal: 13.9s\tremaining: 4.78s\n744:\tlearn: 7489.0993179\ttotal: 13.9s\tremaining: 4.77s\n745:\tlearn: 7481.5438487\ttotal: 14s\tremaining: 4.75s\n746:\tlearn: 7465.6981565\ttotal: 14s\tremaining: 4.74s\n747:\tlearn: 7457.4470444\ttotal: 14s\tremaining: 4.73s\n748:\tlearn: 7440.1427449\ttotal: 14.1s\tremaining: 4.71s\n749:\tlearn: 7428.2164444\ttotal: 14.1s\tremaining: 4.69s\n750:\tlearn: 7418.2615211\ttotal: 14.1s\tremaining: 4.67s\n751:\tlearn: 7416.3018811\ttotal: 14.1s\tremaining: 4.65s\n752:\tlearn: 7410.1802283\ttotal: 14.2s\tremaining: 4.64s\n753:\tlearn: 7407.8793329\ttotal: 14.2s\tremaining: 4.63s\n754:\tlearn: 7403.7047977\ttotal: 14.2s\tremaining: 4.6s\n755:\tlearn: 7401.9711942\ttotal: 14.2s\tremaining: 4.59s\n756:\tlearn: 7399.0819774\ttotal: 14.2s\tremaining: 4.57s\n757:\tlearn: 7388.2968433\ttotal: 14.2s\tremaining: 4.55s\n758:\tlearn: 7374.1076394\ttotal: 14.3s\tremaining: 4.53s\n759:\tlearn: 7360.2713542\ttotal: 14.3s\tremaining: 4.51s\n760:\tlearn: 7345.7051985\ttotal: 14.3s\tremaining: 4.49s\n761:\tlearn: 7337.3157187\ttotal: 14.3s\tremaining: 4.47s\n762:\tlearn: 7324.8182916\ttotal: 14.3s\tremaining: 4.45s\n763:\tlearn: 7320.3078068\ttotal: 14.4s\tremaining: 4.43s\n764:\tlearn: 7310.8331547\ttotal: 14.4s\tremaining: 4.41s\n765:\tlearn: 7304.5607884\ttotal: 14.4s\tremaining: 4.39s\n766:\tlearn: 7287.5464298\ttotal: 14.4s\tremaining: 4.37s\n767:\tlearn: 7277.2570503\ttotal: 14.4s\tremaining: 4.35s\n768:\tlearn: 7270.2823597\ttotal: 14.4s\tremaining: 4.33s\n769:\tlearn: 7261.2449086\ttotal: 14.5s\tremaining: 4.32s\n770:\tlearn: 7250.8628631\ttotal: 14.5s\tremaining: 4.3s\n771:\tlearn: 7239.4239275\ttotal: 14.5s\tremaining: 4.28s\n772:\tlearn: 7224.6710399\ttotal: 14.5s\tremaining: 4.26s\n773:\tlearn: 7219.1948634\ttotal: 14.5s\tremaining: 4.24s\n774:\tlearn: 7217.7687519\ttotal: 14.5s\tremaining: 4.22s\n775:\tlearn: 7206.4483515\ttotal: 14.6s\tremaining: 4.2s\n776:\tlearn: 7200.6995231\ttotal: 14.6s\tremaining: 4.18s\n777:\tlearn: 7190.5408552\ttotal: 14.6s\tremaining: 4.17s\n778:\tlearn: 7178.1028660\ttotal: 14.6s\tremaining: 4.14s\n779:\tlearn: 7170.1144702\ttotal: 14.6s\tremaining: 4.13s\n780:\tlearn: 7159.8686629\ttotal: 14.7s\tremaining: 4.11s\n781:\tlearn: 7157.4141231\ttotal: 14.7s\tremaining: 4.09s\n782:\tlearn: 7146.3925467\ttotal: 14.7s\tremaining: 4.07s\n783:\tlearn: 7140.8173749\ttotal: 14.7s\tremaining: 4.05s\n784:\tlearn: 7136.4112900\ttotal: 14.7s\tremaining: 4.03s\n785:\tlearn: 7130.0935428\ttotal: 14.7s\tremaining: 4.01s\n786:\tlearn: 7122.8439848\ttotal: 14.8s\tremaining: 3.99s\n787:\tlearn: 7109.2220426\ttotal: 14.8s\tremaining: 3.97s\n788:\tlearn: 7095.8095905\ttotal: 14.8s\tremaining: 3.95s\n789:\tlearn: 7089.0947117\ttotal: 14.8s\tremaining: 3.93s\n790:\tlearn: 7078.4436171\ttotal: 14.8s\tremaining: 3.91s\n791:\tlearn: 7070.0561193\ttotal: 14.8s\tremaining: 3.89s\n792:\tlearn: 7064.9120065\ttotal: 14.8s\tremaining: 3.88s\n793:\tlearn: 7056.6745899\ttotal: 14.9s\tremaining: 3.86s\n794:\tlearn: 7051.4410079\ttotal: 14.9s\tremaining: 3.84s\n795:\tlearn: 7039.6567031\ttotal: 14.9s\tremaining: 3.82s\n796:\tlearn: 7026.3041984\ttotal: 14.9s\tremaining: 3.81s\n797:\tlearn: 7019.7021459\ttotal: 15s\tremaining: 3.79s\n798:\tlearn: 7018.3100581\ttotal: 15s\tremaining: 3.77s\n799:\tlearn: 7003.8509530\ttotal: 15s\tremaining: 3.75s\n800:\tlearn: 6996.3952407\ttotal: 15s\tremaining: 3.73s\n801:\tlearn: 6990.8677184\ttotal: 15s\tremaining: 3.71s\n802:\tlearn: 6978.7035859\ttotal: 15.1s\tremaining: 3.7s\n803:\tlearn: 6977.0310949\ttotal: 15.1s\tremaining: 3.68s\n804:\tlearn: 6976.1641195\ttotal: 15.1s\tremaining: 3.67s\n805:\tlearn: 6964.1492673\ttotal: 15.2s\tremaining: 3.65s\n806:\tlearn: 6955.0946181\ttotal: 15.2s\tremaining: 3.63s\n807:\tlearn: 6947.2386270\ttotal: 15.2s\tremaining: 3.61s\n808:\tlearn: 6938.5289135\ttotal: 15.2s\tremaining: 3.59s\n809:\tlearn: 6928.1531721\ttotal: 15.2s\tremaining: 3.57s\n810:\tlearn: 6924.0780032\ttotal: 15.2s\tremaining: 3.55s\n811:\tlearn: 6922.5177114\ttotal: 15.3s\tremaining: 3.53s\n812:\tlearn: 6913.8973941\ttotal: 15.3s\tremaining: 3.51s\n813:\tlearn: 6904.8348134\ttotal: 15.3s\tremaining: 3.5s\n814:\tlearn: 6895.6699870\ttotal: 15.3s\tremaining: 3.48s\n815:\tlearn: 6886.7368185\ttotal: 15.3s\tremaining: 3.46s\n816:\tlearn: 6874.9540200\ttotal: 15.3s\tremaining: 3.44s\n817:\tlearn: 6868.3426993\ttotal: 15.4s\tremaining: 3.43s\n818:\tlearn: 6867.4659798\ttotal: 15.4s\tremaining: 3.4s\n819:\tlearn: 6859.1416048\ttotal: 15.4s\tremaining: 3.39s\n820:\tlearn: 6847.4451527\ttotal: 15.4s\tremaining: 3.37s\n821:\tlearn: 6837.6603304\ttotal: 15.5s\tremaining: 3.35s\n822:\tlearn: 6828.6976044\ttotal: 15.5s\tremaining: 3.33s\n823:\tlearn: 6826.0819895\ttotal: 15.5s\tremaining: 3.31s\n824:\tlearn: 6823.9060949\ttotal: 15.5s\tremaining: 3.29s\n825:\tlearn: 6815.8511760\ttotal: 15.5s\tremaining: 3.27s\n826:\tlearn: 6806.1078479\ttotal: 15.5s\tremaining: 3.25s\n827:\tlearn: 6803.8159942\ttotal: 15.5s\tremaining: 3.23s\n828:\tlearn: 6799.0064248\ttotal: 15.6s\tremaining: 3.21s\n829:\tlearn: 6790.5525804\ttotal: 15.6s\tremaining: 3.19s\n830:\tlearn: 6786.8928636\ttotal: 15.6s\tremaining: 3.17s\n831:\tlearn: 6776.0017453\ttotal: 15.6s\tremaining: 3.15s\n832:\tlearn: 6766.7460417\ttotal: 15.6s\tremaining: 3.13s\n833:\tlearn: 6759.5747828\ttotal: 15.6s\tremaining: 3.11s\n834:\tlearn: 6754.6061356\ttotal: 15.6s\tremaining: 3.09s\n835:\tlearn: 6747.3544327\ttotal: 15.6s\tremaining: 3.07s\n836:\tlearn: 6744.5375863\ttotal: 15.7s\tremaining: 3.05s\n837:\tlearn: 6732.7141960\ttotal: 15.7s\tremaining: 3.03s\n838:\tlearn: 6729.0049227\ttotal: 15.7s\tremaining: 3.01s\n839:\tlearn: 6728.2052088\ttotal: 15.7s\tremaining: 3s\n840:\tlearn: 6715.7487815\ttotal: 15.7s\tremaining: 2.98s\n841:\tlearn: 6714.4923290\ttotal: 15.8s\tremaining: 2.96s\n842:\tlearn: 6704.1949497\ttotal: 15.8s\tremaining: 2.94s\n843:\tlearn: 6689.0956737\ttotal: 15.8s\tremaining: 2.92s\n844:\tlearn: 6680.1680708\ttotal: 15.8s\tremaining: 2.9s\n845:\tlearn: 6669.9727514\ttotal: 15.8s\tremaining: 2.88s\n846:\tlearn: 6660.8909758\ttotal: 15.9s\tremaining: 2.86s\n847:\tlearn: 6655.2720952\ttotal: 15.9s\tremaining: 2.85s\n848:\tlearn: 6650.2071076\ttotal: 15.9s\tremaining: 2.83s\n849:\tlearn: 6648.1256443\ttotal: 16s\tremaining: 2.82s\n850:\tlearn: 6645.0599782\ttotal: 16s\tremaining: 2.8s\n851:\tlearn: 6638.2673369\ttotal: 16s\tremaining: 2.78s\n852:\tlearn: 6628.4760925\ttotal: 16s\tremaining: 2.76s\n853:\tlearn: 6622.5285007\ttotal: 16s\tremaining: 2.74s\n854:\tlearn: 6612.9908374\ttotal: 16.1s\tremaining: 2.72s\n855:\tlearn: 6602.4636999\ttotal: 16.1s\tremaining: 2.7s\n856:\tlearn: 6595.4490977\ttotal: 16.1s\tremaining: 2.69s\n857:\tlearn: 6591.7815378\ttotal: 16.1s\tremaining: 2.67s\n858:\tlearn: 6585.2329080\ttotal: 16.1s\tremaining: 2.65s\n859:\tlearn: 6572.3326313\ttotal: 16.2s\tremaining: 2.63s\n860:\tlearn: 6562.4506835\ttotal: 16.2s\tremaining: 2.61s\n861:\tlearn: 6556.5075294\ttotal: 16.2s\tremaining: 2.59s\n862:\tlearn: 6554.4541527\ttotal: 16.2s\tremaining: 2.57s\n863:\tlearn: 6551.7044612\ttotal: 16.2s\tremaining: 2.55s\n864:\tlearn: 6545.3912712\ttotal: 16.2s\tremaining: 2.53s\n865:\tlearn: 6538.1897411\ttotal: 16.3s\tremaining: 2.51s\n866:\tlearn: 6528.9241474\ttotal: 16.3s\tremaining: 2.5s\n867:\tlearn: 6525.5309978\ttotal: 16.3s\tremaining: 2.48s\n868:\tlearn: 6522.9390124\ttotal: 16.3s\tremaining: 2.46s\n869:\tlearn: 6521.1962001\ttotal: 16.3s\tremaining: 2.44s\n870:\tlearn: 6518.6184845\ttotal: 16.3s\tremaining: 2.42s\n871:\tlearn: 6509.4415113\ttotal: 16.4s\tremaining: 2.4s\n872:\tlearn: 6502.1127556\ttotal: 16.4s\tremaining: 2.38s\n873:\tlearn: 6501.2285150\ttotal: 16.4s\tremaining: 2.36s\n874:\tlearn: 6493.6484049\ttotal: 16.4s\tremaining: 2.35s\n875:\tlearn: 6490.3253347\ttotal: 16.4s\tremaining: 2.33s\n876:\tlearn: 6471.6553044\ttotal: 16.4s\tremaining: 2.31s\n877:\tlearn: 6470.0508972\ttotal: 16.5s\tremaining: 2.29s\n878:\tlearn: 6462.4244161\ttotal: 16.5s\tremaining: 2.27s\n879:\tlearn: 6454.0962488\ttotal: 16.5s\tremaining: 2.25s\n880:\tlearn: 6438.3628055\ttotal: 16.5s\tremaining: 2.23s\n881:\tlearn: 6429.4265180\ttotal: 16.5s\tremaining: 2.21s\n882:\tlearn: 6418.1884589\ttotal: 16.5s\tremaining: 2.19s\n883:\tlearn: 6412.3410675\ttotal: 16.6s\tremaining: 2.17s\n884:\tlearn: 6400.0942791\ttotal: 16.6s\tremaining: 2.15s\n885:\tlearn: 6391.0853103\ttotal: 16.6s\tremaining: 2.13s\n886:\tlearn: 6389.8015719\ttotal: 16.6s\tremaining: 2.12s\n887:\tlearn: 6387.5641952\ttotal: 16.6s\tremaining: 2.1s\n888:\tlearn: 6377.3932783\ttotal: 16.6s\tremaining: 2.08s\n889:\tlearn: 6372.9186752\ttotal: 16.6s\tremaining: 2.06s\n890:\tlearn: 6364.0099860\ttotal: 16.7s\tremaining: 2.04s\n891:\tlearn: 6355.1827986\ttotal: 16.7s\tremaining: 2.02s\n892:\tlearn: 6348.1264299\ttotal: 16.7s\tremaining: 2s\n893:\tlearn: 6347.4367752\ttotal: 16.7s\tremaining: 1.98s\n894:\tlearn: 6341.0389929\ttotal: 16.7s\tremaining: 1.96s\n895:\tlearn: 6334.6297685\ttotal: 16.7s\tremaining: 1.94s\n896:\tlearn: 6324.4919491\ttotal: 16.7s\tremaining: 1.92s\n897:\tlearn: 6316.7243595\ttotal: 16.8s\tremaining: 1.9s\n898:\tlearn: 6305.7683142\ttotal: 16.8s\tremaining: 1.88s\n899:\tlearn: 6297.5685675\ttotal: 16.8s\tremaining: 1.86s\n900:\tlearn: 6290.1046974\ttotal: 16.8s\tremaining: 1.84s\n901:\tlearn: 6285.6410583\ttotal: 16.8s\tremaining: 1.83s\n902:\tlearn: 6284.8569408\ttotal: 16.9s\tremaining: 1.81s\n903:\tlearn: 6278.7072721\ttotal: 16.9s\tremaining: 1.79s\n904:\tlearn: 6277.1524595\ttotal: 16.9s\tremaining: 1.77s\n905:\tlearn: 6264.2507859\ttotal: 16.9s\tremaining: 1.75s\n906:\tlearn: 6258.3969698\ttotal: 16.9s\tremaining: 1.74s\n907:\tlearn: 6252.6122406\ttotal: 16.9s\tremaining: 1.72s\n908:\tlearn: 6239.8463846\ttotal: 17s\tremaining: 1.7s\n909:\tlearn: 6238.4641228\ttotal: 17s\tremaining: 1.68s\n910:\tlearn: 6227.1656180\ttotal: 17s\tremaining: 1.66s\n911:\tlearn: 6214.2594551\ttotal: 17s\tremaining: 1.64s\n912:\tlearn: 6205.1146278\ttotal: 17s\tremaining: 1.62s\n913:\tlearn: 6195.7662888\ttotal: 17.1s\tremaining: 1.6s\n914:\tlearn: 6183.5405036\ttotal: 17.1s\tremaining: 1.59s\n915:\tlearn: 6180.4478387\ttotal: 17.1s\tremaining: 1.57s\n916:\tlearn: 6171.7867444\ttotal: 17.1s\tremaining: 1.55s\n917:\tlearn: 6161.2169708\ttotal: 17.1s\tremaining: 1.53s\n918:\tlearn: 6151.8291020\ttotal: 17.1s\tremaining: 1.51s\n919:\tlearn: 6149.0651660\ttotal: 17.2s\tremaining: 1.49s\n920:\tlearn: 6146.4023683\ttotal: 17.2s\tremaining: 1.47s\n921:\tlearn: 6138.4853024\ttotal: 17.2s\tremaining: 1.46s\n922:\tlearn: 6127.5965345\ttotal: 17.2s\tremaining: 1.44s\n923:\tlearn: 6119.0739530\ttotal: 17.2s\tremaining: 1.42s\n924:\tlearn: 6111.3686683\ttotal: 17.2s\tremaining: 1.4s\n925:\tlearn: 6098.9212501\ttotal: 17.3s\tremaining: 1.38s\n926:\tlearn: 6093.2873588\ttotal: 17.3s\tremaining: 1.36s\n927:\tlearn: 6091.3077837\ttotal: 17.3s\tremaining: 1.34s\n928:\tlearn: 6081.2490542\ttotal: 17.3s\tremaining: 1.32s\n929:\tlearn: 6077.8511053\ttotal: 17.3s\tremaining: 1.3s\n930:\tlearn: 6076.4129848\ttotal: 17.3s\tremaining: 1.28s\n931:\tlearn: 6075.7444311\ttotal: 17.4s\tremaining: 1.27s\n932:\tlearn: 6075.1566233\ttotal: 17.4s\tremaining: 1.25s\n933:\tlearn: 6070.2388792\ttotal: 17.4s\tremaining: 1.23s\n934:\tlearn: 6059.7981318\ttotal: 17.4s\tremaining: 1.21s\n935:\tlearn: 6053.9395976\ttotal: 17.4s\tremaining: 1.19s\n936:\tlearn: 6046.9159812\ttotal: 17.4s\tremaining: 1.17s\n937:\tlearn: 6034.2375107\ttotal: 17.5s\tremaining: 1.15s\n938:\tlearn: 6027.1810958\ttotal: 17.5s\tremaining: 1.13s\n939:\tlearn: 6025.3111612\ttotal: 17.5s\tremaining: 1.11s\n940:\tlearn: 6018.5311971\ttotal: 17.5s\tremaining: 1.1s\n941:\tlearn: 6018.0732511\ttotal: 17.5s\tremaining: 1.08s\n942:\tlearn: 6009.7384544\ttotal: 17.5s\tremaining: 1.06s\n943:\tlearn: 6004.1168214\ttotal: 17.6s\tremaining: 1.04s\n944:\tlearn: 5993.8772849\ttotal: 17.6s\tremaining: 1.02s\n945:\tlearn: 5987.3977455\ttotal: 17.6s\tremaining: 1s\n946:\tlearn: 5980.8585342\ttotal: 17.6s\tremaining: 986ms\n947:\tlearn: 5978.3560367\ttotal: 17.6s\tremaining: 967ms\n948:\tlearn: 5975.0255600\ttotal: 17.6s\tremaining: 948ms\n949:\tlearn: 5965.2055939\ttotal: 17.7s\tremaining: 930ms\n950:\tlearn: 5963.4377477\ttotal: 17.7s\tremaining: 911ms\n951:\tlearn: 5953.1600347\ttotal: 17.7s\tremaining: 893ms\n952:\tlearn: 5946.9879326\ttotal: 17.7s\tremaining: 874ms\n953:\tlearn: 5944.7798581\ttotal: 17.7s\tremaining: 855ms\n954:\tlearn: 5939.2067776\ttotal: 17.8s\tremaining: 837ms\n955:\tlearn: 5928.4337422\ttotal: 17.8s\tremaining: 818ms\n956:\tlearn: 5925.1177717\ttotal: 17.8s\tremaining: 799ms\n957:\tlearn: 5914.8621549\ttotal: 17.8s\tremaining: 781ms\n958:\tlearn: 5913.0139932\ttotal: 17.8s\tremaining: 762ms\n959:\tlearn: 5900.1322914\ttotal: 17.8s\tremaining: 743ms\n960:\tlearn: 5894.9392765\ttotal: 17.9s\tremaining: 726ms\n961:\tlearn: 5891.9946425\ttotal: 17.9s\tremaining: 708ms\n962:\tlearn: 5887.1510692\ttotal: 17.9s\tremaining: 689ms\n963:\tlearn: 5886.2065106\ttotal: 18s\tremaining: 671ms\n964:\tlearn: 5884.0955912\ttotal: 18s\tremaining: 653ms\n965:\tlearn: 5876.8497275\ttotal: 18s\tremaining: 634ms\n966:\tlearn: 5866.5197407\ttotal: 18s\tremaining: 615ms\n967:\tlearn: 5860.3357097\ttotal: 18s\tremaining: 597ms\n968:\tlearn: 5853.1273732\ttotal: 18.1s\tremaining: 578ms\n969:\tlearn: 5844.1990201\ttotal: 18.1s\tremaining: 561ms\n970:\tlearn: 5837.7881648\ttotal: 18.1s\tremaining: 542ms\n971:\tlearn: 5833.3484137\ttotal: 18.2s\tremaining: 525ms\n972:\tlearn: 5827.8628854\ttotal: 18.2s\tremaining: 506ms\n973:\tlearn: 5815.6070571\ttotal: 18.3s\tremaining: 487ms\n974:\tlearn: 5813.7392162\ttotal: 18.3s\tremaining: 469ms\n975:\tlearn: 5804.7049817\ttotal: 18.3s\tremaining: 450ms\n976:\tlearn: 5793.6931726\ttotal: 18.3s\tremaining: 432ms\n977:\tlearn: 5785.0945496\ttotal: 18.4s\tremaining: 413ms\n978:\tlearn: 5780.5435896\ttotal: 18.4s\tremaining: 394ms\n979:\tlearn: 5776.1004697\ttotal: 18.4s\tremaining: 376ms\n980:\tlearn: 5769.4249391\ttotal: 18.5s\tremaining: 357ms\n981:\tlearn: 5760.9408295\ttotal: 18.5s\tremaining: 339ms\n982:\tlearn: 5759.2217930\ttotal: 18.5s\tremaining: 320ms\n983:\tlearn: 5754.2630799\ttotal: 18.5s\tremaining: 301ms\n984:\tlearn: 5748.3001119\ttotal: 18.5s\tremaining: 282ms\n985:\tlearn: 5747.8908627\ttotal: 18.6s\tremaining: 263ms\n986:\tlearn: 5741.8313870\ttotal: 18.6s\tremaining: 245ms\n987:\tlearn: 5731.1684151\ttotal: 18.6s\tremaining: 226ms\n988:\tlearn: 5724.3706989\ttotal: 18.6s\tremaining: 207ms\n989:\tlearn: 5719.5975429\ttotal: 18.6s\tremaining: 188ms\n990:\tlearn: 5708.8488193\ttotal: 18.6s\tremaining: 169ms\n991:\tlearn: 5703.4624613\ttotal: 18.7s\tremaining: 150ms\n992:\tlearn: 5698.9836534\ttotal: 18.7s\tremaining: 132ms\n993:\tlearn: 5691.7014731\ttotal: 18.7s\tremaining: 113ms\n994:\tlearn: 5684.7376230\ttotal: 18.7s\tremaining: 94.1ms\n995:\tlearn: 5678.4713733\ttotal: 18.7s\tremaining: 75.2ms\n996:\tlearn: 5677.8124992\ttotal: 18.8s\tremaining: 56.4ms\n997:\tlearn: 5673.9098875\ttotal: 18.8s\tremaining: 37.6ms\n998:\tlearn: 5671.4467391\ttotal: 18.8s\tremaining: 18.8ms\n999:\tlearn: 5670.4219460\ttotal: 18.8s\tremaining: 0us\nRunning Metrics\nlinear\n{'mean_abs_err': 57449.25993865658, 'mean_sqr_err': 5269031599.2691965}\nridge\n{'mean_abs_err': 57444.69515065999, 'mean_sqr_err': 5268127469.571573}\ndecision_tree\n{'mean_abs_err': 53038.48081292116, 'mean_sqr_err': 4912527223.223003}\nrandom_forest\n{'mean_abs_err': 52644.934432236216, 'mean_sqr_err': 4744736035.962359}\nsvm\n{'mean_abs_err': 18443.44991909781, 'mean_sqr_err': 533589258.7644754}\ncatboost\n{'mean_abs_err': 54328.61316098015, 'mean_sqr_err': 5322440626.621865}\n"
    },
    {
     "output_type": "execute_result",
     "data": {
      "text/plain": "{'mean_abs_err': 54328.61316098015, 'mean_sqr_err': 5322440626.621865}"
     },
     "metadata": {},
     "execution_count": 6
    }
   ],
   "source": [
    "# Testagem e experimentação de novos modelos, novas métricas, otimização de hiperparâmetros, features\n",
    "Experiments().run_experiment()"
   ]
  },
  {
   "cell_type": "code",
   "execution_count": 7,
   "metadata": {
    "tags": []
   },
   "outputs": [
    {
     "output_type": "stream",
     "name": "stdout",
     "text": "Loading data\nTraining preprocessing\nCreating DataFrame for Data Manipulation\nDroping columns with missing values\nDropping column with Id\nCreating list with numeric features\nCreating list with categoric features\nRemoving target\nFeature encoder\nFeature Normalization and Encoding\nTraining Model\n{'model_obj': LinearRegression(copy_X=True, fit_intercept=True, n_jobs=None, normalize=False), 'preprocessing': <preprocessing.Preprocessing object at 0x0000022E337B3108>, 'colunas': ['MSSubClass', 'LotArea', 'OverallQual', 'OverallCond', 'YearBuilt', 'YearRemodAdd', 'BsmtFinSF1', 'BsmtFinSF2', 'BsmtUnfSF', 'TotalBsmtSF', '1stFlrSF', '2ndFlrSF', 'LowQualFinSF', 'GrLivArea', 'BsmtFullBath', 'BsmtHalfBath', 'FullBath', 'HalfBath', 'BedroomAbvGr', 'KitchenAbvGr', 'TotRmsAbvGrd', 'Fireplaces', 'GarageCars', 'GarageArea', 'WoodDeckSF', 'OpenPorchSF', 'EnclosedPorch', '3SsnPorch', 'ScreenPorch', 'PoolArea', 'MiscVal', 'MoSold', 'YrSold', 'MSZoning', 'Street', 'LotShape', 'LandContour', 'Utilities', 'LotConfig', 'LandSlope', 'Neighborhood', 'Condition1', 'Condition2', 'BldgType', 'HouseStyle', 'RoofStyle', 'RoofMatl', 'Exterior1st', 'Exterior2nd', 'ExterQual', 'ExterCond', 'Foundation', 'Heating', 'HeatingQC', 'CentralAir', 'KitchenQual', 'Functional', 'PavedDrive', 'SaleType', 'SaleCondition']}\n"
    }
   ],
   "source": [
    "# Treinamento do modelo\n",
    "model = ModelTraining().model_training()"
   ]
  },
  {
   "cell_type": "code",
   "execution_count": 9,
   "metadata": {},
   "outputs": [
    {
     "output_type": "execute_result",
     "data": {
      "text/plain": "['MSSubClass',\n 'LotArea',\n 'OverallQual',\n 'OverallCond',\n 'YearBuilt',\n 'YearRemodAdd',\n 'BsmtFinSF1',\n 'BsmtFinSF2',\n 'BsmtUnfSF',\n 'TotalBsmtSF',\n '1stFlrSF',\n '2ndFlrSF',\n 'LowQualFinSF',\n 'GrLivArea',\n 'BsmtFullBath',\n 'BsmtHalfBath',\n 'FullBath',\n 'HalfBath',\n 'BedroomAbvGr',\n 'KitchenAbvGr',\n 'TotRmsAbvGrd',\n 'Fireplaces',\n 'GarageCars',\n 'GarageArea',\n 'WoodDeckSF',\n 'OpenPorchSF',\n 'EnclosedPorch',\n '3SsnPorch',\n 'ScreenPorch',\n 'PoolArea',\n 'MiscVal',\n 'MoSold',\n 'YrSold',\n 'MSZoning',\n 'Street',\n 'LotShape',\n 'LandContour',\n 'Utilities',\n 'LotConfig',\n 'LandSlope',\n 'Neighborhood',\n 'Condition1',\n 'Condition2',\n 'BldgType',\n 'HouseStyle',\n 'RoofStyle',\n 'RoofMatl',\n 'Exterior1st',\n 'Exterior2nd',\n 'ExterQual',\n 'ExterCond',\n 'Foundation',\n 'Heating',\n 'HeatingQC',\n 'CentralAir',\n 'KitchenQual',\n 'Functional',\n 'PavedDrive',\n 'SaleType',\n 'SaleCondition']"
     },
     "metadata": {},
     "execution_count": 9
    }
   ],
   "source": [
    "# Listagem de todas as features do modelo de treinamento\n",
    "model['preprocessing'].feature_names"
   ]
  },
  {
   "cell_type": "code",
   "execution_count": 10,
   "metadata": {},
   "outputs": [
    {
     "output_type": "execute_result",
     "data": {
      "text/plain": "['MSSubClass',\n 'LotArea',\n 'OverallQual',\n 'OverallCond',\n 'YearBuilt',\n 'YearRemodAdd',\n 'BsmtFinSF1',\n 'BsmtFinSF2',\n 'BsmtUnfSF',\n 'TotalBsmtSF',\n '1stFlrSF',\n '2ndFlrSF',\n 'LowQualFinSF',\n 'GrLivArea',\n 'BsmtFullBath',\n 'BsmtHalfBath',\n 'FullBath',\n 'HalfBath',\n 'BedroomAbvGr',\n 'KitchenAbvGr',\n 'TotRmsAbvGrd',\n 'Fireplaces',\n 'GarageCars',\n 'GarageArea',\n 'WoodDeckSF',\n 'OpenPorchSF',\n 'EnclosedPorch',\n '3SsnPorch',\n 'ScreenPorch',\n 'PoolArea',\n 'MiscVal',\n 'MoSold',\n 'YrSold',\n 'MSZoning',\n 'Street',\n 'LotShape',\n 'LandContour',\n 'Utilities',\n 'LotConfig',\n 'LandSlope',\n 'Neighborhood',\n 'Condition1',\n 'Condition2',\n 'BldgType',\n 'HouseStyle',\n 'RoofStyle',\n 'RoofMatl',\n 'Exterior1st',\n 'Exterior2nd',\n 'ExterQual',\n 'ExterCond',\n 'Foundation',\n 'Heating',\n 'HeatingQC',\n 'CentralAir',\n 'KitchenQual',\n 'Functional',\n 'PavedDrive',\n 'SaleType',\n 'SaleCondition']"
     },
     "metadata": {},
     "execution_count": 10
    }
   ],
   "source": [
    "# Colunas que foram treinadas pelo modelo\n",
    "model['colunas']"
   ]
  },
  {
   "cell_type": "code",
   "execution_count": 11,
   "metadata": {
    "tags": []
   },
   "outputs": [
    {
     "output_type": "stream",
     "name": "stdout",
     "text": "Loading the model\nLoading Data\nPreprocessing Data\nCreating DataFrame for Data Manipulation\nDroping columns with missing values\nDropping column with Id\nCreating list with numeric features\nCreating list with categoric features\nRemoving target\nFeature encoder\nFeature Normalization and Encoding\nMSZoning         0\nStreet           0\nLotShape         0\nLandContour      0\nUtilities        0\nLotConfig        0\nLandSlope        0\nNeighborhood     0\nCondition1       0\nCondition2       0\nBldgType         0\nHouseStyle       0\nRoofStyle        0\nRoofMatl         0\nExterior1st      0\nExterior2nd      0\nExterQual        0\nExterCond        0\nFoundation       0\nHeating          0\nHeatingQC        0\nCentralAir       0\nKitchenQual      0\nFunctional       0\nPavedDrive       0\nSaleType         0\nSaleCondition    0\nMSSubClass       0\nLotArea          0\nOverallQual      0\nOverallCond      0\nYearBuilt        0\nYearRemodAdd     0\nBsmtFinSF1       0\nBsmtFinSF2       0\nBsmtUnfSF        0\nTotalBsmtSF      0\n1stFlrSF         0\n2ndFlrSF         0\nLowQualFinSF     0\nGrLivArea        0\nBsmtFullBath     0\nBsmtHalfBath     0\nFullBath         0\nHalfBath         0\nBedroomAbvGr     0\nKitchenAbvGr     0\nTotRmsAbvGrd     0\nFireplaces       0\nGarageCars       0\nGarageArea       0\nWoodDeckSF       0\nOpenPorchSF      0\nEnclosedPorch    0\n3SsnPorch        0\nScreenPorch      0\nPoolArea         0\nMiscVal          0\nMoSold           0\nYrSold           0\ndtype: int64\nPredicting\nSaving Files\n"
    }
   ],
   "source": [
    "# Array com as previsões\n",
    "pred = ModelInference().predict()"
   ]
  },
  {
   "cell_type": "code",
   "execution_count": 12,
   "metadata": {},
   "outputs": [
    {
     "output_type": "execute_result",
     "data": {
      "text/plain": "array([110440.49171929, 171303.81954674, 170566.52843358, ...,\n       176268.95078567,  96708.91693113, 213319.8909603 ])"
     },
     "metadata": {},
     "execution_count": 12
    }
   ],
   "source": [
    "# Predições do modelo\n",
    "pred"
   ]
  },
  {
   "cell_type": "code",
   "execution_count": null,
   "metadata": {},
   "outputs": [],
   "source": []
  }
 ],
 "metadata": {
  "kernelspec": {
   "display_name": "Python 3",
   "language": "python",
   "name": "python3"
  },
  "language_info": {
   "codemirror_mode": {
    "name": "ipython",
    "version": 3
   },
   "file_extension": ".py",
   "mimetype": "text/x-python",
   "name": "python",
   "nbconvert_exporter": "python",
   "pygments_lexer": "ipython3",
   "version": "3.7.6-final"
  },
  "pycharm": {
   "stem_cell": {
    "cell_type": "raw",
    "metadata": {
     "collapsed": false
    },
    "source": []
   }
  }
 },
 "nbformat": 4,
 "nbformat_minor": 1
}