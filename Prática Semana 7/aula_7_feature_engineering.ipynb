{
  "nbformat": 4,
  "nbformat_minor": 0,
  "metadata": {
    "colab": {
      "name": "Aula 7 - Feature Engineering.ipynb",
      "version": "0.3.2",
      "provenance": [],
      "collapsed_sections": []
    },
    "kernelspec": {
      "name": "python3",
      "display_name": "Python 3"
    }
  },
  "cells": [
    {
      "cell_type": "markdown",
      "metadata": {
        "id": "MyaSGq65woLh",
        "colab_type": "text"
      },
      "source": [
        "![Codenation](https://forum.codenation.com.br/uploads/default/original/2X/2/2d2d2a9469f0171e7df2c4ee97f70c555e431e76.png)\n",
        "\n",
        "__Autor__: Kazuki Yokoyama (kazuki.yokoyama@ufrgs.br)"
      ]
    },
    {
      "cell_type": "markdown",
      "metadata": {
        "id": "mi4xZxcfBA2U",
        "colab_type": "text"
      },
      "source": [
        "# _Feature engineering_\n",
        "\n",
        "![cover](https://venturebeat.com/wp-content/uploads/2018/07/feature_engineering.jpg?resize=680%2C198&strip=all)\n",
        "\n",
        "Neste módulo, trabalharemos a engenharia de _features_, que consiste em preparar os nossos dados para alimentar os algoritmos de ML adequadamente. Ao contrário do mundo dos tutoriais, na vida real os dados dificilmente estarão prontos para serem consumidos. Grande parte do tempo de um projeto de ML é gasto com a engenharia de _features_, e quanto melhor a qualidade desta etapa, maiores são as chances de melhores resultados nas etapas seguintes."
      ]
    },
    {
      "cell_type": "markdown",
      "metadata": {
        "id": "cAxxSlo3QrZV",
        "colab_type": "text"
      },
      "source": [
        "## Importação das bibliotecas"
      ]
    },
    {
      "cell_type": "code",
      "metadata": {
        "id": "jMxYy1NkQwW6",
        "colab_type": "code",
        "colab": {}
      },
      "source": [
        "import functools\n",
        "from math import sqrt\n",
        "\n",
        "import pandas as pd\n",
        "import matplotlib.pyplot as plt\n",
        "import numpy as np\n",
        "import statsmodels.api as sm\n",
        "import scipy.stats as sct\n",
        "import seaborn as sns\n",
        "from sklearn.datasets import load_digits, fetch_20newsgroups\n",
        "from sklearn.decomposition import PCA\n",
        "from sklearn.feature_extraction.text import (\n",
        "    CountVectorizer, TfidfTransformer, TfidfVectorizer\n",
        ")\n",
        "from sklearn.impute import SimpleImputer\n",
        "from sklearn.pipeline import Pipeline\n",
        "from sklearn.preprocessing import (\n",
        "    OneHotEncoder, Binarizer, KBinsDiscretizer,\n",
        "    MinMaxScaler, StandardScaler, PolynomialFeatures\n",
        ")"
      ],
      "execution_count": 26,
      "outputs": []
    },
    {
      "cell_type": "code",
      "metadata": {
        "id": "xNbPRHkKQyv2",
        "colab_type": "code",
        "colab": {}
      },
      "source": [
        "# Algumas configurações para o matplotlib (função para setar o matplotlib).\n",
        "%matplotlib inline\n",
        "\n",
        "from IPython.core.pylabtools import figsize\n",
        "\n",
        "\n",
        "figsize(12, 12)\n",
        "\n",
        "sns.set()"
      ],
      "execution_count": 27,
      "outputs": []
    },
    {
      "cell_type": "code",
      "metadata": {
        "id": "m8onCO86Q2Hm",
        "colab_type": "code",
        "colab": {}
      },
      "source": [
        "np.random.seed(1000)"
      ],
      "execution_count": 28,
      "outputs": []
    },
    {
      "cell_type": "markdown",
      "metadata": {
        "id": "EIEVdatWDh3Z",
        "colab_type": "text"
      },
      "source": [
        "## _One-hot encoding_\n",
        "\n",
        "Até aqui, nós praticamente ignoramos a existência de variáveis categóricas. Focamos nas variáveis numéricas porque elas são simples de lidar e bastante comuns. Ainda assim, variáveis categóricas são encontradas facilmente e precisamos de uma forma de trabalhar com elas.\n",
        "\n",
        "Uma das formas mais simples de representação de variáveis categóricas é através do método chamado _one-hot enconding_. Com ele, uma variável categórica com $h$ categorias é transformada em $h$ novas variáveis binárias (0 ou 1), onde a presença do 1 (_hot_) significa que aquela observação pertence àquela categoria, e 0 (_cold_) que não pertence. Veja um exemplo abaixo:"
      ]
    },
    {
      "cell_type": "code",
      "metadata": {
        "id": "M1zv6xPDk4ym",
        "colab_type": "code",
        "outputId": "b9b41a48-556d-44e1-f142-708bae7a2d02",
        "colab": {
          "base_uri": "https://localhost:8080/",
          "height": 363
        }
      },
      "source": [
        "# Criação de um dataset\n",
        "rows = 100\n",
        "\n",
        "height = np.random.normal(loc=1.70, scale=0.2, size=rows).round(3)\n",
        "score = np.random.normal(loc=7, scale=1, size=rows).round(2)\n",
        "courses = [\"Math\", \"Physics\", \"Biology\"]\n",
        "course = np.random.choice(courses, size=rows)\n",
        "\n",
        "data = pd.DataFrame({\"Height\": height, \"Score\": score, \"Course\": course})\n",
        "\n",
        "data.head(10)"
      ],
      "execution_count": 29,
      "outputs": [
        {
          "output_type": "execute_result",
          "data": {
            "text/plain": "   Height  Score   Course\n0   1.539   6.61  Biology\n1   1.764   6.42  Biology\n2   1.695   8.95  Biology\n3   1.829   5.14  Biology\n4   1.640   6.43  Physics\n5   1.778   7.98  Physics\n6   1.679   7.90  Biology\n7   1.604   6.76  Physics\n8   1.819   7.44  Physics\n9   1.607   6.01  Physics",
            "text/html": "<div>\n<style scoped>\n    .dataframe tbody tr th:only-of-type {\n        vertical-align: middle;\n    }\n\n    .dataframe tbody tr th {\n        vertical-align: top;\n    }\n\n    .dataframe thead th {\n        text-align: right;\n    }\n</style>\n<table border=\"1\" class=\"dataframe\">\n  <thead>\n    <tr style=\"text-align: right;\">\n      <th></th>\n      <th>Height</th>\n      <th>Score</th>\n      <th>Course</th>\n    </tr>\n  </thead>\n  <tbody>\n    <tr>\n      <th>0</th>\n      <td>1.539</td>\n      <td>6.61</td>\n      <td>Biology</td>\n    </tr>\n    <tr>\n      <th>1</th>\n      <td>1.764</td>\n      <td>6.42</td>\n      <td>Biology</td>\n    </tr>\n    <tr>\n      <th>2</th>\n      <td>1.695</td>\n      <td>8.95</td>\n      <td>Biology</td>\n    </tr>\n    <tr>\n      <th>3</th>\n      <td>1.829</td>\n      <td>5.14</td>\n      <td>Biology</td>\n    </tr>\n    <tr>\n      <th>4</th>\n      <td>1.640</td>\n      <td>6.43</td>\n      <td>Physics</td>\n    </tr>\n    <tr>\n      <th>5</th>\n      <td>1.778</td>\n      <td>7.98</td>\n      <td>Physics</td>\n    </tr>\n    <tr>\n      <th>6</th>\n      <td>1.679</td>\n      <td>7.90</td>\n      <td>Biology</td>\n    </tr>\n    <tr>\n      <th>7</th>\n      <td>1.604</td>\n      <td>6.76</td>\n      <td>Physics</td>\n    </tr>\n    <tr>\n      <th>8</th>\n      <td>1.819</td>\n      <td>7.44</td>\n      <td>Physics</td>\n    </tr>\n    <tr>\n      <th>9</th>\n      <td>1.607</td>\n      <td>6.01</td>\n      <td>Physics</td>\n    </tr>\n  </tbody>\n</table>\n</div>"
          },
          "metadata": {},
          "execution_count": 29
        }
      ]
    },
    {
      "cell_type": "markdown",
      "metadata": {
        "id": "nK_6LysZP6Lw",
        "colab_type": "text"
      },
      "source": [
        "Criamos um _data set_ que contém duas variáveis numéricas (`Height` e `Score`) e uma variável categórica (`Course`). Nosso objetivo com o _one-hot encoding_ é transformar a variável `Course` em uma sequência de variáveis numéricas binárias, cada uma descrevendo uma classe da variável. Neste caso, como temos três categorias para `Course` (Biology, Physics e Math), teremos três novas variáveis binárias.\n",
        "\n",
        "Vamos treinar esse _encoder_:"
      ]
    },
    {
      "cell_type": "code",
      "metadata": {
        "id": "MDpY6XcNmYlw",
        "colab_type": "code",
        "outputId": "5fda81c9-000d-4557-cb3f-22d012b3e548",
        "colab": {
          "base_uri": "https://localhost:8080/",
          "height": 191
        }
      },
      "source": [
        "one_hot_encoder = OneHotEncoder(sparse=False, dtype=np.int)\n",
        "\n",
        "#one_hot_encoder.fit(data[[\"Course\"]])\n",
        "\n",
        "#course_encoded = one_hot_encoder.transform(...)\n",
        "\n",
        "course_encoded = one_hot_encoder.fit_transform(data[[\"Course\"]])\n",
        "\n",
        "course_encoded[:10]"
      ],
      "execution_count": 30,
      "outputs": [
        {
          "output_type": "execute_result",
          "data": {
            "text/plain": "array([[1, 0, 0],\n       [1, 0, 0],\n       [1, 0, 0],\n       [1, 0, 0],\n       [0, 0, 1],\n       [0, 0, 1],\n       [1, 0, 0],\n       [0, 0, 1],\n       [0, 0, 1],\n       [0, 0, 1]])"
          },
          "metadata": {},
          "execution_count": 30
        }
      ]
    },
    {
      "cell_type": "code",
      "execution_count": 31,
      "metadata": {},
      "outputs": [
        {
          "output_type": "execute_result",
          "data": {
            "text/plain": "    Height  Score  Course_Biology  Course_Math  Course_Physics\n0    1.539   6.61               1            0               0\n1    1.764   6.42               1            0               0\n2    1.695   8.95               1            0               0\n3    1.829   5.14               1            0               0\n4    1.640   6.43               0            0               1\n..     ...    ...             ...          ...             ...\n95   1.864   6.83               0            1               0\n96   2.018   6.47               0            0               1\n97   1.648   7.04               0            0               1\n98   1.789   5.59               0            1               0\n99   2.088   7.84               0            1               0\n\n[100 rows x 5 columns]",
            "text/html": "<div>\n<style scoped>\n    .dataframe tbody tr th:only-of-type {\n        vertical-align: middle;\n    }\n\n    .dataframe tbody tr th {\n        vertical-align: top;\n    }\n\n    .dataframe thead th {\n        text-align: right;\n    }\n</style>\n<table border=\"1\" class=\"dataframe\">\n  <thead>\n    <tr style=\"text-align: right;\">\n      <th></th>\n      <th>Height</th>\n      <th>Score</th>\n      <th>Course_Biology</th>\n      <th>Course_Math</th>\n      <th>Course_Physics</th>\n    </tr>\n  </thead>\n  <tbody>\n    <tr>\n      <th>0</th>\n      <td>1.539</td>\n      <td>6.61</td>\n      <td>1</td>\n      <td>0</td>\n      <td>0</td>\n    </tr>\n    <tr>\n      <th>1</th>\n      <td>1.764</td>\n      <td>6.42</td>\n      <td>1</td>\n      <td>0</td>\n      <td>0</td>\n    </tr>\n    <tr>\n      <th>2</th>\n      <td>1.695</td>\n      <td>8.95</td>\n      <td>1</td>\n      <td>0</td>\n      <td>0</td>\n    </tr>\n    <tr>\n      <th>3</th>\n      <td>1.829</td>\n      <td>5.14</td>\n      <td>1</td>\n      <td>0</td>\n      <td>0</td>\n    </tr>\n    <tr>\n      <th>4</th>\n      <td>1.640</td>\n      <td>6.43</td>\n      <td>0</td>\n      <td>0</td>\n      <td>1</td>\n    </tr>\n    <tr>\n      <th>...</th>\n      <td>...</td>\n      <td>...</td>\n      <td>...</td>\n      <td>...</td>\n      <td>...</td>\n    </tr>\n    <tr>\n      <th>95</th>\n      <td>1.864</td>\n      <td>6.83</td>\n      <td>0</td>\n      <td>1</td>\n      <td>0</td>\n    </tr>\n    <tr>\n      <th>96</th>\n      <td>2.018</td>\n      <td>6.47</td>\n      <td>0</td>\n      <td>0</td>\n      <td>1</td>\n    </tr>\n    <tr>\n      <th>97</th>\n      <td>1.648</td>\n      <td>7.04</td>\n      <td>0</td>\n      <td>0</td>\n      <td>1</td>\n    </tr>\n    <tr>\n      <th>98</th>\n      <td>1.789</td>\n      <td>5.59</td>\n      <td>0</td>\n      <td>1</td>\n      <td>0</td>\n    </tr>\n    <tr>\n      <th>99</th>\n      <td>2.088</td>\n      <td>7.84</td>\n      <td>0</td>\n      <td>1</td>\n      <td>0</td>\n    </tr>\n  </tbody>\n</table>\n<p>100 rows × 5 columns</p>\n</div>"
          },
          "metadata": {},
          "execution_count": 31
        }
      ],
      "source": [
        "# Uma alternativa é utilizar o pd.get_dummies\n",
        "pd.get_dummies(data)"
      ]
    },
    {
      "cell_type": "markdown",
      "metadata": {
        "id": "V-O0cMCyQqk4",
        "colab_type": "text"
      },
      "source": [
        "A saída é um `np.ndarray` com formato `(n, h)`, onde `n` é o número de observações no _data set_ e `h` é o número de categorias da variável codificada."
      ]
    },
    {
      "cell_type": "code",
      "metadata": {
        "id": "BP_QsDI6REl_",
        "colab_type": "code",
        "outputId": "10a0faf0-b05f-4ad8-f79d-7642d15862a7",
        "colab": {
          "base_uri": "https://localhost:8080/",
          "height": 34
        }
      },
      "source": [
        "course_encoded.shape"
      ],
      "execution_count": 32,
      "outputs": [
        {
          "output_type": "execute_result",
          "data": {
            "text/plain": "(100, 3)"
          },
          "metadata": {},
          "execution_count": 32
        }
      ]
    },
    {
      "cell_type": "markdown",
      "metadata": {
        "id": "eoRT2AR8RHNl",
        "colab_type": "text"
      },
      "source": [
        "No atributo `categories_` do _encoder_, temos as categorias da variável:"
      ]
    },
    {
      "cell_type": "code",
      "metadata": {
        "id": "ziGE3VCinqM7",
        "colab_type": "code",
        "outputId": "2c77ac8b-ba1b-4479-97aa-b59cff8b78bf",
        "colab": {
          "base_uri": "https://localhost:8080/",
          "height": 34
        }
      },
      "source": [
        "one_hot_encoder.categories_"
      ],
      "execution_count": 33,
      "outputs": [
        {
          "output_type": "execute_result",
          "data": {
            "text/plain": "[array(['Biology', 'Math', 'Physics'], dtype=object)]"
          },
          "metadata": {},
          "execution_count": 33
        }
      ]
    },
    {
      "cell_type": "markdown",
      "metadata": {
        "id": "y8V2WMjmRUkw",
        "colab_type": "text"
      },
      "source": [
        "Podemos criar as novas colunas que descrevem cada categoria. Repare que, para qualquer linha, apenas uma das colunas contém um 1, indicando a qual categoria aquela observação pertence. Isso acontece, obviamente, se as categorias forem mutuamente exclusivas (uma observação não pode pertencer a mais de uma categoria simultaneamente)."
      ]
    },
    {
      "cell_type": "code",
      "metadata": {
        "id": "dGepWPRFoqc0",
        "colab_type": "code",
        "outputId": "dc6a6dff-007d-4f66-cbfb-2aad4c8a7448",
        "colab": {
          "base_uri": "https://localhost:8080/",
          "height": 363
        }
      },
      "source": [
        "columns_encoded = one_hot_encoder.categories_[0]\n",
        "\n",
        "data_encoded = pd.concat([data, pd.DataFrame(course_encoded, columns=columns_encoded)], axis=1)\n",
        "\n",
        "data_encoded.head(10)"
      ],
      "execution_count": 34,
      "outputs": [
        {
          "output_type": "execute_result",
          "data": {
            "text/plain": "   Height  Score   Course  Biology  Math  Physics\n0   1.539   6.61  Biology        1     0        0\n1   1.764   6.42  Biology        1     0        0\n2   1.695   8.95  Biology        1     0        0\n3   1.829   5.14  Biology        1     0        0\n4   1.640   6.43  Physics        0     0        1\n5   1.778   7.98  Physics        0     0        1\n6   1.679   7.90  Biology        1     0        0\n7   1.604   6.76  Physics        0     0        1\n8   1.819   7.44  Physics        0     0        1\n9   1.607   6.01  Physics        0     0        1",
            "text/html": "<div>\n<style scoped>\n    .dataframe tbody tr th:only-of-type {\n        vertical-align: middle;\n    }\n\n    .dataframe tbody tr th {\n        vertical-align: top;\n    }\n\n    .dataframe thead th {\n        text-align: right;\n    }\n</style>\n<table border=\"1\" class=\"dataframe\">\n  <thead>\n    <tr style=\"text-align: right;\">\n      <th></th>\n      <th>Height</th>\n      <th>Score</th>\n      <th>Course</th>\n      <th>Biology</th>\n      <th>Math</th>\n      <th>Physics</th>\n    </tr>\n  </thead>\n  <tbody>\n    <tr>\n      <th>0</th>\n      <td>1.539</td>\n      <td>6.61</td>\n      <td>Biology</td>\n      <td>1</td>\n      <td>0</td>\n      <td>0</td>\n    </tr>\n    <tr>\n      <th>1</th>\n      <td>1.764</td>\n      <td>6.42</td>\n      <td>Biology</td>\n      <td>1</td>\n      <td>0</td>\n      <td>0</td>\n    </tr>\n    <tr>\n      <th>2</th>\n      <td>1.695</td>\n      <td>8.95</td>\n      <td>Biology</td>\n      <td>1</td>\n      <td>0</td>\n      <td>0</td>\n    </tr>\n    <tr>\n      <th>3</th>\n      <td>1.829</td>\n      <td>5.14</td>\n      <td>Biology</td>\n      <td>1</td>\n      <td>0</td>\n      <td>0</td>\n    </tr>\n    <tr>\n      <th>4</th>\n      <td>1.640</td>\n      <td>6.43</td>\n      <td>Physics</td>\n      <td>0</td>\n      <td>0</td>\n      <td>1</td>\n    </tr>\n    <tr>\n      <th>5</th>\n      <td>1.778</td>\n      <td>7.98</td>\n      <td>Physics</td>\n      <td>0</td>\n      <td>0</td>\n      <td>1</td>\n    </tr>\n    <tr>\n      <th>6</th>\n      <td>1.679</td>\n      <td>7.90</td>\n      <td>Biology</td>\n      <td>1</td>\n      <td>0</td>\n      <td>0</td>\n    </tr>\n    <tr>\n      <th>7</th>\n      <td>1.604</td>\n      <td>6.76</td>\n      <td>Physics</td>\n      <td>0</td>\n      <td>0</td>\n      <td>1</td>\n    </tr>\n    <tr>\n      <th>8</th>\n      <td>1.819</td>\n      <td>7.44</td>\n      <td>Physics</td>\n      <td>0</td>\n      <td>0</td>\n      <td>1</td>\n    </tr>\n    <tr>\n      <th>9</th>\n      <td>1.607</td>\n      <td>6.01</td>\n      <td>Physics</td>\n      <td>0</td>\n      <td>0</td>\n      <td>1</td>\n    </tr>\n  </tbody>\n</table>\n</div>"
          },
          "metadata": {},
          "execution_count": 34
        }
      ]
    },
    {
      "cell_type": "markdown",
      "metadata": {
        "id": "iIiVR7P4SHXz",
        "colab_type": "text"
      },
      "source": [
        "Como você deve imaginar, a maior parte da matriz retornada é composta por zeros, sendo apenas alguns elementos compostos de um. Dizemos que essa matriz é __esparsa__. É um grande desperdício de memória trabalhar diretamente como uma matriz esparsa assim. Por isso, o _default_ do `OneHotEncoder` é retornar uma `sparse matrix` do NumPy, economizando espaço em memória:"
      ]
    },
    {
      "cell_type": "code",
      "metadata": {
        "id": "muGSmJckraf3",
        "colab_type": "code",
        "outputId": "c8957d2b-68c4-4722-80ea-5e241c479a88",
        "colab": {
          "base_uri": "https://localhost:8080/",
          "height": 52
        }
      },
      "source": [
        "one_hot_encoder_sparse = OneHotEncoder(sparse=True) # sparse=True é o default.\n",
        "\n",
        "course_encoded_sparse = one_hot_encoder_sparse.fit_transform(data[[\"Course\"]])\n",
        "\n",
        "course_encoded_sparse"
      ],
      "execution_count": 35,
      "outputs": [
        {
          "output_type": "execute_result",
          "data": {
            "text/plain": "<100x3 sparse matrix of type '<class 'numpy.float64'>'\n\twith 100 stored elements in Compressed Sparse Row format>"
          },
          "metadata": {},
          "execution_count": 35
        }
      ]
    },
    {
      "cell_type": "markdown",
      "metadata": {
        "id": "FOYl0Lx8TPJm",
        "colab_type": "text"
      },
      "source": [
        "Para acessar os dados dessa matriz, podemos convertê-la para um _array_ não esparso:"
      ]
    },
    {
      "cell_type": "code",
      "metadata": {
        "id": "mtUziaQmrqTN",
        "colab_type": "code",
        "outputId": "bb7920ae-69a0-4543-97da-b1fc2746ddd0",
        "colab": {
          "base_uri": "https://localhost:8080/",
          "height": 191
        }
      },
      "source": [
        "course_encoded_sparse.toarray()[:10]"
      ],
      "execution_count": 36,
      "outputs": [
        {
          "output_type": "execute_result",
          "data": {
            "text/plain": "array([[1., 0., 0.],\n       [1., 0., 0.],\n       [1., 0., 0.],\n       [1., 0., 0.],\n       [0., 0., 1.],\n       [0., 0., 1.],\n       [1., 0., 0.],\n       [0., 0., 1.],\n       [0., 0., 1.],\n       [0., 0., 1.]])"
          },
          "metadata": {},
          "execution_count": 36
        }
      ]
    },
    {
      "cell_type": "markdown",
      "metadata": {
        "id": "zHGmVXu1uEvM",
        "colab_type": "text"
      },
      "source": [
        "## Binarização (_Binarization_)\n",
        "\n",
        "Binarização é o processo de discretizar uma variável numérica em dois níveis com base em um _threshold_. Isso pode ser útil, por exemplo, para tornar uma variável numérica contínua em uma variável binária alvo de duas classes (positiva ou negativa).\n",
        "\n",
        "No exemplo abaixo, vamos separar a variável `Height` em dois grupos, utilizando 1.80 m como _threshold_ de separação. Observações que possuam menos de 1.80 m terão valor 0, enquanto aquelas com mais de 1.80 m terão valor 1:"
      ]
    },
    {
      "cell_type": "code",
      "metadata": {
        "id": "PeGrPpyWPcOw",
        "colab_type": "code",
        "outputId": "edb6b4c4-97e9-4914-f952-aa60c6dbbbc2",
        "colab": {
          "base_uri": "https://localhost:8080/",
          "height": 208
        }
      },
      "source": [
        "tall = (data_encoded.Height > 1.80)\n",
        "\n",
        "tall[:10]"
      ],
      "execution_count": 37,
      "outputs": [
        {
          "output_type": "execute_result",
          "data": {
            "text/plain": "0    False\n1    False\n2    False\n3     True\n4    False\n5    False\n6    False\n7    False\n8     True\n9    False\nName: Height, dtype: bool"
          },
          "metadata": {},
          "execution_count": 37
        }
      ]
    },
    {
      "cell_type": "code",
      "metadata": {
        "id": "94vcsMVguGvG",
        "colab_type": "code",
        "outputId": "b2b15447-7399-4309-b18a-3de5a183a41e",
        "colab": {
          "base_uri": "https://localhost:8080/",
          "height": 191
        }
      },
      "source": [
        "binarizer = Binarizer(threshold=1.80).fit(data_encoded[[\"Height\"]])\n",
        "\n",
        "height_binary = binarizer.transform(data_encoded[[\"Height\"]])\n",
        "\n",
        "height_binary[:10]"
      ],
      "execution_count": 38,
      "outputs": [
        {
          "output_type": "execute_result",
          "data": {
            "text/plain": "array([[0.],\n       [0.],\n       [0.],\n       [1.],\n       [0.],\n       [0.],\n       [0.],\n       [0.],\n       [1.],\n       [0.]])"
          },
          "metadata": {},
          "execution_count": 38
        }
      ]
    },
    {
      "cell_type": "markdown",
      "metadata": {
        "id": "oND_xnxRV8wZ",
        "colab_type": "text"
      },
      "source": [
        "O `Binarizer` tem como saída uma matriz binária numérica. Podemos transformá-la em um vetor de _bool_:"
      ]
    },
    {
      "cell_type": "code",
      "metadata": {
        "id": "iXbf50-4vdDR",
        "colab_type": "code",
        "outputId": "2f7dba40-f513-491a-e072-743ac0a8c88f",
        "colab": {
          "base_uri": "https://localhost:8080/",
          "height": 363
        }
      },
      "source": [
        "height_bool = pd.DataFrame(height_binary.flatten().astype(bool), columns=[\"Tall\"])\n",
        "\n",
        "height_bool.head(10)"
      ],
      "execution_count": 39,
      "outputs": [
        {
          "output_type": "execute_result",
          "data": {
            "text/plain": "    Tall\n0  False\n1  False\n2  False\n3   True\n4  False\n5  False\n6  False\n7  False\n8   True\n9  False",
            "text/html": "<div>\n<style scoped>\n    .dataframe tbody tr th:only-of-type {\n        vertical-align: middle;\n    }\n\n    .dataframe tbody tr th {\n        vertical-align: top;\n    }\n\n    .dataframe thead th {\n        text-align: right;\n    }\n</style>\n<table border=\"1\" class=\"dataframe\">\n  <thead>\n    <tr style=\"text-align: right;\">\n      <th></th>\n      <th>Tall</th>\n    </tr>\n  </thead>\n  <tbody>\n    <tr>\n      <th>0</th>\n      <td>False</td>\n    </tr>\n    <tr>\n      <th>1</th>\n      <td>False</td>\n    </tr>\n    <tr>\n      <th>2</th>\n      <td>False</td>\n    </tr>\n    <tr>\n      <th>3</th>\n      <td>True</td>\n    </tr>\n    <tr>\n      <th>4</th>\n      <td>False</td>\n    </tr>\n    <tr>\n      <th>5</th>\n      <td>False</td>\n    </tr>\n    <tr>\n      <th>6</th>\n      <td>False</td>\n    </tr>\n    <tr>\n      <th>7</th>\n      <td>False</td>\n    </tr>\n    <tr>\n      <th>8</th>\n      <td>True</td>\n    </tr>\n    <tr>\n      <th>9</th>\n      <td>False</td>\n    </tr>\n  </tbody>\n</table>\n</div>"
          },
          "metadata": {},
          "execution_count": 39
        }
      ]
    },
    {
      "cell_type": "markdown",
      "metadata": {
        "id": "nn9Gs9DhWNvi",
        "colab_type": "text"
      },
      "source": [
        "Vamos adicionar a nova variável `Tall`, que indica se a pessoa é alta (> 1.80 m), ao nosso _data set_:"
      ]
    },
    {
      "cell_type": "code",
      "metadata": {
        "id": "xjOV0WlJy7DY",
        "colab_type": "code",
        "outputId": "af316c4b-4931-44cb-a4af-4fa51b3c93fc",
        "colab": {
          "base_uri": "https://localhost:8080/",
          "height": 363
        }
      },
      "source": [
        "data_encoded = pd.concat([data_encoded, height_bool], axis=1)\n",
        "\n",
        "data_encoded.head(10)"
      ],
      "execution_count": 40,
      "outputs": [
        {
          "output_type": "execute_result",
          "data": {
            "text/plain": "   Height  Score   Course  Biology  Math  Physics   Tall\n0   1.539   6.61  Biology        1     0        0  False\n1   1.764   6.42  Biology        1     0        0  False\n2   1.695   8.95  Biology        1     0        0  False\n3   1.829   5.14  Biology        1     0        0   True\n4   1.640   6.43  Physics        0     0        1  False\n5   1.778   7.98  Physics        0     0        1  False\n6   1.679   7.90  Biology        1     0        0  False\n7   1.604   6.76  Physics        0     0        1  False\n8   1.819   7.44  Physics        0     0        1   True\n9   1.607   6.01  Physics        0     0        1  False",
            "text/html": "<div>\n<style scoped>\n    .dataframe tbody tr th:only-of-type {\n        vertical-align: middle;\n    }\n\n    .dataframe tbody tr th {\n        vertical-align: top;\n    }\n\n    .dataframe thead th {\n        text-align: right;\n    }\n</style>\n<table border=\"1\" class=\"dataframe\">\n  <thead>\n    <tr style=\"text-align: right;\">\n      <th></th>\n      <th>Height</th>\n      <th>Score</th>\n      <th>Course</th>\n      <th>Biology</th>\n      <th>Math</th>\n      <th>Physics</th>\n      <th>Tall</th>\n    </tr>\n  </thead>\n  <tbody>\n    <tr>\n      <th>0</th>\n      <td>1.539</td>\n      <td>6.61</td>\n      <td>Biology</td>\n      <td>1</td>\n      <td>0</td>\n      <td>0</td>\n      <td>False</td>\n    </tr>\n    <tr>\n      <th>1</th>\n      <td>1.764</td>\n      <td>6.42</td>\n      <td>Biology</td>\n      <td>1</td>\n      <td>0</td>\n      <td>0</td>\n      <td>False</td>\n    </tr>\n    <tr>\n      <th>2</th>\n      <td>1.695</td>\n      <td>8.95</td>\n      <td>Biology</td>\n      <td>1</td>\n      <td>0</td>\n      <td>0</td>\n      <td>False</td>\n    </tr>\n    <tr>\n      <th>3</th>\n      <td>1.829</td>\n      <td>5.14</td>\n      <td>Biology</td>\n      <td>1</td>\n      <td>0</td>\n      <td>0</td>\n      <td>True</td>\n    </tr>\n    <tr>\n      <th>4</th>\n      <td>1.640</td>\n      <td>6.43</td>\n      <td>Physics</td>\n      <td>0</td>\n      <td>0</td>\n      <td>1</td>\n      <td>False</td>\n    </tr>\n    <tr>\n      <th>5</th>\n      <td>1.778</td>\n      <td>7.98</td>\n      <td>Physics</td>\n      <td>0</td>\n      <td>0</td>\n      <td>1</td>\n      <td>False</td>\n    </tr>\n    <tr>\n      <th>6</th>\n      <td>1.679</td>\n      <td>7.90</td>\n      <td>Biology</td>\n      <td>1</td>\n      <td>0</td>\n      <td>0</td>\n      <td>False</td>\n    </tr>\n    <tr>\n      <th>7</th>\n      <td>1.604</td>\n      <td>6.76</td>\n      <td>Physics</td>\n      <td>0</td>\n      <td>0</td>\n      <td>1</td>\n      <td>False</td>\n    </tr>\n    <tr>\n      <th>8</th>\n      <td>1.819</td>\n      <td>7.44</td>\n      <td>Physics</td>\n      <td>0</td>\n      <td>0</td>\n      <td>1</td>\n      <td>True</td>\n    </tr>\n    <tr>\n      <th>9</th>\n      <td>1.607</td>\n      <td>6.01</td>\n      <td>Physics</td>\n      <td>0</td>\n      <td>0</td>\n      <td>1</td>\n      <td>False</td>\n    </tr>\n  </tbody>\n</table>\n</div>"
          },
          "metadata": {},
          "execution_count": 40
        }
      ]
    },
    {
      "cell_type": "markdown",
      "metadata": {
        "id": "2tOdmnNi23p4",
        "colab_type": "text"
      },
      "source": [
        "## Discretização (_Binning_)\n",
        "\n",
        "Discretização, como o nome diz, é o processo de discretizar ou separar em intervalos contínuos uma variável numérica. Isso pode ser útil para converter uma variável numérica em categórica, quando o valor exato numérico não for tão importante quanto o intervalo onde ele se encontra.\n",
        "\n",
        "Podemos criar _bins_ (_buckets_ ou intervalos) que contenham aproximadamente a mesma quantidade de observações, utilizando a estratégia `quantile` ou que sejam igualmente espaçados com a estratégia `uniform`.\n",
        "\n",
        "No exemplo a seguir, criamos quatro intervalos da variável `Score` com a estratégia `quantile`:"
      ]
    },
    {
      "cell_type": "code",
      "metadata": {
        "id": "Xir4K6i522ZQ",
        "colab_type": "code",
        "outputId": "e902850a-d3dc-4d97-a80f-ad3dad1bb1a2",
        "colab": {
          "base_uri": "https://localhost:8080/",
          "height": 191
        }
      },
      "source": [
        "discretizer = KBinsDiscretizer(n_bins=4, encode=\"ordinal\", strategy=\"quantile\")\n",
        "\n",
        "discretizer.fit(data_encoded[[\"Score\"]])\n",
        "\n",
        "score_bins = discretizer.transform(data_encoded[[\"Score\"]])\n",
        "\n",
        "score_bins[:10]"
      ],
      "execution_count": 41,
      "outputs": [
        {
          "output_type": "execute_result",
          "data": {
            "text/plain": "array([[1.],\n       [1.],\n       [3.],\n       [0.],\n       [1.],\n       [3.],\n       [3.],\n       [2.],\n       [2.],\n       [0.]])"
          },
          "metadata": {},
          "execution_count": 41
        }
      ]
    },
    {
      "cell_type": "markdown",
      "metadata": {
        "id": "3hrP6E4xYXCs",
        "colab_type": "text"
      },
      "source": [
        "Os limites dos intervalos estão disponíveis no atributo `bin_edges_`. Isso pode ser útil para criarmos _labels_ para colunas do _data set_ por exemplo:"
      ]
    },
    {
      "cell_type": "code",
      "metadata": {
        "id": "ScCmeNtn3-fF",
        "colab_type": "code",
        "outputId": "be1003a5-2d28-42d6-e76d-bc349e957e95",
        "colab": {
          "base_uri": "https://localhost:8080/",
          "height": 34
        }
      },
      "source": [
        "discretizer.bin_edges_"
      ],
      "execution_count": 42,
      "outputs": [
        {
          "output_type": "execute_result",
          "data": {
            "text/plain": "array([array([4.09  , 6.1975, 6.735 , 7.6   , 9.28  ])], dtype=object)"
          },
          "metadata": {},
          "execution_count": 42
        }
      ]
    },
    {
      "cell_type": "markdown",
      "metadata": {
        "id": "vGl5ONq2Yk7r",
        "colab_type": "text"
      },
      "source": [
        "A função `get_interval()` abaixo facilita a criação de _labels_ indicativas dos intervalos:"
      ]
    },
    {
      "cell_type": "code",
      "metadata": {
        "id": "fvB70_vd4fSO",
        "colab_type": "code",
        "colab": {}
      },
      "source": [
        "def get_interval(bin_idx, bin_edges):\n",
        "  return f\"{np.round(bin_edges[bin_idx], 2):.2f} ⊢ {np.round(bin_edges[bin_idx+1], 2):.2f}\""
      ],
      "execution_count": 43,
      "outputs": []
    },
    {
      "cell_type": "markdown",
      "metadata": {
        "id": "Hn3eqHFbYtfm",
        "colab_type": "text"
      },
      "source": [
        "Cada um dos intervalos mostrados abaixo deve possuir aproximadamente a mesma quantidade de observações:"
      ]
    },
    {
      "cell_type": "code",
      "metadata": {
        "id": "HX59pepN5ZQQ",
        "colab_type": "code",
        "outputId": "d5b3d4dc-c969-44cb-fa34-e31fad2dd818",
        "colab": {
          "base_uri": "https://localhost:8080/",
          "height": 139
        },
        "tags": []
      },
      "source": [
        "bin_edges_quantile = discretizer.bin_edges_[0]\n",
        "\n",
        "print(f\"Bins quantile\")\n",
        "print(f\"interval: #elements\\n\")\n",
        "for i in range(len(discretizer.bin_edges_[0])-1):\n",
        "    print(f\"{get_interval(i, bin_edges_quantile)}: {sum(score_bins[:, 0] == i)}\")"
      ],
      "execution_count": 44,
      "outputs": [
        {
          "output_type": "stream",
          "name": "stdout",
          "text": "Bins quantile\ninterval: #elements\n\n4.09 ⊢ 6.20: 25\n6.20 ⊢ 6.74: 25\n6.74 ⊢ 7.60: 25\n7.60 ⊢ 9.28: 25\n"
        }
      ]
    },
    {
      "cell_type": "markdown",
      "metadata": {
        "id": "OQ0fli3IY2G6",
        "colab_type": "text"
      },
      "source": [
        "A _Series_ abaixo mostra alguns dos intervalos para os quais as observações foram encaixadas:"
      ]
    },
    {
      "cell_type": "code",
      "metadata": {
        "id": "SZMBYjqR5-H6",
        "colab_type": "code",
        "outputId": "cba541dc-9f9e-48d8-eb87-fa54440ca353",
        "colab": {
          "base_uri": "https://localhost:8080/",
          "height": 208
        }
      },
      "source": [
        "score_intervals = pd.Series(score_bins.flatten().astype(np.int)).apply(get_interval, args=(bin_edges_quantile,))\n",
        "\n",
        "score_intervals.head(10)"
      ],
      "execution_count": 45,
      "outputs": [
        {
          "output_type": "execute_result",
          "data": {
            "text/plain": "0    6.20 ⊢ 6.74\n1    6.20 ⊢ 6.74\n2    7.60 ⊢ 9.28\n3    4.09 ⊢ 6.20\n4    6.20 ⊢ 6.74\n5    7.60 ⊢ 9.28\n6    7.60 ⊢ 9.28\n7    6.74 ⊢ 7.60\n8    6.74 ⊢ 7.60\n9    4.09 ⊢ 6.20\ndtype: object"
          },
          "metadata": {},
          "execution_count": 45
        }
      ]
    },
    {
      "cell_type": "markdown",
      "metadata": {
        "id": "6gWE7IU6Y_9q",
        "colab_type": "text"
      },
      "source": [
        "Também podemos criar uma nova variável, `Score_interval`, no nosso _data set_ com os intervalos (que agora são categorias):"
      ]
    },
    {
      "cell_type": "code",
      "metadata": {
        "id": "fomFOQbVA8eS",
        "colab_type": "code",
        "outputId": "1f065c4f-6da4-43ad-ebb7-b58706595871",
        "colab": {
          "base_uri": "https://localhost:8080/",
          "height": 363
        }
      },
      "source": [
        "data_encoded = pd.concat([data_encoded, pd.DataFrame(score_intervals, columns=[\"Score_interval\"])], axis=1)\n",
        "\n",
        "data_encoded.head(10)"
      ],
      "execution_count": 46,
      "outputs": [
        {
          "output_type": "execute_result",
          "data": {
            "text/plain": "   Height  Score   Course  Biology  Math  Physics   Tall Score_interval\n0   1.539   6.61  Biology        1     0        0  False    6.20 ⊢ 6.74\n1   1.764   6.42  Biology        1     0        0  False    6.20 ⊢ 6.74\n2   1.695   8.95  Biology        1     0        0  False    7.60 ⊢ 9.28\n3   1.829   5.14  Biology        1     0        0   True    4.09 ⊢ 6.20\n4   1.640   6.43  Physics        0     0        1  False    6.20 ⊢ 6.74\n5   1.778   7.98  Physics        0     0        1  False    7.60 ⊢ 9.28\n6   1.679   7.90  Biology        1     0        0  False    7.60 ⊢ 9.28\n7   1.604   6.76  Physics        0     0        1  False    6.74 ⊢ 7.60\n8   1.819   7.44  Physics        0     0        1   True    6.74 ⊢ 7.60\n9   1.607   6.01  Physics        0     0        1  False    4.09 ⊢ 6.20",
            "text/html": "<div>\n<style scoped>\n    .dataframe tbody tr th:only-of-type {\n        vertical-align: middle;\n    }\n\n    .dataframe tbody tr th {\n        vertical-align: top;\n    }\n\n    .dataframe thead th {\n        text-align: right;\n    }\n</style>\n<table border=\"1\" class=\"dataframe\">\n  <thead>\n    <tr style=\"text-align: right;\">\n      <th></th>\n      <th>Height</th>\n      <th>Score</th>\n      <th>Course</th>\n      <th>Biology</th>\n      <th>Math</th>\n      <th>Physics</th>\n      <th>Tall</th>\n      <th>Score_interval</th>\n    </tr>\n  </thead>\n  <tbody>\n    <tr>\n      <th>0</th>\n      <td>1.539</td>\n      <td>6.61</td>\n      <td>Biology</td>\n      <td>1</td>\n      <td>0</td>\n      <td>0</td>\n      <td>False</td>\n      <td>6.20 ⊢ 6.74</td>\n    </tr>\n    <tr>\n      <th>1</th>\n      <td>1.764</td>\n      <td>6.42</td>\n      <td>Biology</td>\n      <td>1</td>\n      <td>0</td>\n      <td>0</td>\n      <td>False</td>\n      <td>6.20 ⊢ 6.74</td>\n    </tr>\n    <tr>\n      <th>2</th>\n      <td>1.695</td>\n      <td>8.95</td>\n      <td>Biology</td>\n      <td>1</td>\n      <td>0</td>\n      <td>0</td>\n      <td>False</td>\n      <td>7.60 ⊢ 9.28</td>\n    </tr>\n    <tr>\n      <th>3</th>\n      <td>1.829</td>\n      <td>5.14</td>\n      <td>Biology</td>\n      <td>1</td>\n      <td>0</td>\n      <td>0</td>\n      <td>True</td>\n      <td>4.09 ⊢ 6.20</td>\n    </tr>\n    <tr>\n      <th>4</th>\n      <td>1.640</td>\n      <td>6.43</td>\n      <td>Physics</td>\n      <td>0</td>\n      <td>0</td>\n      <td>1</td>\n      <td>False</td>\n      <td>6.20 ⊢ 6.74</td>\n    </tr>\n    <tr>\n      <th>5</th>\n      <td>1.778</td>\n      <td>7.98</td>\n      <td>Physics</td>\n      <td>0</td>\n      <td>0</td>\n      <td>1</td>\n      <td>False</td>\n      <td>7.60 ⊢ 9.28</td>\n    </tr>\n    <tr>\n      <th>6</th>\n      <td>1.679</td>\n      <td>7.90</td>\n      <td>Biology</td>\n      <td>1</td>\n      <td>0</td>\n      <td>0</td>\n      <td>False</td>\n      <td>7.60 ⊢ 9.28</td>\n    </tr>\n    <tr>\n      <th>7</th>\n      <td>1.604</td>\n      <td>6.76</td>\n      <td>Physics</td>\n      <td>0</td>\n      <td>0</td>\n      <td>1</td>\n      <td>False</td>\n      <td>6.74 ⊢ 7.60</td>\n    </tr>\n    <tr>\n      <th>8</th>\n      <td>1.819</td>\n      <td>7.44</td>\n      <td>Physics</td>\n      <td>0</td>\n      <td>0</td>\n      <td>1</td>\n      <td>True</td>\n      <td>6.74 ⊢ 7.60</td>\n    </tr>\n    <tr>\n      <th>9</th>\n      <td>1.607</td>\n      <td>6.01</td>\n      <td>Physics</td>\n      <td>0</td>\n      <td>0</td>\n      <td>1</td>\n      <td>False</td>\n      <td>4.09 ⊢ 6.20</td>\n    </tr>\n  </tbody>\n</table>\n</div>"
          },
          "metadata": {},
          "execution_count": 46
        }
      ]
    },
    {
      "cell_type": "markdown",
      "metadata": {
        "id": "LldlZ92lZN1k",
        "colab_type": "text"
      },
      "source": [
        "Como dito, podemos utilizar a estratégia `uniform` para criar _bins_ igualmente espaçados, independente do número de observações que cada um possui. Também podemos especificar o tipo de codificação utilizada. No caso a seguir, utilizamos `encode=onehot-dense` para informar que queremos que a saída seja codificada como o _one-hot encode_ visto anteriormente:"
      ]
    },
    {
      "cell_type": "code",
      "metadata": {
        "id": "E6L1qXuW-v-n",
        "colab_type": "code",
        "outputId": "956f9e9f-67ba-436f-f457-889ee2d1f3db",
        "colab": {
          "base_uri": "https://localhost:8080/",
          "height": 191
        }
      },
      "source": [
        "discretizer_uniform = KBinsDiscretizer(n_bins=4, encode=\"onehot-dense\", strategy=\"uniform\")\n",
        "\n",
        "discretizer_uniform.fit(data_encoded[[\"Score\"]])\n",
        "\n",
        "score_bins_uniform = discretizer_uniform.transform(data_encoded[[\"Score\"]]).astype(np.int)\n",
        "\n",
        "score_bins_uniform[:10]"
      ],
      "execution_count": 47,
      "outputs": [
        {
          "output_type": "execute_result",
          "data": {
            "text/plain": "array([[0, 1, 0, 0],\n       [0, 1, 0, 0],\n       [0, 0, 0, 1],\n       [1, 0, 0, 0],\n       [0, 1, 0, 0],\n       [0, 0, 1, 0],\n       [0, 0, 1, 0],\n       [0, 0, 1, 0],\n       [0, 0, 1, 0],\n       [0, 1, 0, 0]])"
          },
          "metadata": {},
          "execution_count": 47
        }
      ]
    },
    {
      "cell_type": "markdown",
      "metadata": {
        "id": "YapI8RuMZZfM",
        "colab_type": "text"
      },
      "source": [
        "Note como agora os intervalos são ligeiramente diferentes:"
      ]
    },
    {
      "cell_type": "code",
      "metadata": {
        "id": "P8gW9k-w-_CC",
        "colab_type": "code",
        "outputId": "731fca86-f052-4a93-e5bf-e13eec18ac8b",
        "colab": {
          "base_uri": "https://localhost:8080/",
          "height": 34
        }
      },
      "source": [
        "bin_edges_uniform = discretizer_uniform.bin_edges_[0]\n",
        "\n",
        "bin_edges_uniform"
      ],
      "execution_count": 48,
      "outputs": [
        {
          "output_type": "execute_result",
          "data": {
            "text/plain": "array([4.09  , 5.3875, 6.685 , 7.9825, 9.28  ])"
          },
          "metadata": {},
          "execution_count": 48
        }
      ]
    },
    {
      "cell_type": "code",
      "metadata": {
        "id": "ieyy46EJAnb6",
        "colab_type": "code",
        "outputId": "99835fa9-8003-4060-afae-2c4de66685ff",
        "colab": {
          "base_uri": "https://localhost:8080/",
          "height": 139
        },
        "tags": []
      },
      "source": [
        "score_intervals_columns = [get_interval(i, bin_edges_uniform) for i in range(4)]\n",
        "\n",
        "print(f\"Bins uniform\")\n",
        "print(f\"interval: #elements\\n\")\n",
        "for i in range(len(discretizer_uniform.bin_edges_[0])-1):\n",
        "    print(f\"{get_interval(i, bin_edges_uniform)}: {sum(score_bins_uniform[:, i])}\")"
      ],
      "execution_count": 49,
      "outputs": [
        {
          "output_type": "stream",
          "name": "stdout",
          "text": "Bins uniform\ninterval: #elements\n\n4.09 ⊢ 5.39: 6\n5.39 ⊢ 6.68: 43\n6.68 ⊢ 7.98: 44\n7.98 ⊢ 9.28: 7\n"
        }
      ]
    },
    {
      "cell_type": "markdown",
      "metadata": {
        "id": "WuWi-1U4Zzf_",
        "colab_type": "text"
      },
      "source": [
        "Podemos adicionar as novas variáveis binárias no _data set_:"
      ]
    },
    {
      "cell_type": "code",
      "metadata": {
        "id": "P-v3UgiQB87S",
        "colab_type": "code",
        "outputId": "ad22d68f-c0e8-4a91-8838-842e7e2f5041",
        "colab": {
          "base_uri": "https://localhost:8080/",
          "height": 363
        }
      },
      "source": [
        "data_encoded = pd.concat([data_encoded, pd.DataFrame(score_bins_uniform, columns=score_intervals_columns)], axis=1)\n",
        "\n",
        "data_encoded.head(10)"
      ],
      "execution_count": 50,
      "outputs": [
        {
          "output_type": "execute_result",
          "data": {
            "text/plain": "   Height  Score   Course  Biology  Math  Physics   Tall Score_interval  \\\n0   1.539   6.61  Biology        1     0        0  False    6.20 ⊢ 6.74   \n1   1.764   6.42  Biology        1     0        0  False    6.20 ⊢ 6.74   \n2   1.695   8.95  Biology        1     0        0  False    7.60 ⊢ 9.28   \n3   1.829   5.14  Biology        1     0        0   True    4.09 ⊢ 6.20   \n4   1.640   6.43  Physics        0     0        1  False    6.20 ⊢ 6.74   \n5   1.778   7.98  Physics        0     0        1  False    7.60 ⊢ 9.28   \n6   1.679   7.90  Biology        1     0        0  False    7.60 ⊢ 9.28   \n7   1.604   6.76  Physics        0     0        1  False    6.74 ⊢ 7.60   \n8   1.819   7.44  Physics        0     0        1   True    6.74 ⊢ 7.60   \n9   1.607   6.01  Physics        0     0        1  False    4.09 ⊢ 6.20   \n\n   4.09 ⊢ 5.39  5.39 ⊢ 6.68  6.68 ⊢ 7.98  7.98 ⊢ 9.28  \n0            0            1            0            0  \n1            0            1            0            0  \n2            0            0            0            1  \n3            1            0            0            0  \n4            0            1            0            0  \n5            0            0            1            0  \n6            0            0            1            0  \n7            0            0            1            0  \n8            0            0            1            0  \n9            0            1            0            0  ",
            "text/html": "<div>\n<style scoped>\n    .dataframe tbody tr th:only-of-type {\n        vertical-align: middle;\n    }\n\n    .dataframe tbody tr th {\n        vertical-align: top;\n    }\n\n    .dataframe thead th {\n        text-align: right;\n    }\n</style>\n<table border=\"1\" class=\"dataframe\">\n  <thead>\n    <tr style=\"text-align: right;\">\n      <th></th>\n      <th>Height</th>\n      <th>Score</th>\n      <th>Course</th>\n      <th>Biology</th>\n      <th>Math</th>\n      <th>Physics</th>\n      <th>Tall</th>\n      <th>Score_interval</th>\n      <th>4.09 ⊢ 5.39</th>\n      <th>5.39 ⊢ 6.68</th>\n      <th>6.68 ⊢ 7.98</th>\n      <th>7.98 ⊢ 9.28</th>\n    </tr>\n  </thead>\n  <tbody>\n    <tr>\n      <th>0</th>\n      <td>1.539</td>\n      <td>6.61</td>\n      <td>Biology</td>\n      <td>1</td>\n      <td>0</td>\n      <td>0</td>\n      <td>False</td>\n      <td>6.20 ⊢ 6.74</td>\n      <td>0</td>\n      <td>1</td>\n      <td>0</td>\n      <td>0</td>\n    </tr>\n    <tr>\n      <th>1</th>\n      <td>1.764</td>\n      <td>6.42</td>\n      <td>Biology</td>\n      <td>1</td>\n      <td>0</td>\n      <td>0</td>\n      <td>False</td>\n      <td>6.20 ⊢ 6.74</td>\n      <td>0</td>\n      <td>1</td>\n      <td>0</td>\n      <td>0</td>\n    </tr>\n    <tr>\n      <th>2</th>\n      <td>1.695</td>\n      <td>8.95</td>\n      <td>Biology</td>\n      <td>1</td>\n      <td>0</td>\n      <td>0</td>\n      <td>False</td>\n      <td>7.60 ⊢ 9.28</td>\n      <td>0</td>\n      <td>0</td>\n      <td>0</td>\n      <td>1</td>\n    </tr>\n    <tr>\n      <th>3</th>\n      <td>1.829</td>\n      <td>5.14</td>\n      <td>Biology</td>\n      <td>1</td>\n      <td>0</td>\n      <td>0</td>\n      <td>True</td>\n      <td>4.09 ⊢ 6.20</td>\n      <td>1</td>\n      <td>0</td>\n      <td>0</td>\n      <td>0</td>\n    </tr>\n    <tr>\n      <th>4</th>\n      <td>1.640</td>\n      <td>6.43</td>\n      <td>Physics</td>\n      <td>0</td>\n      <td>0</td>\n      <td>1</td>\n      <td>False</td>\n      <td>6.20 ⊢ 6.74</td>\n      <td>0</td>\n      <td>1</td>\n      <td>0</td>\n      <td>0</td>\n    </tr>\n    <tr>\n      <th>5</th>\n      <td>1.778</td>\n      <td>7.98</td>\n      <td>Physics</td>\n      <td>0</td>\n      <td>0</td>\n      <td>1</td>\n      <td>False</td>\n      <td>7.60 ⊢ 9.28</td>\n      <td>0</td>\n      <td>0</td>\n      <td>1</td>\n      <td>0</td>\n    </tr>\n    <tr>\n      <th>6</th>\n      <td>1.679</td>\n      <td>7.90</td>\n      <td>Biology</td>\n      <td>1</td>\n      <td>0</td>\n      <td>0</td>\n      <td>False</td>\n      <td>7.60 ⊢ 9.28</td>\n      <td>0</td>\n      <td>0</td>\n      <td>1</td>\n      <td>0</td>\n    </tr>\n    <tr>\n      <th>7</th>\n      <td>1.604</td>\n      <td>6.76</td>\n      <td>Physics</td>\n      <td>0</td>\n      <td>0</td>\n      <td>1</td>\n      <td>False</td>\n      <td>6.74 ⊢ 7.60</td>\n      <td>0</td>\n      <td>0</td>\n      <td>1</td>\n      <td>0</td>\n    </tr>\n    <tr>\n      <th>8</th>\n      <td>1.819</td>\n      <td>7.44</td>\n      <td>Physics</td>\n      <td>0</td>\n      <td>0</td>\n      <td>1</td>\n      <td>True</td>\n      <td>6.74 ⊢ 7.60</td>\n      <td>0</td>\n      <td>0</td>\n      <td>1</td>\n      <td>0</td>\n    </tr>\n    <tr>\n      <th>9</th>\n      <td>1.607</td>\n      <td>6.01</td>\n      <td>Physics</td>\n      <td>0</td>\n      <td>0</td>\n      <td>1</td>\n      <td>False</td>\n      <td>4.09 ⊢ 6.20</td>\n      <td>0</td>\n      <td>1</td>\n      <td>0</td>\n      <td>0</td>\n    </tr>\n  </tbody>\n</table>\n</div>"
          },
          "metadata": {},
          "execution_count": 50
        }
      ]
    },
    {
      "cell_type": "markdown",
      "metadata": {
        "id": "jD8WM_-yzqSc",
        "colab_type": "text"
      },
      "source": [
        "## Normalização (_Scaling_)\n",
        "\n",
        "Normalização é o processo de colocar uma variável numérica em uma escala pré-determinada, geralmente $[0, 1]$, mas também é comum ser $[-1, 1]$.\n",
        "\n",
        "Para colocar no intervalo $[0, 1]$, basta subtrair cada valor da valor mínimo e dividir pela diferença do valor máximo e mínimo:\n",
        "\n",
        "$$x_{\\text{scaled}} = \\frac{x - x_{\\text{min}}}{x_{\\text{max}} - x_{\\text{min}}}$$\n",
        "\n",
        "Abaixo, escalamos a variável `Score` no intervalo $[0, 1]$:"
      ]
    },
    {
      "cell_type": "code",
      "metadata": {
        "id": "nMM2mu-Qzwnv",
        "colab_type": "code",
        "outputId": "5c60c83b-13bf-431d-e77e-a2fb2e8af317",
        "colab": {
          "base_uri": "https://localhost:8080/",
          "height": 191
        }
      },
      "source": [
        "minmax_scaler = MinMaxScaler(feature_range=(0, 1)) # Default feature_scale é (0, 1).\n",
        "\n",
        "minmax_scaler.fit(data_encoded[[\"Score\"]])\n",
        "\n",
        "score_normalized = minmax_scaler.transform(data_encoded[[\"Score\"]])\n",
        "\n",
        "score_normalized[:10]"
      ],
      "execution_count": 51,
      "outputs": [
        {
          "output_type": "execute_result",
          "data": {
            "text/plain": "array([[0.48554913],\n       [0.44894027],\n       [0.93641618],\n       [0.20231214],\n       [0.45086705],\n       [0.7495183 ],\n       [0.73410405],\n       [0.51445087],\n       [0.64547206],\n       [0.3699422 ]])"
          },
          "metadata": {},
          "execution_count": 51
        }
      ]
    },
    {
      "cell_type": "code",
      "metadata": {
        "id": "FPr-37M2UBj4",
        "colab_type": "code",
        "outputId": "dc170301-56af-4cab-da7c-307c5cbb94a6",
        "colab": {
          "base_uri": "https://localhost:8080/",
          "height": 34
        }
      },
      "source": [
        "score_normalized.min(), score_normalized.max()"
      ],
      "execution_count": 52,
      "outputs": [
        {
          "output_type": "execute_result",
          "data": {
            "text/plain": "(0.0, 0.9999999999999999)"
          },
          "metadata": {},
          "execution_count": 52
        }
      ]
    },
    {
      "cell_type": "markdown",
      "metadata": {
        "id": "Et6m_2Bbbq-n",
        "colab_type": "text"
      },
      "source": [
        "Adicionamos a variável `Score` normalizada ao nosso _data set_:"
      ]
    },
    {
      "cell_type": "code",
      "metadata": {
        "id": "kaYvCQtK0fzi",
        "colab_type": "code",
        "outputId": "9f8ccb6c-d0b7-4445-96c9-490f284f2357",
        "colab": {
          "base_uri": "https://localhost:8080/",
          "height": 363
        }
      },
      "source": [
        "data_encoded = pd.concat([data_encoded, pd.DataFrame(score_normalized.flatten(), columns=[\"Score_normalized\"])], axis=1)\n",
        "\n",
        "data_encoded.head(10)"
      ],
      "execution_count": 53,
      "outputs": [
        {
          "output_type": "execute_result",
          "data": {
            "text/plain": "   Height  Score   Course  Biology  Math  Physics   Tall Score_interval  \\\n0   1.539   6.61  Biology        1     0        0  False    6.20 ⊢ 6.74   \n1   1.764   6.42  Biology        1     0        0  False    6.20 ⊢ 6.74   \n2   1.695   8.95  Biology        1     0        0  False    7.60 ⊢ 9.28   \n3   1.829   5.14  Biology        1     0        0   True    4.09 ⊢ 6.20   \n4   1.640   6.43  Physics        0     0        1  False    6.20 ⊢ 6.74   \n5   1.778   7.98  Physics        0     0        1  False    7.60 ⊢ 9.28   \n6   1.679   7.90  Biology        1     0        0  False    7.60 ⊢ 9.28   \n7   1.604   6.76  Physics        0     0        1  False    6.74 ⊢ 7.60   \n8   1.819   7.44  Physics        0     0        1   True    6.74 ⊢ 7.60   \n9   1.607   6.01  Physics        0     0        1  False    4.09 ⊢ 6.20   \n\n   4.09 ⊢ 5.39  5.39 ⊢ 6.68  6.68 ⊢ 7.98  7.98 ⊢ 9.28  Score_normalized  \n0            0            1            0            0          0.485549  \n1            0            1            0            0          0.448940  \n2            0            0            0            1          0.936416  \n3            1            0            0            0          0.202312  \n4            0            1            0            0          0.450867  \n5            0            0            1            0          0.749518  \n6            0            0            1            0          0.734104  \n7            0            0            1            0          0.514451  \n8            0            0            1            0          0.645472  \n9            0            1            0            0          0.369942  ",
            "text/html": "<div>\n<style scoped>\n    .dataframe tbody tr th:only-of-type {\n        vertical-align: middle;\n    }\n\n    .dataframe tbody tr th {\n        vertical-align: top;\n    }\n\n    .dataframe thead th {\n        text-align: right;\n    }\n</style>\n<table border=\"1\" class=\"dataframe\">\n  <thead>\n    <tr style=\"text-align: right;\">\n      <th></th>\n      <th>Height</th>\n      <th>Score</th>\n      <th>Course</th>\n      <th>Biology</th>\n      <th>Math</th>\n      <th>Physics</th>\n      <th>Tall</th>\n      <th>Score_interval</th>\n      <th>4.09 ⊢ 5.39</th>\n      <th>5.39 ⊢ 6.68</th>\n      <th>6.68 ⊢ 7.98</th>\n      <th>7.98 ⊢ 9.28</th>\n      <th>Score_normalized</th>\n    </tr>\n  </thead>\n  <tbody>\n    <tr>\n      <th>0</th>\n      <td>1.539</td>\n      <td>6.61</td>\n      <td>Biology</td>\n      <td>1</td>\n      <td>0</td>\n      <td>0</td>\n      <td>False</td>\n      <td>6.20 ⊢ 6.74</td>\n      <td>0</td>\n      <td>1</td>\n      <td>0</td>\n      <td>0</td>\n      <td>0.485549</td>\n    </tr>\n    <tr>\n      <th>1</th>\n      <td>1.764</td>\n      <td>6.42</td>\n      <td>Biology</td>\n      <td>1</td>\n      <td>0</td>\n      <td>0</td>\n      <td>False</td>\n      <td>6.20 ⊢ 6.74</td>\n      <td>0</td>\n      <td>1</td>\n      <td>0</td>\n      <td>0</td>\n      <td>0.448940</td>\n    </tr>\n    <tr>\n      <th>2</th>\n      <td>1.695</td>\n      <td>8.95</td>\n      <td>Biology</td>\n      <td>1</td>\n      <td>0</td>\n      <td>0</td>\n      <td>False</td>\n      <td>7.60 ⊢ 9.28</td>\n      <td>0</td>\n      <td>0</td>\n      <td>0</td>\n      <td>1</td>\n      <td>0.936416</td>\n    </tr>\n    <tr>\n      <th>3</th>\n      <td>1.829</td>\n      <td>5.14</td>\n      <td>Biology</td>\n      <td>1</td>\n      <td>0</td>\n      <td>0</td>\n      <td>True</td>\n      <td>4.09 ⊢ 6.20</td>\n      <td>1</td>\n      <td>0</td>\n      <td>0</td>\n      <td>0</td>\n      <td>0.202312</td>\n    </tr>\n    <tr>\n      <th>4</th>\n      <td>1.640</td>\n      <td>6.43</td>\n      <td>Physics</td>\n      <td>0</td>\n      <td>0</td>\n      <td>1</td>\n      <td>False</td>\n      <td>6.20 ⊢ 6.74</td>\n      <td>0</td>\n      <td>1</td>\n      <td>0</td>\n      <td>0</td>\n      <td>0.450867</td>\n    </tr>\n    <tr>\n      <th>5</th>\n      <td>1.778</td>\n      <td>7.98</td>\n      <td>Physics</td>\n      <td>0</td>\n      <td>0</td>\n      <td>1</td>\n      <td>False</td>\n      <td>7.60 ⊢ 9.28</td>\n      <td>0</td>\n      <td>0</td>\n      <td>1</td>\n      <td>0</td>\n      <td>0.749518</td>\n    </tr>\n    <tr>\n      <th>6</th>\n      <td>1.679</td>\n      <td>7.90</td>\n      <td>Biology</td>\n      <td>1</td>\n      <td>0</td>\n      <td>0</td>\n      <td>False</td>\n      <td>7.60 ⊢ 9.28</td>\n      <td>0</td>\n      <td>0</td>\n      <td>1</td>\n      <td>0</td>\n      <td>0.734104</td>\n    </tr>\n    <tr>\n      <th>7</th>\n      <td>1.604</td>\n      <td>6.76</td>\n      <td>Physics</td>\n      <td>0</td>\n      <td>0</td>\n      <td>1</td>\n      <td>False</td>\n      <td>6.74 ⊢ 7.60</td>\n      <td>0</td>\n      <td>0</td>\n      <td>1</td>\n      <td>0</td>\n      <td>0.514451</td>\n    </tr>\n    <tr>\n      <th>8</th>\n      <td>1.819</td>\n      <td>7.44</td>\n      <td>Physics</td>\n      <td>0</td>\n      <td>0</td>\n      <td>1</td>\n      <td>True</td>\n      <td>6.74 ⊢ 7.60</td>\n      <td>0</td>\n      <td>0</td>\n      <td>1</td>\n      <td>0</td>\n      <td>0.645472</td>\n    </tr>\n    <tr>\n      <th>9</th>\n      <td>1.607</td>\n      <td>6.01</td>\n      <td>Physics</td>\n      <td>0</td>\n      <td>0</td>\n      <td>1</td>\n      <td>False</td>\n      <td>4.09 ⊢ 6.20</td>\n      <td>0</td>\n      <td>1</td>\n      <td>0</td>\n      <td>0</td>\n      <td>0.369942</td>\n    </tr>\n  </tbody>\n</table>\n</div>"
          },
          "metadata": {},
          "execution_count": 53
        }
      ]
    },
    {
      "cell_type": "markdown",
      "metadata": {
        "id": "n7-msElsbveR",
        "colab_type": "text"
      },
      "source": [
        "Para avaliar se os valores encontrados conferem, podemos utilizar a função `normalize` abaixo:"
      ]
    },
    {
      "cell_type": "code",
      "metadata": {
        "id": "EAfUGaFc061d",
        "colab_type": "code",
        "colab": {}
      },
      "source": [
        "def normalize(x, xmin, xmax):\n",
        "  return (x - xmin)/(xmax - xmin)"
      ],
      "execution_count": 54,
      "outputs": []
    },
    {
      "cell_type": "markdown",
      "metadata": {
        "id": "CXywxNX-b-0K",
        "colab_type": "text"
      },
      "source": [
        "A função `partial()` do módulo `functools` (_builtin_ do Python) permite \"congelar\" alguns parâmetros da função passaga como argumento, facilitando a invocação desta função quando tais parâmetros são constantes. No caso abaixo, \"congelamos\" os argumentos `xmin` e `xmax` da função `normalize()` com os valores mínimo e máximo da variável `Score`, respectivamente. Nas invocações subsequentes de `normalize` não precisaremos passar esses argumentos, somente o argumento \"não congelado\" `x`:"
      ]
    },
    {
      "cell_type": "code",
      "metadata": {
        "id": "UAlpigp21OVx",
        "colab_type": "code",
        "colab": {}
      },
      "source": [
        "normalize_score = functools.partial(normalize,\n",
        "                                    xmin=data_encoded.Score.min(),\n",
        "                                    xmax=data_encoded.Score.max())"
      ],
      "execution_count": 55,
      "outputs": []
    },
    {
      "cell_type": "markdown",
      "metadata": {
        "id": "nhR0rwUIctTa",
        "colab_type": "text"
      },
      "source": [
        "O valor abaixo realmente confere com aquele encontrado pelo `MinMaxScaler`:"
      ]
    },
    {
      "cell_type": "code",
      "metadata": {
        "id": "pMfk3jrU1mQV",
        "colab_type": "code",
        "outputId": "f9851c0d-9446-4f10-874e-cdba22b43722",
        "colab": {
          "base_uri": "https://localhost:8080/",
          "height": 34
        }
      },
      "source": [
        "normalize_score(data_encoded.Score[0]).round(6)"
      ],
      "execution_count": 56,
      "outputs": [
        {
          "output_type": "execute_result",
          "data": {
            "text/plain": "0.485549"
          },
          "metadata": {},
          "execution_count": 56
        }
      ]
    },
    {
      "cell_type": "markdown",
      "metadata": {
        "id": "HEcSQzWJ2Yum",
        "colab_type": "text"
      },
      "source": [
        "## Padronização (_Standardization_)\n",
        "\n",
        "Padronização é o processo de tornar a variável com média zero e variância um. Esse processo não deve ser confundido com a normalização descrita acima.\n",
        "\n",
        "O processo é simples, basta subtrair a média dos dados de cada observação e dividi-los pelo desvio-padrão:\n",
        "\n",
        "$$x_{\\text{standardized}} = \\frac{x - \\bar{x}}{s}$$\n",
        "\n",
        "onde $\\bar{x}$ indica a média amostral e $s$ o desvio-padrão amostral."
      ]
    },
    {
      "cell_type": "markdown",
      "metadata": {
        "id": "kXYXezCNdYue",
        "colab_type": "text"
      },
      "source": [
        "No exemplo abaixo, padronizamos a variável `Score`:"
      ]
    },
    {
      "cell_type": "code",
      "metadata": {
        "id": "Qfhs3Eaq2dGV",
        "colab_type": "code",
        "outputId": "572aae65-5460-44d1-8134-dbc26f82e2d2",
        "colab": {
          "base_uri": "https://localhost:8080/",
          "height": 191
        }
      },
      "source": [
        "standard_scaler = StandardScaler()\n",
        "\n",
        "standard_scaler.fit(data_encoded[[\"Score\"]])\n",
        "\n",
        "score_standardized = standard_scaler.transform(data_encoded[[\"Score\"]])\n",
        "\n",
        "score_standardized[:10]"
      ],
      "execution_count": 57,
      "outputs": [
        {
          "output_type": "execute_result",
          "data": {
            "text/plain": "array([[-0.20752554],\n       [-0.40839081],\n       [ 2.26628886],\n       [-1.76158843],\n       [-0.39781896],\n       [ 1.24081879],\n       [ 1.15624393],\n       [-0.0489477 ],\n       [ 0.66993854],\n       [-0.84183693]])"
          },
          "metadata": {},
          "execution_count": 57
        }
      ]
    },
    {
      "cell_type": "markdown",
      "metadata": {
        "id": "SJJucIQddgME",
        "colab_type": "text"
      },
      "source": [
        "E adicionamos a variável padronizada ao nosso _data set_:"
      ]
    },
    {
      "cell_type": "code",
      "metadata": {
        "id": "BAndWLe13RSr",
        "colab_type": "code",
        "outputId": "4a6231c1-f459-4307-ad14-24c4e46760cd",
        "colab": {
          "base_uri": "https://localhost:8080/",
          "height": 363
        }
      },
      "source": [
        "data_encoded = pd.concat([data_encoded, pd.DataFrame(score_standardized.flatten(), columns=[\"Score_standardized\"])], axis=1)\n",
        "\n",
        "data_encoded.head(10)"
      ],
      "execution_count": 58,
      "outputs": [
        {
          "output_type": "execute_result",
          "data": {
            "text/plain": "   Height  Score   Course  Biology  Math  Physics   Tall Score_interval  \\\n0   1.539   6.61  Biology        1     0        0  False    6.20 ⊢ 6.74   \n1   1.764   6.42  Biology        1     0        0  False    6.20 ⊢ 6.74   \n2   1.695   8.95  Biology        1     0        0  False    7.60 ⊢ 9.28   \n3   1.829   5.14  Biology        1     0        0   True    4.09 ⊢ 6.20   \n4   1.640   6.43  Physics        0     0        1  False    6.20 ⊢ 6.74   \n5   1.778   7.98  Physics        0     0        1  False    7.60 ⊢ 9.28   \n6   1.679   7.90  Biology        1     0        0  False    7.60 ⊢ 9.28   \n7   1.604   6.76  Physics        0     0        1  False    6.74 ⊢ 7.60   \n8   1.819   7.44  Physics        0     0        1   True    6.74 ⊢ 7.60   \n9   1.607   6.01  Physics        0     0        1  False    4.09 ⊢ 6.20   \n\n   4.09 ⊢ 5.39  5.39 ⊢ 6.68  6.68 ⊢ 7.98  7.98 ⊢ 9.28  Score_normalized  \\\n0            0            1            0            0          0.485549   \n1            0            1            0            0          0.448940   \n2            0            0            0            1          0.936416   \n3            1            0            0            0          0.202312   \n4            0            1            0            0          0.450867   \n5            0            0            1            0          0.749518   \n6            0            0            1            0          0.734104   \n7            0            0            1            0          0.514451   \n8            0            0            1            0          0.645472   \n9            0            1            0            0          0.369942   \n\n   Score_standardized  \n0           -0.207526  \n1           -0.408391  \n2            2.266289  \n3           -1.761588  \n4           -0.397819  \n5            1.240819  \n6            1.156244  \n7           -0.048948  \n8            0.669939  \n9           -0.841837  ",
            "text/html": "<div>\n<style scoped>\n    .dataframe tbody tr th:only-of-type {\n        vertical-align: middle;\n    }\n\n    .dataframe tbody tr th {\n        vertical-align: top;\n    }\n\n    .dataframe thead th {\n        text-align: right;\n    }\n</style>\n<table border=\"1\" class=\"dataframe\">\n  <thead>\n    <tr style=\"text-align: right;\">\n      <th></th>\n      <th>Height</th>\n      <th>Score</th>\n      <th>Course</th>\n      <th>Biology</th>\n      <th>Math</th>\n      <th>Physics</th>\n      <th>Tall</th>\n      <th>Score_interval</th>\n      <th>4.09 ⊢ 5.39</th>\n      <th>5.39 ⊢ 6.68</th>\n      <th>6.68 ⊢ 7.98</th>\n      <th>7.98 ⊢ 9.28</th>\n      <th>Score_normalized</th>\n      <th>Score_standardized</th>\n    </tr>\n  </thead>\n  <tbody>\n    <tr>\n      <th>0</th>\n      <td>1.539</td>\n      <td>6.61</td>\n      <td>Biology</td>\n      <td>1</td>\n      <td>0</td>\n      <td>0</td>\n      <td>False</td>\n      <td>6.20 ⊢ 6.74</td>\n      <td>0</td>\n      <td>1</td>\n      <td>0</td>\n      <td>0</td>\n      <td>0.485549</td>\n      <td>-0.207526</td>\n    </tr>\n    <tr>\n      <th>1</th>\n      <td>1.764</td>\n      <td>6.42</td>\n      <td>Biology</td>\n      <td>1</td>\n      <td>0</td>\n      <td>0</td>\n      <td>False</td>\n      <td>6.20 ⊢ 6.74</td>\n      <td>0</td>\n      <td>1</td>\n      <td>0</td>\n      <td>0</td>\n      <td>0.448940</td>\n      <td>-0.408391</td>\n    </tr>\n    <tr>\n      <th>2</th>\n      <td>1.695</td>\n      <td>8.95</td>\n      <td>Biology</td>\n      <td>1</td>\n      <td>0</td>\n      <td>0</td>\n      <td>False</td>\n      <td>7.60 ⊢ 9.28</td>\n      <td>0</td>\n      <td>0</td>\n      <td>0</td>\n      <td>1</td>\n      <td>0.936416</td>\n      <td>2.266289</td>\n    </tr>\n    <tr>\n      <th>3</th>\n      <td>1.829</td>\n      <td>5.14</td>\n      <td>Biology</td>\n      <td>1</td>\n      <td>0</td>\n      <td>0</td>\n      <td>True</td>\n      <td>4.09 ⊢ 6.20</td>\n      <td>1</td>\n      <td>0</td>\n      <td>0</td>\n      <td>0</td>\n      <td>0.202312</td>\n      <td>-1.761588</td>\n    </tr>\n    <tr>\n      <th>4</th>\n      <td>1.640</td>\n      <td>6.43</td>\n      <td>Physics</td>\n      <td>0</td>\n      <td>0</td>\n      <td>1</td>\n      <td>False</td>\n      <td>6.20 ⊢ 6.74</td>\n      <td>0</td>\n      <td>1</td>\n      <td>0</td>\n      <td>0</td>\n      <td>0.450867</td>\n      <td>-0.397819</td>\n    </tr>\n    <tr>\n      <th>5</th>\n      <td>1.778</td>\n      <td>7.98</td>\n      <td>Physics</td>\n      <td>0</td>\n      <td>0</td>\n      <td>1</td>\n      <td>False</td>\n      <td>7.60 ⊢ 9.28</td>\n      <td>0</td>\n      <td>0</td>\n      <td>1</td>\n      <td>0</td>\n      <td>0.749518</td>\n      <td>1.240819</td>\n    </tr>\n    <tr>\n      <th>6</th>\n      <td>1.679</td>\n      <td>7.90</td>\n      <td>Biology</td>\n      <td>1</td>\n      <td>0</td>\n      <td>0</td>\n      <td>False</td>\n      <td>7.60 ⊢ 9.28</td>\n      <td>0</td>\n      <td>0</td>\n      <td>1</td>\n      <td>0</td>\n      <td>0.734104</td>\n      <td>1.156244</td>\n    </tr>\n    <tr>\n      <th>7</th>\n      <td>1.604</td>\n      <td>6.76</td>\n      <td>Physics</td>\n      <td>0</td>\n      <td>0</td>\n      <td>1</td>\n      <td>False</td>\n      <td>6.74 ⊢ 7.60</td>\n      <td>0</td>\n      <td>0</td>\n      <td>1</td>\n      <td>0</td>\n      <td>0.514451</td>\n      <td>-0.048948</td>\n    </tr>\n    <tr>\n      <th>8</th>\n      <td>1.819</td>\n      <td>7.44</td>\n      <td>Physics</td>\n      <td>0</td>\n      <td>0</td>\n      <td>1</td>\n      <td>True</td>\n      <td>6.74 ⊢ 7.60</td>\n      <td>0</td>\n      <td>0</td>\n      <td>1</td>\n      <td>0</td>\n      <td>0.645472</td>\n      <td>0.669939</td>\n    </tr>\n    <tr>\n      <th>9</th>\n      <td>1.607</td>\n      <td>6.01</td>\n      <td>Physics</td>\n      <td>0</td>\n      <td>0</td>\n      <td>1</td>\n      <td>False</td>\n      <td>4.09 ⊢ 6.20</td>\n      <td>0</td>\n      <td>1</td>\n      <td>0</td>\n      <td>0</td>\n      <td>0.369942</td>\n      <td>-0.841837</td>\n    </tr>\n  </tbody>\n</table>\n</div>"
          },
          "metadata": {},
          "execution_count": 58
        }
      ]
    },
    {
      "cell_type": "markdown",
      "metadata": {
        "id": "_SgwGLgOdk5Q",
        "colab_type": "text"
      },
      "source": [
        "Note que, ao contrário da variável normalizada, é possível ter valores negativos e positivos, menores e maiores que um. Isso é bem óbvio, pois os dados agora têm média 0 e variância 1:"
      ]
    },
    {
      "cell_type": "code",
      "metadata": {
        "id": "I0E9fwo93h9w",
        "colab_type": "code",
        "outputId": "2d9d5cdf-181b-4ca1-bea7-b382bf738ebd",
        "colab": {
          "base_uri": "https://localhost:8080/",
          "height": 34
        }
      },
      "source": [
        "data_encoded.Score_standardized.mean(), data_encoded.Score_standardized.var()"
      ],
      "execution_count": 59,
      "outputs": [
        {
          "output_type": "execute_result",
          "data": {
            "text/plain": "(-1.2501111257279262e-15, 1.0101010101010102)"
          },
          "metadata": {},
          "execution_count": 59
        }
      ]
    },
    {
      "cell_type": "markdown",
      "metadata": {
        "id": "Av0cwG_Qd3Ow",
        "colab_type": "text"
      },
      "source": [
        "Novamente, para avaliar os resultados obtidos, podemos escrever nossa própria função de padronização:"
      ]
    },
    {
      "cell_type": "code",
      "metadata": {
        "id": "khwEkoks3-cS",
        "colab_type": "code",
        "colab": {}
      },
      "source": [
        "def standardize(x, xmean, xstd):\n",
        "  return (x - xmean)/xstd"
      ],
      "execution_count": 60,
      "outputs": []
    },
    {
      "cell_type": "code",
      "metadata": {
        "id": "14w3018J4Gwy",
        "colab_type": "code",
        "colab": {}
      },
      "source": [
        "standardize_score = functools.partial(standardize,\n",
        "                                      xmean=data_encoded.Score.mean(),\n",
        "                                      xstd=data_encoded.Score.std())"
      ],
      "execution_count": 61,
      "outputs": []
    },
    {
      "cell_type": "markdown",
      "metadata": {
        "id": "UAGxoUK5d-22",
        "colab_type": "text"
      },
      "source": [
        "Como esperado, o valor confere com o encontrado:"
      ]
    },
    {
      "cell_type": "code",
      "metadata": {
        "id": "dpaNVzOy4aCL",
        "colab_type": "code",
        "outputId": "fa0f42f0-32a5-48f4-f8d7-724350cdca86",
        "colab": {
          "base_uri": "https://localhost:8080/",
          "height": 34
        }
      },
      "source": [
        "standardize_score(data_encoded.Score[0])"
      ],
      "execution_count": 62,
      "outputs": [
        {
          "output_type": "execute_result",
          "data": {
            "text/plain": "-0.20648530634442175"
          },
          "metadata": {},
          "execution_count": 62
        }
      ]
    },
    {
      "cell_type": "markdown",
      "metadata": {
        "id": "2tO4OOJK7NY1",
        "colab_type": "text"
      },
      "source": [
        "## Criando um _Pipeline_\n",
        "\n",
        "Todo esse processo de transformar os dados pode ser bastante trabalhoso e entendiante. Para facilitar as coisas, o sklearn dispõe de um mecanismo de _pipeline_ que funciona como ao esteira de uma linha de montagem. Cada etapa desse _pipeline_ é uma transformação nos dados, de forma que, ao final do _pipeline_, temos os dados totalmente transformados. A vantagem é que agora especificamos todas as etapas, ou transformações, de uma só vez, e podemos reaproveitar esse _pipeline_ no futuro."
      ]
    },
    {
      "cell_type": "code",
      "metadata": {
        "id": "T1LyaI0-B2hV",
        "colab_type": "code",
        "outputId": "011176a0-ec92-4122-9fc4-3b3d0a3118c9",
        "colab": {
          "base_uri": "https://localhost:8080/",
          "height": 363
        }
      },
      "source": [
        "data.head(10)"
      ],
      "execution_count": 63,
      "outputs": [
        {
          "output_type": "execute_result",
          "data": {
            "text/plain": "   Height  Score   Course\n0   1.539   6.61  Biology\n1   1.764   6.42  Biology\n2   1.695   8.95  Biology\n3   1.829   5.14  Biology\n4   1.640   6.43  Physics\n5   1.778   7.98  Physics\n6   1.679   7.90  Biology\n7   1.604   6.76  Physics\n8   1.819   7.44  Physics\n9   1.607   6.01  Physics",
            "text/html": "<div>\n<style scoped>\n    .dataframe tbody tr th:only-of-type {\n        vertical-align: middle;\n    }\n\n    .dataframe tbody tr th {\n        vertical-align: top;\n    }\n\n    .dataframe thead th {\n        text-align: right;\n    }\n</style>\n<table border=\"1\" class=\"dataframe\">\n  <thead>\n    <tr style=\"text-align: right;\">\n      <th></th>\n      <th>Height</th>\n      <th>Score</th>\n      <th>Course</th>\n    </tr>\n  </thead>\n  <tbody>\n    <tr>\n      <th>0</th>\n      <td>1.539</td>\n      <td>6.61</td>\n      <td>Biology</td>\n    </tr>\n    <tr>\n      <th>1</th>\n      <td>1.764</td>\n      <td>6.42</td>\n      <td>Biology</td>\n    </tr>\n    <tr>\n      <th>2</th>\n      <td>1.695</td>\n      <td>8.95</td>\n      <td>Biology</td>\n    </tr>\n    <tr>\n      <th>3</th>\n      <td>1.829</td>\n      <td>5.14</td>\n      <td>Biology</td>\n    </tr>\n    <tr>\n      <th>4</th>\n      <td>1.640</td>\n      <td>6.43</td>\n      <td>Physics</td>\n    </tr>\n    <tr>\n      <th>5</th>\n      <td>1.778</td>\n      <td>7.98</td>\n      <td>Physics</td>\n    </tr>\n    <tr>\n      <th>6</th>\n      <td>1.679</td>\n      <td>7.90</td>\n      <td>Biology</td>\n    </tr>\n    <tr>\n      <th>7</th>\n      <td>1.604</td>\n      <td>6.76</td>\n      <td>Physics</td>\n    </tr>\n    <tr>\n      <th>8</th>\n      <td>1.819</td>\n      <td>7.44</td>\n      <td>Physics</td>\n    </tr>\n    <tr>\n      <th>9</th>\n      <td>1.607</td>\n      <td>6.01</td>\n      <td>Physics</td>\n    </tr>\n  </tbody>\n</table>\n</div>"
          },
          "metadata": {},
          "execution_count": 63
        }
      ]
    },
    {
      "cell_type": "markdown",
      "metadata": {
        "id": "86on9pLMeidf",
        "colab_type": "text"
      },
      "source": [
        "Para evitar bagunçar com nosso _data set_ original, criamos uma cópia (rasa) dele:"
      ]
    },
    {
      "cell_type": "code",
      "metadata": {
        "id": "vdA8euCcZeq1",
        "colab_type": "code",
        "colab": {}
      },
      "source": [
        "data_missing = data.copy()"
      ],
      "execution_count": 64,
      "outputs": []
    },
    {
      "cell_type": "markdown",
      "metadata": {
        "id": "snDUyWqEenh8",
        "colab_type": "text"
      },
      "source": [
        "E para tornar o exemplo mais interessante, adicionamos (ou removemos?) dados faltantes ao _data set_. Isso porque uma das transformações úteis que podemos aplicar no _pipeline_ é justamente a imputação de dados, ou seja, preencher dados faltantes.\n",
        "\n",
        "As variáveis numéricas faltantes são representadas por `np.nan`, enquanto a variável categórica é representada pela classe `Unknown`:"
      ]
    },
    {
      "cell_type": "code",
      "metadata": {
        "id": "LkVnbFAKS_fF",
        "colab_type": "code",
        "outputId": "6ba74eb6-0d60-419a-c39a-dd165cd49b60",
        "colab": {
          "base_uri": "https://localhost:8080/",
          "height": 363
        }
      },
      "source": [
        "unknown_height_idx = pd.Index(np.random.choice(data_missing.index, 10, replace=False))\n",
        "unknown_score_idx = pd.Index(np.random.choice(data_missing.index, 10, replace=False))\n",
        "unknown_course_idx = pd.Index(np.random.choice(data_missing.index, 10, replace=False))\n",
        "\n",
        "data_missing.loc[unknown_height_idx, \"Height\"] = np.nan\n",
        "data_missing.loc[unknown_score_idx, \"Score\"] = np.nan\n",
        "data_missing.loc[unknown_course_idx, \"Course\"] = \"Unknown\"\n",
        "\n",
        "data_missing_idx = unknown_height_idx | unknown_score_idx | unknown_course_idx\n",
        "\n",
        "data_missing.loc[data_missing_idx].head(10)"
      ],
      "execution_count": 65,
      "outputs": [
        {
          "output_type": "execute_result",
          "data": {
            "text/plain": "    Height  Score   Course\n2    1.695    NaN  Unknown\n5    1.778    NaN  Physics\n8      NaN   7.44  Physics\n11   1.539    NaN  Biology\n15     NaN   5.44  Biology\n24     NaN   8.08  Biology\n29   2.020   6.83  Unknown\n33   1.691    NaN     Math\n35   2.085   6.96  Unknown\n38   1.376   6.54  Unknown",
            "text/html": "<div>\n<style scoped>\n    .dataframe tbody tr th:only-of-type {\n        vertical-align: middle;\n    }\n\n    .dataframe tbody tr th {\n        vertical-align: top;\n    }\n\n    .dataframe thead th {\n        text-align: right;\n    }\n</style>\n<table border=\"1\" class=\"dataframe\">\n  <thead>\n    <tr style=\"text-align: right;\">\n      <th></th>\n      <th>Height</th>\n      <th>Score</th>\n      <th>Course</th>\n    </tr>\n  </thead>\n  <tbody>\n    <tr>\n      <th>2</th>\n      <td>1.695</td>\n      <td>NaN</td>\n      <td>Unknown</td>\n    </tr>\n    <tr>\n      <th>5</th>\n      <td>1.778</td>\n      <td>NaN</td>\n      <td>Physics</td>\n    </tr>\n    <tr>\n      <th>8</th>\n      <td>NaN</td>\n      <td>7.44</td>\n      <td>Physics</td>\n    </tr>\n    <tr>\n      <th>11</th>\n      <td>1.539</td>\n      <td>NaN</td>\n      <td>Biology</td>\n    </tr>\n    <tr>\n      <th>15</th>\n      <td>NaN</td>\n      <td>5.44</td>\n      <td>Biology</td>\n    </tr>\n    <tr>\n      <th>24</th>\n      <td>NaN</td>\n      <td>8.08</td>\n      <td>Biology</td>\n    </tr>\n    <tr>\n      <th>29</th>\n      <td>2.020</td>\n      <td>6.83</td>\n      <td>Unknown</td>\n    </tr>\n    <tr>\n      <th>33</th>\n      <td>1.691</td>\n      <td>NaN</td>\n      <td>Math</td>\n    </tr>\n    <tr>\n      <th>35</th>\n      <td>2.085</td>\n      <td>6.96</td>\n      <td>Unknown</td>\n    </tr>\n    <tr>\n      <th>38</th>\n      <td>1.376</td>\n      <td>6.54</td>\n      <td>Unknown</td>\n    </tr>\n  </tbody>\n</table>\n</div>"
          },
          "metadata": {},
          "execution_count": 65
        }
      ]
    },
    {
      "cell_type": "markdown",
      "metadata": {
        "id": "nmUJS9SzfC9Y",
        "colab_type": "text"
      },
      "source": [
        "Criamos o _pipeline_ com as seguintes etapas:\n",
        "\n",
        "1. Faça imputação dos dados, preenchendo os dados faltantes com a mediana dos dados presentes.\n",
        "2. Faça a normalização dos dados no intervalo _default_ $[0, 1]$.\n",
        "3. Crie novas variáveis através da expansão polinomial da variável original."
      ]
    },
    {
      "cell_type": "markdown",
      "metadata": {
        "id": "9ypslSlEhGBr",
        "colab_type": "text"
      },
      "source": [
        "O `Pipeline` recebe uma lista de transformações representadas por tuplas de dois elementos. Cada tupla contém:\n",
        "\n",
        "* O nome para a etapa (ou transformação ou estimador). Isso vai ser útil para recuperar algumas informações do _pipeline_ mais a frente.\n",
        "* Um objeto da classe do transformador ou estimador, já com seus parâmetros configurados."
      ]
    },
    {
      "cell_type": "code",
      "metadata": {
        "id": "XqthBhA18ITd",
        "colab_type": "code",
        "colab": {}
      },
      "source": [
        "num_pipeline = Pipeline(steps=[\n",
        "    (\"imputer\", SimpleImputer(strategy=\"median\")),\n",
        "    (\"minmax_scaler\", MinMaxScaler()),\n",
        "    (\"poly_features\", PolynomialFeatures(degree=2, include_bias=False))\n",
        "])"
      ],
      "execution_count": 66,
      "outputs": []
    },
    {
      "cell_type": "markdown",
      "metadata": {
        "id": "3UVr1XWCfZID",
        "colab_type": "text"
      },
      "source": [
        "Depois da especificação do nosso _pipeline_, podemos aplicá-lo simultaneamente a diversas variáveis (desde que as transformações especificadas façam sentido).\n",
        "\n",
        "No exemplo abaixo, aplicamos esse _pipeline_ às variáveis `Height` e `Score` ao mesmo tempo:"
      ]
    },
    {
      "cell_type": "code",
      "metadata": {
        "id": "Qh8kbymmDZqB",
        "colab_type": "code",
        "outputId": "0595019a-1288-4ea8-d18b-1d61dc44136b",
        "colab": {
          "base_uri": "https://localhost:8080/",
          "height": 191
        }
      },
      "source": [
        "pipeline_transformation = num_pipeline.fit_transform(data_missing[[\"Height\", \"Score\"]])\n",
        "\n",
        "pipeline_transformation[:10]"
      ],
      "execution_count": 67,
      "outputs": [
        {
          "output_type": "execute_result",
          "data": {
            "text/plain": "array([[0.26553106, 0.48554913, 0.07050674, 0.12892838, 0.23575796],\n       [0.49098196, 0.44894027, 0.24106329, 0.22042158, 0.20154737],\n       [0.42184369, 0.48843931, 0.1779521 , 0.20604504, 0.23857296],\n       [0.55611222, 0.20231214, 0.30926081, 0.11250825, 0.0409302 ],\n       [0.36673347, 0.45086705, 0.13449344, 0.16534804, 0.2032811 ],\n       [0.50501002, 0.48843931, 0.25503512, 0.24666674, 0.23857296],\n       [0.40581162, 0.73410405, 0.16468307, 0.29790795, 0.53890875],\n       [0.33066132, 0.51445087, 0.10933691, 0.170109  , 0.26465969],\n       [0.41082164, 0.64547206, 0.16877442, 0.26517389, 0.41663418],\n       [0.33366733, 0.3699422 , 0.11133389, 0.12343763, 0.13685723]])"
          },
          "metadata": {},
          "execution_count": 67
        }
      ]
    },
    {
      "cell_type": "markdown",
      "metadata": {
        "id": "HoNf9vDJfrW8",
        "colab_type": "text"
      },
      "source": [
        "Para ficar mais claro a saída do _pipeline_, podemos utilizar os nomes das _features_ geradas através do método `get_feature_names()`. Para tornar ainda mais claro, substituímos o que é chamado `x0` por `Height` e `x1` por `Score`, que é inferido pela ordem das variáveis no _pipeline_."
      ]
    },
    {
      "cell_type": "code",
      "metadata": {
        "id": "OJz5zvr2EeM3",
        "colab_type": "code",
        "outputId": "444fe35c-4e5e-4f9c-ef6a-152dd9bcd775",
        "colab": {
          "base_uri": "https://localhost:8080/",
          "height": 34
        }
      },
      "source": [
        "poly_features = num_pipeline.get_params()[\"poly_features\"].get_feature_names()\n",
        "  \n",
        "pipeline_columns = [old_name.replace(\"x0\", \"Height_n\").replace(\"x1\", \"Score_n\") for old_name in poly_features]\n",
        "\n",
        "pipeline_columns"
      ],
      "execution_count": 68,
      "outputs": [
        {
          "output_type": "execute_result",
          "data": {
            "text/plain": "['Height_n', 'Score_n', 'Height_n^2', 'Height_n Score_n', 'Score_n^2']"
          },
          "metadata": {},
          "execution_count": 68
        }
      ]
    },
    {
      "cell_type": "markdown",
      "metadata": {
        "id": "MBgEafF-gKA3",
        "colab_type": "text"
      },
      "source": [
        "Criamos um novo _data set_ com essas variáveis resultantes do _pipeline_:"
      ]
    },
    {
      "cell_type": "code",
      "metadata": {
        "id": "q_xBepJGIAJm",
        "colab_type": "code",
        "outputId": "6126947b-ef3f-42db-84aa-4317ed5f79d3",
        "colab": {
          "base_uri": "https://localhost:8080/",
          "height": 237
        }
      },
      "source": [
        "height_score_normalized_poly = pd.DataFrame(pipeline_transformation, columns=pipeline_columns)\n",
        "\n",
        "height_score_normalized_poly.head(6)"
      ],
      "execution_count": 69,
      "outputs": [
        {
          "output_type": "execute_result",
          "data": {
            "text/plain": "   Height_n   Score_n  Height_n^2  Height_n Score_n  Score_n^2\n0  0.265531  0.485549    0.070507          0.128928   0.235758\n1  0.490982  0.448940    0.241063          0.220422   0.201547\n2  0.421844  0.488439    0.177952          0.206045   0.238573\n3  0.556112  0.202312    0.309261          0.112508   0.040930\n4  0.366733  0.450867    0.134493          0.165348   0.203281\n5  0.505010  0.488439    0.255035          0.246667   0.238573",
            "text/html": "<div>\n<style scoped>\n    .dataframe tbody tr th:only-of-type {\n        vertical-align: middle;\n    }\n\n    .dataframe tbody tr th {\n        vertical-align: top;\n    }\n\n    .dataframe thead th {\n        text-align: right;\n    }\n</style>\n<table border=\"1\" class=\"dataframe\">\n  <thead>\n    <tr style=\"text-align: right;\">\n      <th></th>\n      <th>Height_n</th>\n      <th>Score_n</th>\n      <th>Height_n^2</th>\n      <th>Height_n Score_n</th>\n      <th>Score_n^2</th>\n    </tr>\n  </thead>\n  <tbody>\n    <tr>\n      <th>0</th>\n      <td>0.265531</td>\n      <td>0.485549</td>\n      <td>0.070507</td>\n      <td>0.128928</td>\n      <td>0.235758</td>\n    </tr>\n    <tr>\n      <th>1</th>\n      <td>0.490982</td>\n      <td>0.448940</td>\n      <td>0.241063</td>\n      <td>0.220422</td>\n      <td>0.201547</td>\n    </tr>\n    <tr>\n      <th>2</th>\n      <td>0.421844</td>\n      <td>0.488439</td>\n      <td>0.177952</td>\n      <td>0.206045</td>\n      <td>0.238573</td>\n    </tr>\n    <tr>\n      <th>3</th>\n      <td>0.556112</td>\n      <td>0.202312</td>\n      <td>0.309261</td>\n      <td>0.112508</td>\n      <td>0.040930</td>\n    </tr>\n    <tr>\n      <th>4</th>\n      <td>0.366733</td>\n      <td>0.450867</td>\n      <td>0.134493</td>\n      <td>0.165348</td>\n      <td>0.203281</td>\n    </tr>\n    <tr>\n      <th>5</th>\n      <td>0.505010</td>\n      <td>0.488439</td>\n      <td>0.255035</td>\n      <td>0.246667</td>\n      <td>0.238573</td>\n    </tr>\n  </tbody>\n</table>\n</div>"
          },
          "metadata": {},
          "execution_count": 69
        }
      ]
    },
    {
      "cell_type": "markdown",
      "metadata": {
        "id": "9imGtnaygRiX",
        "colab_type": "text"
      },
      "source": [
        "Podemos também criar outro _pipeline_ para a variável categórica `Course`. Como se trata de uma variável de natureza completamente diferente, precisamos especificar um _pipeline_ diferente com as seguintes transformações:\n",
        "\n",
        "1. Preencha os dados faltantes (`None`) com a classe `Unknown`.\n",
        "2. Crie novas variáveis binárias com o `OneHotEncoder`."
      ]
    },
    {
      "cell_type": "markdown",
      "metadata": {
        "id": "eZP_HTkchI5c",
        "colab_type": "text"
      },
      "source": [
        "Assim como no _pipeline_ anterior, especificamos cada etapa como uma tupla com um nome e um objeto de um transformador ou estimador:"
      ]
    },
    {
      "cell_type": "code",
      "metadata": {
        "id": "NMv_2lV7KxTM",
        "colab_type": "code",
        "colab": {}
      },
      "source": [
        "cat_pipeline = Pipeline([\n",
        "    (\"imputer\", SimpleImputer(strategy=\"constant\", fill_value=\"Unknown\")),\n",
        "    (\"one_hot_encoder\", OneHotEncoder(sparse=False, dtype=np.int))\n",
        "])"
      ],
      "execution_count": 70,
      "outputs": []
    },
    {
      "cell_type": "markdown",
      "metadata": {
        "id": "wK66jYTShV52",
        "colab_type": "text"
      },
      "source": [
        "Após a especificação do _pipeline_, podemos aplicá-lo à nossa variável `Course`:"
      ]
    },
    {
      "cell_type": "code",
      "metadata": {
        "id": "KIFWvPS7LNUA",
        "colab_type": "code",
        "colab": {}
      },
      "source": [
        "course_pipeline_transformation = cat_pipeline.fit_transform(data_missing[[\"Course\"]])"
      ],
      "execution_count": 71,
      "outputs": []
    },
    {
      "cell_type": "markdown",
      "metadata": {
        "id": "quJ4ThBBhfBI",
        "colab_type": "text"
      },
      "source": [
        "Agora, utilizaremos o nome que demos à etapa do `OneHotEncoder` para recuperar esse transformador através do método `get_params()`. Depois de recuperado o `OneHotEncoder`, acessamos seu atributo `categories_` (primeiro índice `[0]`, pois poderíamos ter aplicado o _pipeline_ a mais de uma variável categórica):"
      ]
    },
    {
      "cell_type": "code",
      "metadata": {
        "id": "Zurb-NVWM4sX",
        "colab_type": "code",
        "outputId": "1e7c2960-6ffb-4285-bb2d-691157302850",
        "colab": {
          "base_uri": "https://localhost:8080/",
          "height": 34
        }
      },
      "source": [
        "course_columns = cat_pipeline.get_params()[\"one_hot_encoder\"].categories_[0]\n",
        "\n",
        "course_columns"
      ],
      "execution_count": 72,
      "outputs": [
        {
          "output_type": "execute_result",
          "data": {
            "text/plain": "array(['Biology', 'Math', 'Physics', 'Unknown'], dtype=object)"
          },
          "metadata": {},
          "execution_count": 72
        }
      ]
    },
    {
      "cell_type": "markdown",
      "metadata": {
        "id": "ABQDGjU_iDGS",
        "colab_type": "text"
      },
      "source": [
        "Utilizamos a saída do _pipeline_ e os nomes das categorias recuperados do transformador para criar um novo `DataFrame`:"
      ]
    },
    {
      "cell_type": "code",
      "metadata": {
        "id": "3ec56uIcMvll",
        "colab_type": "code",
        "outputId": "5707acac-8d67-4d74-eb02-d73b98f6340a",
        "colab": {
          "base_uri": "https://localhost:8080/",
          "height": 206
        }
      },
      "source": [
        "course_discretized = pd.DataFrame(course_pipeline_transformation, columns=course_columns)\n",
        "\n",
        "course_discretized.head(5)"
      ],
      "execution_count": 73,
      "outputs": [
        {
          "output_type": "execute_result",
          "data": {
            "text/plain": "   Biology  Math  Physics  Unknown\n0        1     0        0        0\n1        1     0        0        0\n2        0     0        0        1\n3        1     0        0        0\n4        0     0        1        0",
            "text/html": "<div>\n<style scoped>\n    .dataframe tbody tr th:only-of-type {\n        vertical-align: middle;\n    }\n\n    .dataframe tbody tr th {\n        vertical-align: top;\n    }\n\n    .dataframe thead th {\n        text-align: right;\n    }\n</style>\n<table border=\"1\" class=\"dataframe\">\n  <thead>\n    <tr style=\"text-align: right;\">\n      <th></th>\n      <th>Biology</th>\n      <th>Math</th>\n      <th>Physics</th>\n      <th>Unknown</th>\n    </tr>\n  </thead>\n  <tbody>\n    <tr>\n      <th>0</th>\n      <td>1</td>\n      <td>0</td>\n      <td>0</td>\n      <td>0</td>\n    </tr>\n    <tr>\n      <th>1</th>\n      <td>1</td>\n      <td>0</td>\n      <td>0</td>\n      <td>0</td>\n    </tr>\n    <tr>\n      <th>2</th>\n      <td>0</td>\n      <td>0</td>\n      <td>0</td>\n      <td>1</td>\n    </tr>\n    <tr>\n      <th>3</th>\n      <td>1</td>\n      <td>0</td>\n      <td>0</td>\n      <td>0</td>\n    </tr>\n    <tr>\n      <th>4</th>\n      <td>0</td>\n      <td>0</td>\n      <td>1</td>\n      <td>0</td>\n    </tr>\n  </tbody>\n</table>\n</div>"
          },
          "metadata": {},
          "execution_count": 73
        }
      ]
    },
    {
      "cell_type": "markdown",
      "metadata": {
        "id": "OeO6hmSEiL6N",
        "colab_type": "text"
      },
      "source": [
        "Por fim, combinamos as saídas dos dois _pipelines_ para criar um único `DataFrame`:"
      ]
    },
    {
      "cell_type": "code",
      "metadata": {
        "id": "d8tL_jS1NTf7",
        "colab_type": "code",
        "outputId": "8b39c1c3-e549-4cea-fade-7c8e90d290ba",
        "colab": {
          "base_uri": "https://localhost:8080/",
          "height": 363
        }
      },
      "source": [
        "data_transformed = pd.concat([height_score_normalized_poly, course_discretized], axis=1)\n",
        "\n",
        "data_transformed.head(10)"
      ],
      "execution_count": 74,
      "outputs": [
        {
          "output_type": "execute_result",
          "data": {
            "text/plain": "   Height_n   Score_n  Height_n^2  Height_n Score_n  Score_n^2  Biology  Math  \\\n0  0.265531  0.485549    0.070507          0.128928   0.235758        1     0   \n1  0.490982  0.448940    0.241063          0.220422   0.201547        1     0   \n2  0.421844  0.488439    0.177952          0.206045   0.238573        0     0   \n3  0.556112  0.202312    0.309261          0.112508   0.040930        1     0   \n4  0.366733  0.450867    0.134493          0.165348   0.203281        0     0   \n5  0.505010  0.488439    0.255035          0.246667   0.238573        0     0   \n6  0.405812  0.734104    0.164683          0.297908   0.538909        1     0   \n7  0.330661  0.514451    0.109337          0.170109   0.264660        0     0   \n8  0.410822  0.645472    0.168774          0.265174   0.416634        0     0   \n9  0.333667  0.369942    0.111334          0.123438   0.136857        0     0   \n\n   Physics  Unknown  \n0        0        0  \n1        0        0  \n2        0        1  \n3        0        0  \n4        1        0  \n5        1        0  \n6        0        0  \n7        1        0  \n8        1        0  \n9        1        0  ",
            "text/html": "<div>\n<style scoped>\n    .dataframe tbody tr th:only-of-type {\n        vertical-align: middle;\n    }\n\n    .dataframe tbody tr th {\n        vertical-align: top;\n    }\n\n    .dataframe thead th {\n        text-align: right;\n    }\n</style>\n<table border=\"1\" class=\"dataframe\">\n  <thead>\n    <tr style=\"text-align: right;\">\n      <th></th>\n      <th>Height_n</th>\n      <th>Score_n</th>\n      <th>Height_n^2</th>\n      <th>Height_n Score_n</th>\n      <th>Score_n^2</th>\n      <th>Biology</th>\n      <th>Math</th>\n      <th>Physics</th>\n      <th>Unknown</th>\n    </tr>\n  </thead>\n  <tbody>\n    <tr>\n      <th>0</th>\n      <td>0.265531</td>\n      <td>0.485549</td>\n      <td>0.070507</td>\n      <td>0.128928</td>\n      <td>0.235758</td>\n      <td>1</td>\n      <td>0</td>\n      <td>0</td>\n      <td>0</td>\n    </tr>\n    <tr>\n      <th>1</th>\n      <td>0.490982</td>\n      <td>0.448940</td>\n      <td>0.241063</td>\n      <td>0.220422</td>\n      <td>0.201547</td>\n      <td>1</td>\n      <td>0</td>\n      <td>0</td>\n      <td>0</td>\n    </tr>\n    <tr>\n      <th>2</th>\n      <td>0.421844</td>\n      <td>0.488439</td>\n      <td>0.177952</td>\n      <td>0.206045</td>\n      <td>0.238573</td>\n      <td>0</td>\n      <td>0</td>\n      <td>0</td>\n      <td>1</td>\n    </tr>\n    <tr>\n      <th>3</th>\n      <td>0.556112</td>\n      <td>0.202312</td>\n      <td>0.309261</td>\n      <td>0.112508</td>\n      <td>0.040930</td>\n      <td>1</td>\n      <td>0</td>\n      <td>0</td>\n      <td>0</td>\n    </tr>\n    <tr>\n      <th>4</th>\n      <td>0.366733</td>\n      <td>0.450867</td>\n      <td>0.134493</td>\n      <td>0.165348</td>\n      <td>0.203281</td>\n      <td>0</td>\n      <td>0</td>\n      <td>1</td>\n      <td>0</td>\n    </tr>\n    <tr>\n      <th>5</th>\n      <td>0.505010</td>\n      <td>0.488439</td>\n      <td>0.255035</td>\n      <td>0.246667</td>\n      <td>0.238573</td>\n      <td>0</td>\n      <td>0</td>\n      <td>1</td>\n      <td>0</td>\n    </tr>\n    <tr>\n      <th>6</th>\n      <td>0.405812</td>\n      <td>0.734104</td>\n      <td>0.164683</td>\n      <td>0.297908</td>\n      <td>0.538909</td>\n      <td>1</td>\n      <td>0</td>\n      <td>0</td>\n      <td>0</td>\n    </tr>\n    <tr>\n      <th>7</th>\n      <td>0.330661</td>\n      <td>0.514451</td>\n      <td>0.109337</td>\n      <td>0.170109</td>\n      <td>0.264660</td>\n      <td>0</td>\n      <td>0</td>\n      <td>1</td>\n      <td>0</td>\n    </tr>\n    <tr>\n      <th>8</th>\n      <td>0.410822</td>\n      <td>0.645472</td>\n      <td>0.168774</td>\n      <td>0.265174</td>\n      <td>0.416634</td>\n      <td>0</td>\n      <td>0</td>\n      <td>1</td>\n      <td>0</td>\n    </tr>\n    <tr>\n      <th>9</th>\n      <td>0.333667</td>\n      <td>0.369942</td>\n      <td>0.111334</td>\n      <td>0.123438</td>\n      <td>0.136857</td>\n      <td>0</td>\n      <td>0</td>\n      <td>1</td>\n      <td>0</td>\n    </tr>\n  </tbody>\n</table>\n</div>"
          },
          "metadata": {},
          "execution_count": 74
        }
      ]
    },
    {
      "cell_type": "markdown",
      "metadata": {
        "id": "1NLD-pyliXWO",
        "colab_type": "text"
      },
      "source": [
        "Vale ressaltar que:\n",
        "\n",
        "* Poderíamos utilizar também o `ColumnTransformer` para compor (por isso, ele se encontra no módulo `sklearn.compose`) múltiplos `Pipeline` em diferentes variáveis.\n",
        "* Os `Pipeline` não servem apenas para a transformação dos dados de treinamento. Eles também podem (e devem) ser usados para submeter os dados de teste e até de produção aos mesmos procedimentos dos dados de treinamento."
      ]
    },
    {
      "cell_type": "markdown",
      "metadata": {
        "id": "SbShR7kMZGwE",
        "colab_type": "text"
      },
      "source": [
        "## _Outliers_\n",
        "\n",
        "_Outliers_, os famosos \"pontos fora da curva\", são observações que não parecem seguir o mesmo padrão dos demais dados. Eles podem vir de distribuições diferentes, serem erros na coleta de dados, erros de medição etc.\n",
        "\n",
        "Eles influenciam nossas análises e os nossos algoritmos ao apresentar comportamento distoante do resto do _data set_, impactando na média, variância, funções de perda e custo etc. Se fizer sentido, eles devem ser removidos ou transformados antes de prosseguirmos com a análise.\n",
        "\n",
        "No entanto, devemos julgar com cautela sua remoção: __alguns _outliers_ são dados autênticos e devem ser estudados com atenção__. Por exemplo, a remoção de uma medição muito alta na temperatura de um reator seria um erro, pois essa medição pode estar nos indicando um potencial problema com o dispositivo.\n",
        "\n",
        "Abaixo estudamos algumas técnicas simples para encontrar _outliers_.\n",
        "\n",
        "![outlier](https://www.stats4stem.org/common/web/plugins/ckeditor/plugins/doksoft_uploader/userfiles/WithInfOutlier.png)"
      ]
    },
    {
      "cell_type": "markdown",
      "metadata": {
        "id": "u3bsTDv0pAN4",
        "colab_type": "text"
      },
      "source": [
        "Começamos criando uma cópia da variável `Height` do nosso _data set_ para não impactar o original:"
      ]
    },
    {
      "cell_type": "code",
      "metadata": {
        "id": "tQ7AQztcZkYx",
        "colab_type": "code",
        "colab": {}
      },
      "source": [
        "height_outlier = data.Height.copy()"
      ],
      "execution_count": 75,
      "outputs": []
    },
    {
      "cell_type": "markdown",
      "metadata": {
        "id": "VQNHBAu4pHcp",
        "colab_type": "text"
      },
      "source": [
        "Adicionamos dez  _outliers_ que representam pessoas estranhamente baixas ou estranhamente altas para o padrão que estamos observando:"
      ]
    },
    {
      "cell_type": "code",
      "metadata": {
        "id": "nX2R3V0HZI0w",
        "colab_type": "code",
        "outputId": "6acbd63c-820e-485a-cde4-72a69fefe13d",
        "colab": {
          "base_uri": "https://localhost:8080/",
          "height": 208
        }
      },
      "source": [
        "height_outlier_idx = pd.Index(np.random.choice(height_outlier.index, 10, replace=False))\n",
        "\n",
        "too_short_idx = pd.Index(height_outlier_idx[:5])\n",
        "too_tall_idx = pd.Index(height_outlier_idx[5:])\n",
        "\n",
        "height_outlier[too_short_idx] = np.random.normal(loc=1.30, scale=0.5, size=5)\n",
        "height_outlier[too_tall_idx] = np.random.normal(loc=2.20, scale=0.5, size=5)\n",
        "\n",
        "outlier_idx = too_short_idx | too_tall_idx\n",
        "\n",
        "height_outlier[outlier_idx]\n"
      ],
      "execution_count": 76,
      "outputs": [
        {
          "output_type": "execute_result",
          "data": {
            "text/plain": "14    1.646795\n18    1.696510\n29    0.516665\n38    2.943781\n48    1.058498\n49    1.326605\n57    2.074231\n66    1.831315\n68    2.737088\n96    1.966029\nName: Height, dtype: float64"
          },
          "metadata": {},
          "execution_count": 76
        }
      ]
    },
    {
      "cell_type": "markdown",
      "metadata": {
        "id": "mwNbTzDnpoDL",
        "colab_type": "text"
      },
      "source": [
        "Note que nem todos dados gerados se tornaram realmente _outliers_. Como geramos de uma distribuição aleatória, corremos esse risco.\n",
        "\n",
        "No entanto, temos alguns dados estranhos como 0.51 m e 2.73 m."
      ]
    },
    {
      "cell_type": "markdown",
      "metadata": {
        "id": "x5pwD_1EqRNZ",
        "colab_type": "text"
      },
      "source": [
        "No _boxplot_ padrão, os dados mais extremos são mostrados como pontos fora do alcance dos _whiskers_ (as barrinhas do _box plot_).\n",
        "\n",
        "No caso abaixo, notamos três pontos acima e três pontos abaixo do considerado \"dentro da faixa normal\"."
      ]
    },
    {
      "cell_type": "code",
      "metadata": {
        "id": "hRMVhYz3b2KH",
        "colab_type": "code",
        "outputId": "9e090cef-804c-4f17-958b-5e25154662db",
        "colab": {
          "base_uri": "https://localhost:8080/",
          "height": 695
        }
      },
      "source": [
        "sns.boxplot(height_outlier, orient=\"vertical\");"
      ],
      "execution_count": 77,
      "outputs": [
        {
          "output_type": "display_data",
          "data": {
            "text/plain": "<Figure size 864x864 with 1 Axes>",
            "image/svg+xml": "<?xml version=\"1.0\" encoding=\"utf-8\" standalone=\"no\"?>\r\n<!DOCTYPE svg PUBLIC \"-//W3C//DTD SVG 1.1//EN\"\r\n  \"http://www.w3.org/Graphics/SVG/1.1/DTD/svg11.dtd\">\r\n<!-- Created with matplotlib (https://matplotlib.org/) -->\r\n<svg height=\"666.72pt\" version=\"1.1\" viewBox=\"0 0 723.905 666.72\" width=\"723.905pt\" xmlns=\"http://www.w3.org/2000/svg\" xmlns:xlink=\"http://www.w3.org/1999/xlink\">\r\n <defs>\r\n  <style type=\"text/css\">\r\n*{stroke-linecap:butt;stroke-linejoin:round;}\r\n  </style>\r\n </defs>\r\n <g id=\"figure_1\">\r\n  <g id=\"patch_1\">\r\n   <path d=\"M -0 666.72 \r\nL 723.905 666.72 \r\nL 723.905 0 \r\nL -0 0 \r\nz\r\n\" style=\"fill:#ffffff;\"/>\r\n  </g>\r\n  <g id=\"axes_1\">\r\n   <g id=\"patch_2\">\r\n    <path d=\"M 47.105 659.52 \r\nL 716.705 659.52 \r\nL 716.705 7.2 \r\nL 47.105 7.2 \r\nz\r\n\" style=\"fill:#eaeaf2;\"/>\r\n   </g>\r\n   <g id=\"matplotlib.axis_1\">\r\n    <g id=\"xtick_1\"/>\r\n   </g>\r\n   <g id=\"matplotlib.axis_2\">\r\n    <g id=\"ytick_1\">\r\n     <g id=\"line2d_1\">\r\n      <path clip-path=\"url(#p98b0ac86eb)\" d=\"M 47.105 633.940786 \r\nL 716.705 633.940786 \r\n\" style=\"fill:none;stroke:#ffffff;stroke-linecap:round;\"/>\r\n     </g>\r\n     <g id=\"text_1\">\r\n      <!-- 0.5 -->\r\n      <defs>\r\n       <path d=\"M 4.15625 35.296875 \r\nQ 4.15625 48 6.765625 55.734375 \r\nQ 9.375 63.484375 14.515625 67.671875 \r\nQ 19.671875 71.875 27.484375 71.875 \r\nQ 33.25 71.875 37.59375 69.546875 \r\nQ 41.9375 67.234375 44.765625 62.859375 \r\nQ 47.609375 58.5 49.21875 52.21875 \r\nQ 50.828125 45.953125 50.828125 35.296875 \r\nQ 50.828125 22.703125 48.234375 14.96875 \r\nQ 45.65625 7.234375 40.5 3 \r\nQ 35.359375 -1.21875 27.484375 -1.21875 \r\nQ 17.140625 -1.21875 11.234375 6.203125 \r\nQ 4.15625 15.140625 4.15625 35.296875 \r\nz\r\nM 13.1875 35.296875 \r\nQ 13.1875 17.671875 17.3125 11.828125 \r\nQ 21.4375 6 27.484375 6 \r\nQ 33.546875 6 37.671875 11.859375 \r\nQ 41.796875 17.71875 41.796875 35.296875 \r\nQ 41.796875 52.984375 37.671875 58.78125 \r\nQ 33.546875 64.59375 27.390625 64.59375 \r\nQ 21.34375 64.59375 17.71875 59.46875 \r\nQ 13.1875 52.9375 13.1875 35.296875 \r\nz\r\n\" id=\"ArialMT-48\"/>\r\n       <path d=\"M 9.078125 0 \r\nL 9.078125 10.015625 \r\nL 19.09375 10.015625 \r\nL 19.09375 0 \r\nz\r\n\" id=\"ArialMT-46\"/>\r\n       <path d=\"M 4.15625 18.75 \r\nL 13.375 19.53125 \r\nQ 14.40625 12.796875 18.140625 9.390625 \r\nQ 21.875 6 27.15625 6 \r\nQ 33.5 6 37.890625 10.78125 \r\nQ 42.28125 15.578125 42.28125 23.484375 \r\nQ 42.28125 31 38.0625 35.34375 \r\nQ 33.84375 39.703125 27 39.703125 \r\nQ 22.75 39.703125 19.328125 37.765625 \r\nQ 15.921875 35.84375 13.96875 32.765625 \r\nL 5.71875 33.84375 \r\nL 12.640625 70.609375 \r\nL 48.25 70.609375 \r\nL 48.25 62.203125 \r\nL 19.671875 62.203125 \r\nL 15.828125 42.96875 \r\nQ 22.265625 47.46875 29.34375 47.46875 \r\nQ 38.71875 47.46875 45.15625 40.96875 \r\nQ 51.609375 34.46875 51.609375 24.265625 \r\nQ 51.609375 14.546875 45.953125 7.46875 \r\nQ 39.0625 -1.21875 27.15625 -1.21875 \r\nQ 17.390625 -1.21875 11.203125 4.25 \r\nQ 5.03125 9.71875 4.15625 18.75 \r\nz\r\n\" id=\"ArialMT-53\"/>\r\n      </defs>\r\n      <g style=\"fill:#262626;\" transform=\"translate(22.315 637.877582)scale(0.11 -0.11)\">\r\n       <use xlink:href=\"#ArialMT-48\"/>\r\n       <use x=\"55.615234\" xlink:href=\"#ArialMT-46\"/>\r\n       <use x=\"83.398438\" xlink:href=\"#ArialMT-53\"/>\r\n      </g>\r\n     </g>\r\n    </g>\r\n    <g id=\"ytick_2\">\r\n     <g id=\"line2d_2\">\r\n      <path clip-path=\"url(#p98b0ac86eb)\" d=\"M 47.105 511.775596 \r\nL 716.705 511.775596 \r\n\" style=\"fill:none;stroke:#ffffff;stroke-linecap:round;\"/>\r\n     </g>\r\n     <g id=\"text_2\">\r\n      <!-- 1.0 -->\r\n      <defs>\r\n       <path d=\"M 37.25 0 \r\nL 28.46875 0 \r\nL 28.46875 56 \r\nQ 25.296875 52.984375 20.140625 49.953125 \r\nQ 14.984375 46.921875 10.890625 45.40625 \r\nL 10.890625 53.90625 \r\nQ 18.265625 57.375 23.78125 62.296875 \r\nQ 29.296875 67.234375 31.59375 71.875 \r\nL 37.25 71.875 \r\nz\r\n\" id=\"ArialMT-49\"/>\r\n      </defs>\r\n      <g style=\"fill:#262626;\" transform=\"translate(22.315 515.712392)scale(0.11 -0.11)\">\r\n       <use xlink:href=\"#ArialMT-49\"/>\r\n       <use x=\"55.615234\" xlink:href=\"#ArialMT-46\"/>\r\n       <use x=\"83.398438\" xlink:href=\"#ArialMT-48\"/>\r\n      </g>\r\n     </g>\r\n    </g>\r\n    <g id=\"ytick_3\">\r\n     <g id=\"line2d_3\">\r\n      <path clip-path=\"url(#p98b0ac86eb)\" d=\"M 47.105 389.610406 \r\nL 716.705 389.610406 \r\n\" style=\"fill:none;stroke:#ffffff;stroke-linecap:round;\"/>\r\n     </g>\r\n     <g id=\"text_3\">\r\n      <!-- 1.5 -->\r\n      <g style=\"fill:#262626;\" transform=\"translate(22.315 393.547202)scale(0.11 -0.11)\">\r\n       <use xlink:href=\"#ArialMT-49\"/>\r\n       <use x=\"55.615234\" xlink:href=\"#ArialMT-46\"/>\r\n       <use x=\"83.398438\" xlink:href=\"#ArialMT-53\"/>\r\n      </g>\r\n     </g>\r\n    </g>\r\n    <g id=\"ytick_4\">\r\n     <g id=\"line2d_4\">\r\n      <path clip-path=\"url(#p98b0ac86eb)\" d=\"M 47.105 267.445215 \r\nL 716.705 267.445215 \r\n\" style=\"fill:none;stroke:#ffffff;stroke-linecap:round;\"/>\r\n     </g>\r\n     <g id=\"text_4\">\r\n      <!-- 2.0 -->\r\n      <defs>\r\n       <path d=\"M 50.34375 8.453125 \r\nL 50.34375 0 \r\nL 3.03125 0 \r\nQ 2.9375 3.171875 4.046875 6.109375 \r\nQ 5.859375 10.9375 9.828125 15.625 \r\nQ 13.8125 20.3125 21.34375 26.46875 \r\nQ 33.015625 36.03125 37.109375 41.625 \r\nQ 41.21875 47.21875 41.21875 52.203125 \r\nQ 41.21875 57.421875 37.46875 61 \r\nQ 33.734375 64.59375 27.734375 64.59375 \r\nQ 21.390625 64.59375 17.578125 60.78125 \r\nQ 13.765625 56.984375 13.71875 50.25 \r\nL 4.6875 51.171875 \r\nQ 5.609375 61.28125 11.65625 66.578125 \r\nQ 17.71875 71.875 27.9375 71.875 \r\nQ 38.234375 71.875 44.234375 66.15625 \r\nQ 50.25 60.453125 50.25 52 \r\nQ 50.25 47.703125 48.484375 43.546875 \r\nQ 46.734375 39.40625 42.65625 34.8125 \r\nQ 38.578125 30.21875 29.109375 22.21875 \r\nQ 21.1875 15.578125 18.9375 13.203125 \r\nQ 16.703125 10.84375 15.234375 8.453125 \r\nz\r\n\" id=\"ArialMT-50\"/>\r\n      </defs>\r\n      <g style=\"fill:#262626;\" transform=\"translate(22.315 271.382012)scale(0.11 -0.11)\">\r\n       <use xlink:href=\"#ArialMT-50\"/>\r\n       <use x=\"55.615234\" xlink:href=\"#ArialMT-46\"/>\r\n       <use x=\"83.398438\" xlink:href=\"#ArialMT-48\"/>\r\n      </g>\r\n     </g>\r\n    </g>\r\n    <g id=\"ytick_5\">\r\n     <g id=\"line2d_5\">\r\n      <path clip-path=\"url(#p98b0ac86eb)\" d=\"M 47.105 145.280025 \r\nL 716.705 145.280025 \r\n\" style=\"fill:none;stroke:#ffffff;stroke-linecap:round;\"/>\r\n     </g>\r\n     <g id=\"text_5\">\r\n      <!-- 2.5 -->\r\n      <g style=\"fill:#262626;\" transform=\"translate(22.315 149.216822)scale(0.11 -0.11)\">\r\n       <use xlink:href=\"#ArialMT-50\"/>\r\n       <use x=\"55.615234\" xlink:href=\"#ArialMT-46\"/>\r\n       <use x=\"83.398438\" xlink:href=\"#ArialMT-53\"/>\r\n      </g>\r\n     </g>\r\n    </g>\r\n    <g id=\"ytick_6\">\r\n     <g id=\"line2d_6\">\r\n      <path clip-path=\"url(#p98b0ac86eb)\" d=\"M 47.105 23.114835 \r\nL 716.705 23.114835 \r\n\" style=\"fill:none;stroke:#ffffff;stroke-linecap:round;\"/>\r\n     </g>\r\n     <g id=\"text_6\">\r\n      <!-- 3.0 -->\r\n      <defs>\r\n       <path d=\"M 4.203125 18.890625 \r\nL 12.984375 20.0625 \r\nQ 14.5 12.59375 18.140625 9.296875 \r\nQ 21.78125 6 27 6 \r\nQ 33.203125 6 37.46875 10.296875 \r\nQ 41.75 14.59375 41.75 20.953125 \r\nQ 41.75 27 37.796875 30.921875 \r\nQ 33.84375 34.859375 27.734375 34.859375 \r\nQ 25.25 34.859375 21.53125 33.890625 \r\nL 22.515625 41.609375 \r\nQ 23.390625 41.5 23.921875 41.5 \r\nQ 29.546875 41.5 34.03125 44.421875 \r\nQ 38.53125 47.359375 38.53125 53.46875 \r\nQ 38.53125 58.296875 35.25 61.46875 \r\nQ 31.984375 64.65625 26.8125 64.65625 \r\nQ 21.6875 64.65625 18.265625 61.421875 \r\nQ 14.84375 58.203125 13.875 51.765625 \r\nL 5.078125 53.328125 \r\nQ 6.6875 62.15625 12.390625 67.015625 \r\nQ 18.109375 71.875 26.609375 71.875 \r\nQ 32.46875 71.875 37.390625 69.359375 \r\nQ 42.328125 66.84375 44.9375 62.5 \r\nQ 47.5625 58.15625 47.5625 53.265625 \r\nQ 47.5625 48.640625 45.0625 44.828125 \r\nQ 42.578125 41.015625 37.703125 38.765625 \r\nQ 44.046875 37.3125 47.5625 32.6875 \r\nQ 51.078125 28.078125 51.078125 21.140625 \r\nQ 51.078125 11.765625 44.234375 5.25 \r\nQ 37.40625 -1.265625 26.953125 -1.265625 \r\nQ 17.53125 -1.265625 11.296875 4.34375 \r\nQ 5.078125 9.96875 4.203125 18.890625 \r\nz\r\n\" id=\"ArialMT-51\"/>\r\n      </defs>\r\n      <g style=\"fill:#262626;\" transform=\"translate(22.315 27.051632)scale(0.11 -0.11)\">\r\n       <use xlink:href=\"#ArialMT-51\"/>\r\n       <use x=\"55.615234\" xlink:href=\"#ArialMT-46\"/>\r\n       <use x=\"83.398438\" xlink:href=\"#ArialMT-48\"/>\r\n      </g>\r\n     </g>\r\n    </g>\r\n    <g id=\"text_7\">\r\n     <!-- Height -->\r\n     <defs>\r\n      <path d=\"M 8.015625 0 \r\nL 8.015625 71.578125 \r\nL 17.484375 71.578125 \r\nL 17.484375 42.1875 \r\nL 54.6875 42.1875 \r\nL 54.6875 71.578125 \r\nL 64.15625 71.578125 \r\nL 64.15625 0 \r\nL 54.6875 0 \r\nL 54.6875 33.734375 \r\nL 17.484375 33.734375 \r\nL 17.484375 0 \r\nz\r\n\" id=\"ArialMT-72\"/>\r\n      <path d=\"M 42.09375 16.703125 \r\nL 51.171875 15.578125 \r\nQ 49.03125 7.625 43.21875 3.21875 \r\nQ 37.40625 -1.171875 28.375 -1.171875 \r\nQ 17 -1.171875 10.328125 5.828125 \r\nQ 3.65625 12.84375 3.65625 25.484375 \r\nQ 3.65625 38.578125 10.390625 45.796875 \r\nQ 17.140625 53.03125 27.875 53.03125 \r\nQ 38.28125 53.03125 44.875 45.953125 \r\nQ 51.46875 38.875 51.46875 26.03125 \r\nQ 51.46875 25.25 51.421875 23.6875 \r\nL 12.75 23.6875 \r\nQ 13.234375 15.140625 17.578125 10.59375 \r\nQ 21.921875 6.0625 28.421875 6.0625 \r\nQ 33.25 6.0625 36.671875 8.59375 \r\nQ 40.09375 11.140625 42.09375 16.703125 \r\nz\r\nM 13.234375 30.90625 \r\nL 42.1875 30.90625 \r\nQ 41.609375 37.453125 38.875 40.71875 \r\nQ 34.671875 45.796875 27.984375 45.796875 \r\nQ 21.921875 45.796875 17.796875 41.75 \r\nQ 13.671875 37.703125 13.234375 30.90625 \r\nz\r\n\" id=\"ArialMT-101\"/>\r\n      <path d=\"M 6.640625 61.46875 \r\nL 6.640625 71.578125 \r\nL 15.4375 71.578125 \r\nL 15.4375 61.46875 \r\nz\r\nM 6.640625 0 \r\nL 6.640625 51.859375 \r\nL 15.4375 51.859375 \r\nL 15.4375 0 \r\nz\r\n\" id=\"ArialMT-105\"/>\r\n      <path d=\"M 4.984375 -4.296875 \r\nL 13.53125 -5.5625 \r\nQ 14.0625 -9.515625 16.5 -11.328125 \r\nQ 19.78125 -13.765625 25.4375 -13.765625 \r\nQ 31.546875 -13.765625 34.859375 -11.328125 \r\nQ 38.1875 -8.890625 39.359375 -4.5 \r\nQ 40.046875 -1.8125 39.984375 6.78125 \r\nQ 34.234375 0 25.640625 0 \r\nQ 14.9375 0 9.078125 7.71875 \r\nQ 3.21875 15.4375 3.21875 26.21875 \r\nQ 3.21875 33.640625 5.90625 39.90625 \r\nQ 8.59375 46.1875 13.6875 49.609375 \r\nQ 18.796875 53.03125 25.6875 53.03125 \r\nQ 34.859375 53.03125 40.828125 45.609375 \r\nL 40.828125 51.859375 \r\nL 48.921875 51.859375 \r\nL 48.921875 7.03125 \r\nQ 48.921875 -5.078125 46.453125 -10.125 \r\nQ 44 -15.1875 38.640625 -18.109375 \r\nQ 33.296875 -21.046875 25.484375 -21.046875 \r\nQ 16.21875 -21.046875 10.5 -16.875 \r\nQ 4.78125 -12.703125 4.984375 -4.296875 \r\nz\r\nM 12.25 26.859375 \r\nQ 12.25 16.65625 16.296875 11.96875 \r\nQ 20.359375 7.28125 26.46875 7.28125 \r\nQ 32.515625 7.28125 36.609375 11.9375 \r\nQ 40.71875 16.609375 40.71875 26.5625 \r\nQ 40.71875 36.078125 36.5 40.90625 \r\nQ 32.28125 45.75 26.3125 45.75 \r\nQ 20.453125 45.75 16.34375 40.984375 \r\nQ 12.25 36.234375 12.25 26.859375 \r\nz\r\n\" id=\"ArialMT-103\"/>\r\n      <path d=\"M 6.59375 0 \r\nL 6.59375 71.578125 \r\nL 15.375 71.578125 \r\nL 15.375 45.90625 \r\nQ 21.53125 53.03125 30.90625 53.03125 \r\nQ 36.671875 53.03125 40.921875 50.75 \r\nQ 45.171875 48.484375 47 44.484375 \r\nQ 48.828125 40.484375 48.828125 32.859375 \r\nL 48.828125 0 \r\nL 40.046875 0 \r\nL 40.046875 32.859375 \r\nQ 40.046875 39.453125 37.1875 42.453125 \r\nQ 34.328125 45.453125 29.109375 45.453125 \r\nQ 25.203125 45.453125 21.75 43.421875 \r\nQ 18.3125 41.40625 16.84375 37.9375 \r\nQ 15.375 34.46875 15.375 28.375 \r\nL 15.375 0 \r\nz\r\n\" id=\"ArialMT-104\"/>\r\n      <path d=\"M 25.78125 7.859375 \r\nL 27.046875 0.09375 \r\nQ 23.34375 -0.6875 20.40625 -0.6875 \r\nQ 15.625 -0.6875 12.984375 0.828125 \r\nQ 10.359375 2.34375 9.28125 4.8125 \r\nQ 8.203125 7.28125 8.203125 15.1875 \r\nL 8.203125 45.015625 \r\nL 1.765625 45.015625 \r\nL 1.765625 51.859375 \r\nL 8.203125 51.859375 \r\nL 8.203125 64.703125 \r\nL 16.9375 69.96875 \r\nL 16.9375 51.859375 \r\nL 25.78125 51.859375 \r\nL 25.78125 45.015625 \r\nL 16.9375 45.015625 \r\nL 16.9375 14.703125 \r\nQ 16.9375 10.9375 17.40625 9.859375 \r\nQ 17.875 8.796875 18.921875 8.15625 \r\nQ 19.96875 7.515625 21.921875 7.515625 \r\nQ 23.390625 7.515625 25.78125 7.859375 \r\nz\r\n\" id=\"ArialMT-116\"/>\r\n     </defs>\r\n     <g style=\"fill:#262626;\" transform=\"translate(15.789375 350.702812)rotate(-90)scale(0.12 -0.12)\">\r\n      <use xlink:href=\"#ArialMT-72\"/>\r\n      <use x=\"72.216797\" xlink:href=\"#ArialMT-101\"/>\r\n      <use x=\"127.832031\" xlink:href=\"#ArialMT-105\"/>\r\n      <use x=\"150.048828\" xlink:href=\"#ArialMT-103\"/>\r\n      <use x=\"205.664062\" xlink:href=\"#ArialMT-104\"/>\r\n      <use x=\"261.279297\" xlink:href=\"#ArialMT-116\"/>\r\n     </g>\r\n    </g>\r\n   </g>\r\n   <g id=\"patch_3\">\r\n    <path clip-path=\"url(#p98b0ac86eb)\" d=\"M 114.065 369.636397 \r\nL 649.745 369.636397 \r\nL 649.745 305.133177 \r\nL 114.065 305.133177 \r\nL 114.065 369.636397 \r\nz\r\n\" style=\"fill:#5875a4;stroke:#4c4c4c;stroke-linejoin:miter;stroke-width:1.5;\"/>\r\n   </g>\r\n   <g id=\"line2d_7\">\r\n    <path clip-path=\"url(#p98b0ac86eb)\" d=\"M 381.905 369.636397 \r\nL 381.905 444.829071 \r\n\" style=\"fill:none;stroke:#4c4c4c;stroke-linecap:round;stroke-width:1.5;\"/>\r\n   </g>\r\n   <g id=\"line2d_8\">\r\n    <path clip-path=\"url(#p98b0ac86eb)\" d=\"M 381.905 305.133177 \r\nL 381.905 208.805924 \r\n\" style=\"fill:none;stroke:#4c4c4c;stroke-linecap:round;stroke-width:1.5;\"/>\r\n   </g>\r\n   <g id=\"line2d_9\">\r\n    <path clip-path=\"url(#p98b0ac86eb)\" d=\"M 247.985 444.829071 \r\nL 515.825 444.829071 \r\n\" style=\"fill:none;stroke:#4c4c4c;stroke-linecap:round;stroke-width:1.5;\"/>\r\n   </g>\r\n   <g id=\"line2d_10\">\r\n    <path clip-path=\"url(#p98b0ac86eb)\" d=\"M 247.985 208.805924 \r\nL 515.825 208.805924 \r\n\" style=\"fill:none;stroke:#4c4c4c;stroke-linecap:round;stroke-width:1.5;\"/>\r\n   </g>\r\n   <g id=\"line2d_11\">\r\n    <defs>\r\n     <path d=\"M 0 3.535534 \r\nL 2.12132 0 \r\nL 0 -3.535534 \r\nL -2.12132 0 \r\nz\r\n\" id=\"me8a07088bb\" style=\"stroke:#4c4c4c;stroke-linejoin:miter;\"/>\r\n    </defs>\r\n    <g clip-path=\"url(#p98b0ac86eb)\">\r\n     <use style=\"fill:#4c4c4c;stroke:#4c4c4c;stroke-linejoin:miter;\" x=\"381.905\" xlink:href=\"#me8a07088bb\" y=\"629.869091\"/>\r\n     <use style=\"fill:#4c4c4c;stroke:#4c4c4c;stroke-linejoin:miter;\" x=\"381.905\" xlink:href=\"#me8a07088bb\" y=\"497.482818\"/>\r\n     <use style=\"fill:#4c4c4c;stroke:#4c4c4c;stroke-linejoin:miter;\" x=\"381.905\" xlink:href=\"#me8a07088bb\" y=\"471.705413\"/>\r\n     <use style=\"fill:#4c4c4c;stroke:#4c4c4c;stroke-linejoin:miter;\" x=\"381.905\" xlink:href=\"#me8a07088bb\" y=\"36.850909\"/>\r\n     <use style=\"fill:#4c4c4c;stroke:#4c4c4c;stroke-linejoin:miter;\" x=\"381.905\" xlink:href=\"#me8a07088bb\" y=\"87.352343\"/>\r\n     <use style=\"fill:#4c4c4c;stroke:#4c4c4c;stroke-linejoin:miter;\" x=\"381.905\" xlink:href=\"#me8a07088bb\" y=\"200.987352\"/>\r\n    </g>\r\n   </g>\r\n   <g id=\"line2d_12\">\r\n    <path clip-path=\"url(#p98b0ac86eb)\" d=\"M 114.065 342.454642 \r\nL 649.745 342.454642 \r\n\" style=\"fill:none;stroke:#4c4c4c;stroke-linecap:round;stroke-width:1.5;\"/>\r\n   </g>\r\n   <g id=\"patch_4\">\r\n    <path d=\"M 47.105 659.52 \r\nL 47.105 7.2 \r\n\" style=\"fill:none;stroke:#ffffff;stroke-linecap:square;stroke-linejoin:miter;stroke-width:1.25;\"/>\r\n   </g>\r\n   <g id=\"patch_5\">\r\n    <path d=\"M 716.705 659.52 \r\nL 716.705 7.2 \r\n\" style=\"fill:none;stroke:#ffffff;stroke-linecap:square;stroke-linejoin:miter;stroke-width:1.25;\"/>\r\n   </g>\r\n   <g id=\"patch_6\">\r\n    <path d=\"M 47.105 659.52 \r\nL 716.705 659.52 \r\n\" style=\"fill:none;stroke:#ffffff;stroke-linecap:square;stroke-linejoin:miter;stroke-width:1.25;\"/>\r\n   </g>\r\n   <g id=\"patch_7\">\r\n    <path d=\"M 47.105 7.2 \r\nL 716.705 7.2 \r\n\" style=\"fill:none;stroke:#ffffff;stroke-linecap:square;stroke-linejoin:miter;stroke-width:1.25;\"/>\r\n   </g>\r\n  </g>\r\n </g>\r\n <defs>\r\n  <clipPath id=\"p98b0ac86eb\">\r\n   <rect height=\"652.32\" width=\"669.6\" x=\"47.105\" y=\"7.2\"/>\r\n  </clipPath>\r\n </defs>\r\n</svg>\r\n",
            "image/png": "[encoded data removed]"
          },
          "metadata": {}
        }
      ]
    },
    {
      "cell_type": "markdown",
      "metadata": {
        "id": "MOKP49JMqTog",
        "colab_type": "text"
      },
      "source": [
        "Uma primeira abordagem bem simples é encontrar os pontos do _box plot_ acima.\n",
        "\n",
        "Tudo que estiver fora da faixa $[Q1 - 1.5 \\times \\text{IQR}, Q3 + 1.5 \\times \\text{IQR}]$ é considerado um ponto anômalo para aquele padrão:"
      ]
    },
    {
      "cell_type": "code",
      "metadata": {
        "id": "z_h0zaVDce0N",
        "colab_type": "code",
        "outputId": "86b9e772-6438-4820-87ba-dab83a4b1dd8",
        "colab": {
          "base_uri": "https://localhost:8080/",
          "height": 34
        },
        "tags": []
      },
      "source": [
        "q1 = height_outlier.quantile(0.25)\n",
        "q3 = height_outlier.quantile(0.75)\n",
        "iqr = q3 - q1\n",
        "\n",
        "non_outlier_interval_iqr = [q1 - 1.5 * iqr, q3 + 1.5 * iqr]\n",
        "\n",
        "print(f\"Faixa considerada \\\"normal\\\": {non_outlier_interval_iqr}\")"
      ],
      "execution_count": 78,
      "outputs": [
        {
          "output_type": "stream",
          "name": "stdout",
          "text": "Faixa considerada \"normal\": [1.18575, 2.24175]\n"
        }
      ]
    },
    {
      "cell_type": "markdown",
      "metadata": {
        "id": "wsuVvr8hq4Rc",
        "colab_type": "text"
      },
      "source": [
        "Agora podemos identificar quais pontos encontram-se fora desse intervalo, ou seja, podem ser considerados _outliers_:"
      ]
    },
    {
      "cell_type": "code",
      "metadata": {
        "id": "hm78PWbhc9Dz",
        "colab_type": "code",
        "outputId": "ee3995ea-8a63-4c90-b3dd-57ba673887ee",
        "colab": {
          "base_uri": "https://localhost:8080/",
          "height": 139
        }
      },
      "source": [
        "outliers_iqr = height_outlier[(height_outlier < non_outlier_interval_iqr[0]) | (height_outlier > non_outlier_interval_iqr[1])]\n",
        "\n",
        "outliers_iqr"
      ],
      "execution_count": 79,
      "outputs": [
        {
          "output_type": "execute_result",
          "data": {
            "text/plain": "29    0.516665\n38    2.943781\n48    1.058498\n68    2.737088\n91    2.272000\n92    1.164000\nName: Height, dtype: float64"
          },
          "metadata": {},
          "execution_count": 79
        }
      ]
    },
    {
      "cell_type": "markdown",
      "metadata": {
        "id": "XcF70kmerGEq",
        "colab_type": "text"
      },
      "source": [
        "Se estivermos seguos de que esses pontos representam de fato _outliers_ e que sua remoção não traz prejuízo à nossa análise, então podemos removê-los:"
      ]
    },
    {
      "cell_type": "code",
      "metadata": {
        "id": "BVRJS9DNeb9z",
        "colab_type": "code",
        "colab": {}
      },
      "source": [
        "height_no_outlier_iqr = height_outlier.drop(index=outliers_iqr.index)"
      ],
      "execution_count": 80,
      "outputs": []
    },
    {
      "cell_type": "markdown",
      "metadata": {
        "id": "urvTyUfHrVrJ",
        "colab_type": "text"
      },
      "source": [
        "Uma segunda abordagem é observar as estatísticas descritivas dos dados.\n",
        "\n",
        "Repare no histograma abaixo:"
      ]
    },
    {
      "cell_type": "code",
      "metadata": {
        "id": "bc_paOePfHJ5",
        "colab_type": "code",
        "outputId": "6840da1c-bae6-4465-8aa7-87f69928e182",
        "colab": {
          "base_uri": "https://localhost:8080/",
          "height": 726
        }
      },
      "source": [
        "sns.distplot(height_outlier);"
      ],
      "execution_count": 81,
      "outputs": [
        {
          "output_type": "display_data",
          "data": {
            "text/plain": "<Figure size 864x864 with 1 Axes>",
            "image/svg+xml": "<?xml version=\"1.0\" encoding=\"utf-8\" standalone=\"no\"?>\r\n<!DOCTYPE svg PUBLIC \"-//W3C//DTD SVG 1.1//EN\"\r\n  \"http://www.w3.org/Graphics/SVG/1.1/DTD/svg11.dtd\">\r\n<!-- Created with matplotlib (https://matplotlib.org/) -->\r\n<svg height=\"701.394844pt\" version=\"1.1\" viewBox=\"0 0 714.907031 701.394844\" width=\"714.907031pt\" xmlns=\"http://www.w3.org/2000/svg\" xmlns:xlink=\"http://www.w3.org/1999/xlink\">\r\n <defs>\r\n  <style type=\"text/css\">\r\n*{stroke-linecap:butt;stroke-linejoin:round;}\r\n  </style>\r\n </defs>\r\n <g id=\"figure_1\">\r\n  <g id=\"patch_1\">\r\n   <path d=\"M 0 701.394844 \r\nL 714.907031 701.394844 \r\nL 714.907031 0 \r\nL 0 0 \r\nz\r\n\" style=\"fill:#ffffff;\"/>\r\n  </g>\r\n  <g id=\"axes_1\">\r\n   <g id=\"patch_2\">\r\n    <path d=\"M 38.107031 659.52 \r\nL 707.707031 659.52 \r\nL 707.707031 7.2 \r\nL 38.107031 7.2 \r\nz\r\n\" style=\"fill:#eaeaf2;\"/>\r\n   </g>\r\n   <g id=\"matplotlib.axis_1\">\r\n    <g id=\"xtick_1\">\r\n     <g id=\"line2d_1\">\r\n      <path clip-path=\"url(#pd2959e6208)\" d=\"M 116.633773 659.52 \r\nL 116.633773 7.2 \r\n\" style=\"fill:none;stroke:#ffffff;stroke-linecap:round;\"/>\r\n     </g>\r\n     <g id=\"text_1\">\r\n      <!-- 0.5 -->\r\n      <defs>\r\n       <path d=\"M 4.15625 35.296875 \r\nQ 4.15625 48 6.765625 55.734375 \r\nQ 9.375 63.484375 14.515625 67.671875 \r\nQ 19.671875 71.875 27.484375 71.875 \r\nQ 33.25 71.875 37.59375 69.546875 \r\nQ 41.9375 67.234375 44.765625 62.859375 \r\nQ 47.609375 58.5 49.21875 52.21875 \r\nQ 50.828125 45.953125 50.828125 35.296875 \r\nQ 50.828125 22.703125 48.234375 14.96875 \r\nQ 45.65625 7.234375 40.5 3 \r\nQ 35.359375 -1.21875 27.484375 -1.21875 \r\nQ 17.140625 -1.21875 11.234375 6.203125 \r\nQ 4.15625 15.140625 4.15625 35.296875 \r\nz\r\nM 13.1875 35.296875 \r\nQ 13.1875 17.671875 17.3125 11.828125 \r\nQ 21.4375 6 27.484375 6 \r\nQ 33.546875 6 37.671875 11.859375 \r\nQ 41.796875 17.71875 41.796875 35.296875 \r\nQ 41.796875 52.984375 37.671875 58.78125 \r\nQ 33.546875 64.59375 27.390625 64.59375 \r\nQ 21.34375 64.59375 17.71875 59.46875 \r\nQ 13.1875 52.9375 13.1875 35.296875 \r\nz\r\n\" id=\"ArialMT-48\"/>\r\n       <path d=\"M 9.078125 0 \r\nL 9.078125 10.015625 \r\nL 19.09375 10.015625 \r\nL 19.09375 0 \r\nz\r\n\" id=\"ArialMT-46\"/>\r\n       <path d=\"M 4.15625 18.75 \r\nL 13.375 19.53125 \r\nQ 14.40625 12.796875 18.140625 9.390625 \r\nQ 21.875 6 27.15625 6 \r\nQ 33.5 6 37.890625 10.78125 \r\nQ 42.28125 15.578125 42.28125 23.484375 \r\nQ 42.28125 31 38.0625 35.34375 \r\nQ 33.84375 39.703125 27 39.703125 \r\nQ 22.75 39.703125 19.328125 37.765625 \r\nQ 15.921875 35.84375 13.96875 32.765625 \r\nL 5.71875 33.84375 \r\nL 12.640625 70.609375 \r\nL 48.25 70.609375 \r\nL 48.25 62.203125 \r\nL 19.671875 62.203125 \r\nL 15.828125 42.96875 \r\nQ 22.265625 47.46875 29.34375 47.46875 \r\nQ 38.71875 47.46875 45.15625 40.96875 \r\nQ 51.609375 34.46875 51.609375 24.265625 \r\nQ 51.609375 14.546875 45.953125 7.46875 \r\nQ 39.0625 -1.21875 27.15625 -1.21875 \r\nQ 17.390625 -1.21875 11.203125 4.25 \r\nQ 5.03125 9.71875 4.15625 18.75 \r\nz\r\n\" id=\"ArialMT-53\"/>\r\n      </defs>\r\n      <g style=\"fill:#262626;\" transform=\"translate(108.988773 676.893594)scale(0.11 -0.11)\">\r\n       <use xlink:href=\"#ArialMT-48\"/>\r\n       <use x=\"55.615234\" xlink:href=\"#ArialMT-46\"/>\r\n       <use x=\"83.398438\" xlink:href=\"#ArialMT-53\"/>\r\n      </g>\r\n     </g>\r\n    </g>\r\n    <g id=\"xtick_2\">\r\n     <g id=\"line2d_2\">\r\n      <path clip-path=\"url(#pd2959e6208)\" d=\"M 220.791034 659.52 \r\nL 220.791034 7.2 \r\n\" style=\"fill:none;stroke:#ffffff;stroke-linecap:round;\"/>\r\n     </g>\r\n     <g id=\"text_2\">\r\n      <!-- 1.0 -->\r\n      <defs>\r\n       <path d=\"M 37.25 0 \r\nL 28.46875 0 \r\nL 28.46875 56 \r\nQ 25.296875 52.984375 20.140625 49.953125 \r\nQ 14.984375 46.921875 10.890625 45.40625 \r\nL 10.890625 53.90625 \r\nQ 18.265625 57.375 23.78125 62.296875 \r\nQ 29.296875 67.234375 31.59375 71.875 \r\nL 37.25 71.875 \r\nz\r\n\" id=\"ArialMT-49\"/>\r\n      </defs>\r\n      <g style=\"fill:#262626;\" transform=\"translate(213.146034 676.893594)scale(0.11 -0.11)\">\r\n       <use xlink:href=\"#ArialMT-49\"/>\r\n       <use x=\"55.615234\" xlink:href=\"#ArialMT-46\"/>\r\n       <use x=\"83.398438\" xlink:href=\"#ArialMT-48\"/>\r\n      </g>\r\n     </g>\r\n    </g>\r\n    <g id=\"xtick_3\">\r\n     <g id=\"line2d_3\">\r\n      <path clip-path=\"url(#pd2959e6208)\" d=\"M 324.948295 659.52 \r\nL 324.948295 7.2 \r\n\" style=\"fill:none;stroke:#ffffff;stroke-linecap:round;\"/>\r\n     </g>\r\n     <g id=\"text_3\">\r\n      <!-- 1.5 -->\r\n      <g style=\"fill:#262626;\" transform=\"translate(317.303295 676.893594)scale(0.11 -0.11)\">\r\n       <use xlink:href=\"#ArialMT-49\"/>\r\n       <use x=\"55.615234\" xlink:href=\"#ArialMT-46\"/>\r\n       <use x=\"83.398438\" xlink:href=\"#ArialMT-53\"/>\r\n      </g>\r\n     </g>\r\n    </g>\r\n    <g id=\"xtick_4\">\r\n     <g id=\"line2d_4\">\r\n      <path clip-path=\"url(#pd2959e6208)\" d=\"M 429.105556 659.52 \r\nL 429.105556 7.2 \r\n\" style=\"fill:none;stroke:#ffffff;stroke-linecap:round;\"/>\r\n     </g>\r\n     <g id=\"text_4\">\r\n      <!-- 2.0 -->\r\n      <defs>\r\n       <path d=\"M 50.34375 8.453125 \r\nL 50.34375 0 \r\nL 3.03125 0 \r\nQ 2.9375 3.171875 4.046875 6.109375 \r\nQ 5.859375 10.9375 9.828125 15.625 \r\nQ 13.8125 20.3125 21.34375 26.46875 \r\nQ 33.015625 36.03125 37.109375 41.625 \r\nQ 41.21875 47.21875 41.21875 52.203125 \r\nQ 41.21875 57.421875 37.46875 61 \r\nQ 33.734375 64.59375 27.734375 64.59375 \r\nQ 21.390625 64.59375 17.578125 60.78125 \r\nQ 13.765625 56.984375 13.71875 50.25 \r\nL 4.6875 51.171875 \r\nQ 5.609375 61.28125 11.65625 66.578125 \r\nQ 17.71875 71.875 27.9375 71.875 \r\nQ 38.234375 71.875 44.234375 66.15625 \r\nQ 50.25 60.453125 50.25 52 \r\nQ 50.25 47.703125 48.484375 43.546875 \r\nQ 46.734375 39.40625 42.65625 34.8125 \r\nQ 38.578125 30.21875 29.109375 22.21875 \r\nQ 21.1875 15.578125 18.9375 13.203125 \r\nQ 16.703125 10.84375 15.234375 8.453125 \r\nz\r\n\" id=\"ArialMT-50\"/>\r\n      </defs>\r\n      <g style=\"fill:#262626;\" transform=\"translate(421.460556 676.893594)scale(0.11 -0.11)\">\r\n       <use xlink:href=\"#ArialMT-50\"/>\r\n       <use x=\"55.615234\" xlink:href=\"#ArialMT-46\"/>\r\n       <use x=\"83.398438\" xlink:href=\"#ArialMT-48\"/>\r\n      </g>\r\n     </g>\r\n    </g>\r\n    <g id=\"xtick_5\">\r\n     <g id=\"line2d_5\">\r\n      <path clip-path=\"url(#pd2959e6208)\" d=\"M 533.262816 659.52 \r\nL 533.262816 7.2 \r\n\" style=\"fill:none;stroke:#ffffff;stroke-linecap:round;\"/>\r\n     </g>\r\n     <g id=\"text_5\">\r\n      <!-- 2.5 -->\r\n      <g style=\"fill:#262626;\" transform=\"translate(525.617816 676.893594)scale(0.11 -0.11)\">\r\n       <use xlink:href=\"#ArialMT-50\"/>\r\n       <use x=\"55.615234\" xlink:href=\"#ArialMT-46\"/>\r\n       <use x=\"83.398438\" xlink:href=\"#ArialMT-53\"/>\r\n      </g>\r\n     </g>\r\n    </g>\r\n    <g id=\"xtick_6\">\r\n     <g id=\"line2d_6\">\r\n      <path clip-path=\"url(#pd2959e6208)\" d=\"M 637.420077 659.52 \r\nL 637.420077 7.2 \r\n\" style=\"fill:none;stroke:#ffffff;stroke-linecap:round;\"/>\r\n     </g>\r\n     <g id=\"text_6\">\r\n      <!-- 3.0 -->\r\n      <defs>\r\n       <path d=\"M 4.203125 18.890625 \r\nL 12.984375 20.0625 \r\nQ 14.5 12.59375 18.140625 9.296875 \r\nQ 21.78125 6 27 6 \r\nQ 33.203125 6 37.46875 10.296875 \r\nQ 41.75 14.59375 41.75 20.953125 \r\nQ 41.75 27 37.796875 30.921875 \r\nQ 33.84375 34.859375 27.734375 34.859375 \r\nQ 25.25 34.859375 21.53125 33.890625 \r\nL 22.515625 41.609375 \r\nQ 23.390625 41.5 23.921875 41.5 \r\nQ 29.546875 41.5 34.03125 44.421875 \r\nQ 38.53125 47.359375 38.53125 53.46875 \r\nQ 38.53125 58.296875 35.25 61.46875 \r\nQ 31.984375 64.65625 26.8125 64.65625 \r\nQ 21.6875 64.65625 18.265625 61.421875 \r\nQ 14.84375 58.203125 13.875 51.765625 \r\nL 5.078125 53.328125 \r\nQ 6.6875 62.15625 12.390625 67.015625 \r\nQ 18.109375 71.875 26.609375 71.875 \r\nQ 32.46875 71.875 37.390625 69.359375 \r\nQ 42.328125 66.84375 44.9375 62.5 \r\nQ 47.5625 58.15625 47.5625 53.265625 \r\nQ 47.5625 48.640625 45.0625 44.828125 \r\nQ 42.578125 41.015625 37.703125 38.765625 \r\nQ 44.046875 37.3125 47.5625 32.6875 \r\nQ 51.078125 28.078125 51.078125 21.140625 \r\nQ 51.078125 11.765625 44.234375 5.25 \r\nQ 37.40625 -1.265625 26.953125 -1.265625 \r\nQ 17.53125 -1.265625 11.296875 4.34375 \r\nQ 5.078125 9.96875 4.203125 18.890625 \r\nz\r\n\" id=\"ArialMT-51\"/>\r\n      </defs>\r\n      <g style=\"fill:#262626;\" transform=\"translate(629.775077 676.893594)scale(0.11 -0.11)\">\r\n       <use xlink:href=\"#ArialMT-51\"/>\r\n       <use x=\"55.615234\" xlink:href=\"#ArialMT-46\"/>\r\n       <use x=\"83.398438\" xlink:href=\"#ArialMT-48\"/>\r\n      </g>\r\n     </g>\r\n    </g>\r\n    <g id=\"text_7\">\r\n     <!-- Height -->\r\n     <defs>\r\n      <path d=\"M 8.015625 0 \r\nL 8.015625 71.578125 \r\nL 17.484375 71.578125 \r\nL 17.484375 42.1875 \r\nL 54.6875 42.1875 \r\nL 54.6875 71.578125 \r\nL 64.15625 71.578125 \r\nL 64.15625 0 \r\nL 54.6875 0 \r\nL 54.6875 33.734375 \r\nL 17.484375 33.734375 \r\nL 17.484375 0 \r\nz\r\n\" id=\"ArialMT-72\"/>\r\n      <path d=\"M 42.09375 16.703125 \r\nL 51.171875 15.578125 \r\nQ 49.03125 7.625 43.21875 3.21875 \r\nQ 37.40625 -1.171875 28.375 -1.171875 \r\nQ 17 -1.171875 10.328125 5.828125 \r\nQ 3.65625 12.84375 3.65625 25.484375 \r\nQ 3.65625 38.578125 10.390625 45.796875 \r\nQ 17.140625 53.03125 27.875 53.03125 \r\nQ 38.28125 53.03125 44.875 45.953125 \r\nQ 51.46875 38.875 51.46875 26.03125 \r\nQ 51.46875 25.25 51.421875 23.6875 \r\nL 12.75 23.6875 \r\nQ 13.234375 15.140625 17.578125 10.59375 \r\nQ 21.921875 6.0625 28.421875 6.0625 \r\nQ 33.25 6.0625 36.671875 8.59375 \r\nQ 40.09375 11.140625 42.09375 16.703125 \r\nz\r\nM 13.234375 30.90625 \r\nL 42.1875 30.90625 \r\nQ 41.609375 37.453125 38.875 40.71875 \r\nQ 34.671875 45.796875 27.984375 45.796875 \r\nQ 21.921875 45.796875 17.796875 41.75 \r\nQ 13.671875 37.703125 13.234375 30.90625 \r\nz\r\n\" id=\"ArialMT-101\"/>\r\n      <path d=\"M 6.640625 61.46875 \r\nL 6.640625 71.578125 \r\nL 15.4375 71.578125 \r\nL 15.4375 61.46875 \r\nz\r\nM 6.640625 0 \r\nL 6.640625 51.859375 \r\nL 15.4375 51.859375 \r\nL 15.4375 0 \r\nz\r\n\" id=\"ArialMT-105\"/>\r\n      <path d=\"M 4.984375 -4.296875 \r\nL 13.53125 -5.5625 \r\nQ 14.0625 -9.515625 16.5 -11.328125 \r\nQ 19.78125 -13.765625 25.4375 -13.765625 \r\nQ 31.546875 -13.765625 34.859375 -11.328125 \r\nQ 38.1875 -8.890625 39.359375 -4.5 \r\nQ 40.046875 -1.8125 39.984375 6.78125 \r\nQ 34.234375 0 25.640625 0 \r\nQ 14.9375 0 9.078125 7.71875 \r\nQ 3.21875 15.4375 3.21875 26.21875 \r\nQ 3.21875 33.640625 5.90625 39.90625 \r\nQ 8.59375 46.1875 13.6875 49.609375 \r\nQ 18.796875 53.03125 25.6875 53.03125 \r\nQ 34.859375 53.03125 40.828125 45.609375 \r\nL 40.828125 51.859375 \r\nL 48.921875 51.859375 \r\nL 48.921875 7.03125 \r\nQ 48.921875 -5.078125 46.453125 -10.125 \r\nQ 44 -15.1875 38.640625 -18.109375 \r\nQ 33.296875 -21.046875 25.484375 -21.046875 \r\nQ 16.21875 -21.046875 10.5 -16.875 \r\nQ 4.78125 -12.703125 4.984375 -4.296875 \r\nz\r\nM 12.25 26.859375 \r\nQ 12.25 16.65625 16.296875 11.96875 \r\nQ 20.359375 7.28125 26.46875 7.28125 \r\nQ 32.515625 7.28125 36.609375 11.9375 \r\nQ 40.71875 16.609375 40.71875 26.5625 \r\nQ 40.71875 36.078125 36.5 40.90625 \r\nQ 32.28125 45.75 26.3125 45.75 \r\nQ 20.453125 45.75 16.34375 40.984375 \r\nQ 12.25 36.234375 12.25 26.859375 \r\nz\r\n\" id=\"ArialMT-103\"/>\r\n      <path d=\"M 6.59375 0 \r\nL 6.59375 71.578125 \r\nL 15.375 71.578125 \r\nL 15.375 45.90625 \r\nQ 21.53125 53.03125 30.90625 53.03125 \r\nQ 36.671875 53.03125 40.921875 50.75 \r\nQ 45.171875 48.484375 47 44.484375 \r\nQ 48.828125 40.484375 48.828125 32.859375 \r\nL 48.828125 0 \r\nL 40.046875 0 \r\nL 40.046875 32.859375 \r\nQ 40.046875 39.453125 37.1875 42.453125 \r\nQ 34.328125 45.453125 29.109375 45.453125 \r\nQ 25.203125 45.453125 21.75 43.421875 \r\nQ 18.3125 41.40625 16.84375 37.9375 \r\nQ 15.375 34.46875 15.375 28.375 \r\nL 15.375 0 \r\nz\r\n\" id=\"ArialMT-104\"/>\r\n      <path d=\"M 25.78125 7.859375 \r\nL 27.046875 0.09375 \r\nQ 23.34375 -0.6875 20.40625 -0.6875 \r\nQ 15.625 -0.6875 12.984375 0.828125 \r\nQ 10.359375 2.34375 9.28125 4.8125 \r\nQ 8.203125 7.28125 8.203125 15.1875 \r\nL 8.203125 45.015625 \r\nL 1.765625 45.015625 \r\nL 1.765625 51.859375 \r\nL 8.203125 51.859375 \r\nL 8.203125 64.703125 \r\nL 16.9375 69.96875 \r\nL 16.9375 51.859375 \r\nL 25.78125 51.859375 \r\nL 25.78125 45.015625 \r\nL 16.9375 45.015625 \r\nL 16.9375 14.703125 \r\nQ 16.9375 10.9375 17.40625 9.859375 \r\nQ 17.875 8.796875 18.921875 8.15625 \r\nQ 19.96875 7.515625 21.921875 7.515625 \r\nQ 23.390625 7.515625 25.78125 7.859375 \r\nz\r\n\" id=\"ArialMT-116\"/>\r\n     </defs>\r\n     <g style=\"fill:#262626;\" transform=\"translate(355.564219 691.669219)scale(0.12 -0.12)\">\r\n      <use xlink:href=\"#ArialMT-72\"/>\r\n      <use x=\"72.216797\" xlink:href=\"#ArialMT-101\"/>\r\n      <use x=\"127.832031\" xlink:href=\"#ArialMT-105\"/>\r\n      <use x=\"150.048828\" xlink:href=\"#ArialMT-103\"/>\r\n      <use x=\"205.664062\" xlink:href=\"#ArialMT-104\"/>\r\n      <use x=\"261.279297\" xlink:href=\"#ArialMT-116\"/>\r\n     </g>\r\n    </g>\r\n   </g>\r\n   <g id=\"matplotlib.axis_2\">\r\n    <g id=\"ytick_1\">\r\n     <g id=\"line2d_7\">\r\n      <path clip-path=\"url(#pd2959e6208)\" d=\"M 38.107031 659.52 \r\nL 707.707031 659.52 \r\n\" style=\"fill:none;stroke:#ffffff;stroke-linecap:round;\"/>\r\n     </g>\r\n     <g id=\"text_8\">\r\n      <!-- 0.00 -->\r\n      <g style=\"fill:#262626;\" transform=\"translate(7.2 663.456797)scale(0.11 -0.11)\">\r\n       <use xlink:href=\"#ArialMT-48\"/>\r\n       <use x=\"55.615234\" xlink:href=\"#ArialMT-46\"/>\r\n       <use x=\"83.398438\" xlink:href=\"#ArialMT-48\"/>\r\n       <use x=\"139.013672\" xlink:href=\"#ArialMT-48\"/>\r\n      </g>\r\n     </g>\r\n    </g>\r\n    <g id=\"ytick_2\">\r\n     <g id=\"line2d_8\">\r\n      <path clip-path=\"url(#pd2959e6208)\" d=\"M 38.107031 581.634506 \r\nL 707.707031 581.634506 \r\n\" style=\"fill:none;stroke:#ffffff;stroke-linecap:round;\"/>\r\n     </g>\r\n     <g id=\"text_9\">\r\n      <!-- 0.25 -->\r\n      <g style=\"fill:#262626;\" transform=\"translate(7.2 585.571303)scale(0.11 -0.11)\">\r\n       <use xlink:href=\"#ArialMT-48\"/>\r\n       <use x=\"55.615234\" xlink:href=\"#ArialMT-46\"/>\r\n       <use x=\"83.398438\" xlink:href=\"#ArialMT-50\"/>\r\n       <use x=\"139.013672\" xlink:href=\"#ArialMT-53\"/>\r\n      </g>\r\n     </g>\r\n    </g>\r\n    <g id=\"ytick_3\">\r\n     <g id=\"line2d_9\">\r\n      <path clip-path=\"url(#pd2959e6208)\" d=\"M 38.107031 503.749011 \r\nL 707.707031 503.749011 \r\n\" style=\"fill:none;stroke:#ffffff;stroke-linecap:round;\"/>\r\n     </g>\r\n     <g id=\"text_10\">\r\n      <!-- 0.50 -->\r\n      <g style=\"fill:#262626;\" transform=\"translate(7.2 507.685808)scale(0.11 -0.11)\">\r\n       <use xlink:href=\"#ArialMT-48\"/>\r\n       <use x=\"55.615234\" xlink:href=\"#ArialMT-46\"/>\r\n       <use x=\"83.398438\" xlink:href=\"#ArialMT-53\"/>\r\n       <use x=\"139.013672\" xlink:href=\"#ArialMT-48\"/>\r\n      </g>\r\n     </g>\r\n    </g>\r\n    <g id=\"ytick_4\">\r\n     <g id=\"line2d_10\">\r\n      <path clip-path=\"url(#pd2959e6208)\" d=\"M 38.107031 425.863517 \r\nL 707.707031 425.863517 \r\n\" style=\"fill:none;stroke:#ffffff;stroke-linecap:round;\"/>\r\n     </g>\r\n     <g id=\"text_11\">\r\n      <!-- 0.75 -->\r\n      <defs>\r\n       <path d=\"M 4.734375 62.203125 \r\nL 4.734375 70.65625 \r\nL 51.078125 70.65625 \r\nL 51.078125 63.8125 \r\nQ 44.234375 56.546875 37.515625 44.484375 \r\nQ 30.8125 32.421875 27.15625 19.671875 \r\nQ 24.515625 10.6875 23.78125 0 \r\nL 14.75 0 \r\nQ 14.890625 8.453125 18.0625 20.40625 \r\nQ 21.234375 32.375 27.171875 43.484375 \r\nQ 33.109375 54.59375 39.796875 62.203125 \r\nz\r\n\" id=\"ArialMT-55\"/>\r\n      </defs>\r\n      <g style=\"fill:#262626;\" transform=\"translate(7.2 429.800314)scale(0.11 -0.11)\">\r\n       <use xlink:href=\"#ArialMT-48\"/>\r\n       <use x=\"55.615234\" xlink:href=\"#ArialMT-46\"/>\r\n       <use x=\"83.398438\" xlink:href=\"#ArialMT-55\"/>\r\n       <use x=\"139.013672\" xlink:href=\"#ArialMT-53\"/>\r\n      </g>\r\n     </g>\r\n    </g>\r\n    <g id=\"ytick_5\">\r\n     <g id=\"line2d_11\">\r\n      <path clip-path=\"url(#pd2959e6208)\" d=\"M 38.107031 347.978023 \r\nL 707.707031 347.978023 \r\n\" style=\"fill:none;stroke:#ffffff;stroke-linecap:round;\"/>\r\n     </g>\r\n     <g id=\"text_12\">\r\n      <!-- 1.00 -->\r\n      <g style=\"fill:#262626;\" transform=\"translate(7.2 351.91482)scale(0.11 -0.11)\">\r\n       <use xlink:href=\"#ArialMT-49\"/>\r\n       <use x=\"55.615234\" xlink:href=\"#ArialMT-46\"/>\r\n       <use x=\"83.398438\" xlink:href=\"#ArialMT-48\"/>\r\n       <use x=\"139.013672\" xlink:href=\"#ArialMT-48\"/>\r\n      </g>\r\n     </g>\r\n    </g>\r\n    <g id=\"ytick_6\">\r\n     <g id=\"line2d_12\">\r\n      <path clip-path=\"url(#pd2959e6208)\" d=\"M 38.107031 270.092529 \r\nL 707.707031 270.092529 \r\n\" style=\"fill:none;stroke:#ffffff;stroke-linecap:round;\"/>\r\n     </g>\r\n     <g id=\"text_13\">\r\n      <!-- 1.25 -->\r\n      <g style=\"fill:#262626;\" transform=\"translate(7.2 274.029325)scale(0.11 -0.11)\">\r\n       <use xlink:href=\"#ArialMT-49\"/>\r\n       <use x=\"55.615234\" xlink:href=\"#ArialMT-46\"/>\r\n       <use x=\"83.398438\" xlink:href=\"#ArialMT-50\"/>\r\n       <use x=\"139.013672\" xlink:href=\"#ArialMT-53\"/>\r\n      </g>\r\n     </g>\r\n    </g>\r\n    <g id=\"ytick_7\">\r\n     <g id=\"line2d_13\">\r\n      <path clip-path=\"url(#pd2959e6208)\" d=\"M 38.107031 192.207034 \r\nL 707.707031 192.207034 \r\n\" style=\"fill:none;stroke:#ffffff;stroke-linecap:round;\"/>\r\n     </g>\r\n     <g id=\"text_14\">\r\n      <!-- 1.50 -->\r\n      <g style=\"fill:#262626;\" transform=\"translate(7.2 196.143831)scale(0.11 -0.11)\">\r\n       <use xlink:href=\"#ArialMT-49\"/>\r\n       <use x=\"55.615234\" xlink:href=\"#ArialMT-46\"/>\r\n       <use x=\"83.398438\" xlink:href=\"#ArialMT-53\"/>\r\n       <use x=\"139.013672\" xlink:href=\"#ArialMT-48\"/>\r\n      </g>\r\n     </g>\r\n    </g>\r\n    <g id=\"ytick_8\">\r\n     <g id=\"line2d_14\">\r\n      <path clip-path=\"url(#pd2959e6208)\" d=\"M 38.107031 114.32154 \r\nL 707.707031 114.32154 \r\n\" style=\"fill:none;stroke:#ffffff;stroke-linecap:round;\"/>\r\n     </g>\r\n     <g id=\"text_15\">\r\n      <!-- 1.75 -->\r\n      <g style=\"fill:#262626;\" transform=\"translate(7.2 118.258337)scale(0.11 -0.11)\">\r\n       <use xlink:href=\"#ArialMT-49\"/>\r\n       <use x=\"55.615234\" xlink:href=\"#ArialMT-46\"/>\r\n       <use x=\"83.398438\" xlink:href=\"#ArialMT-55\"/>\r\n       <use x=\"139.013672\" xlink:href=\"#ArialMT-53\"/>\r\n      </g>\r\n     </g>\r\n    </g>\r\n    <g id=\"ytick_9\">\r\n     <g id=\"line2d_15\">\r\n      <path clip-path=\"url(#pd2959e6208)\" d=\"M 38.107031 36.436046 \r\nL 707.707031 36.436046 \r\n\" style=\"fill:none;stroke:#ffffff;stroke-linecap:round;\"/>\r\n     </g>\r\n     <g id=\"text_16\">\r\n      <!-- 2.00 -->\r\n      <g style=\"fill:#262626;\" transform=\"translate(7.2 40.372843)scale(0.11 -0.11)\">\r\n       <use xlink:href=\"#ArialMT-50\"/>\r\n       <use x=\"55.615234\" xlink:href=\"#ArialMT-46\"/>\r\n       <use x=\"83.398438\" xlink:href=\"#ArialMT-48\"/>\r\n       <use x=\"139.013672\" xlink:href=\"#ArialMT-48\"/>\r\n      </g>\r\n     </g>\r\n    </g>\r\n   </g>\r\n   <g id=\"patch_3\">\r\n    <path clip-path=\"url(#pd2959e6208)\" d=\"M 120.105274 659.52 \r\nL 143.087252 659.52 \r\nL 143.087252 631.281039 \r\nL 120.105274 631.281039 \r\nz\r\n\" style=\"fill:#4c72b0;opacity:0.4;stroke:#ffffff;stroke-linejoin:miter;\"/>\r\n   </g>\r\n   <g id=\"patch_4\">\r\n    <path clip-path=\"url(#pd2959e6208)\" d=\"M 143.087252 659.52 \r\nL 166.06923 659.52 \r\nL 166.06923 659.52 \r\nL 143.087252 659.52 \r\nz\r\n\" style=\"fill:#4c72b0;opacity:0.4;stroke:#ffffff;stroke-linejoin:miter;\"/>\r\n   </g>\r\n   <g id=\"patch_5\">\r\n    <path clip-path=\"url(#pd2959e6208)\" d=\"M 166.06923 659.52 \r\nL 189.051208 659.52 \r\nL 189.051208 659.52 \r\nL 166.06923 659.52 \r\nz\r\n\" style=\"fill:#4c72b0;opacity:0.4;stroke:#ffffff;stroke-linejoin:miter;\"/>\r\n   </g>\r\n   <g id=\"patch_6\">\r\n    <path clip-path=\"url(#pd2959e6208)\" d=\"M 189.051208 659.52 \r\nL 212.033186 659.52 \r\nL 212.033186 659.52 \r\nL 189.051208 659.52 \r\nz\r\n\" style=\"fill:#4c72b0;opacity:0.4;stroke:#ffffff;stroke-linejoin:miter;\"/>\r\n   </g>\r\n   <g id=\"patch_7\">\r\n    <path clip-path=\"url(#pd2959e6208)\" d=\"M 212.033186 659.52 \r\nL 235.015164 659.52 \r\nL 235.015164 631.281039 \r\nL 212.033186 631.281039 \r\nz\r\n\" style=\"fill:#4c72b0;opacity:0.4;stroke:#ffffff;stroke-linejoin:miter;\"/>\r\n   </g>\r\n   <g id=\"patch_8\">\r\n    <path clip-path=\"url(#pd2959e6208)\" d=\"M 235.015164 659.52 \r\nL 257.997142 659.52 \r\nL 257.997142 631.281039 \r\nL 235.015164 631.281039 \r\nz\r\n\" style=\"fill:#4c72b0;opacity:0.4;stroke:#ffffff;stroke-linejoin:miter;\"/>\r\n   </g>\r\n   <g id=\"patch_9\">\r\n    <path clip-path=\"url(#pd2959e6208)\" d=\"M 257.997142 659.52 \r\nL 280.97912 659.52 \r\nL 280.97912 631.281039 \r\nL 257.997142 631.281039 \r\nz\r\n\" style=\"fill:#4c72b0;opacity:0.4;stroke:#ffffff;stroke-linejoin:miter;\"/>\r\n   </g>\r\n   <g id=\"patch_10\">\r\n    <path clip-path=\"url(#pd2959e6208)\" d=\"M 280.97912 659.52 \r\nL 303.961097 659.52 \r\nL 303.961097 574.803117 \r\nL 280.97912 574.803117 \r\nz\r\n\" style=\"fill:#4c72b0;opacity:0.4;stroke:#ffffff;stroke-linejoin:miter;\"/>\r\n   </g>\r\n   <g id=\"patch_11\">\r\n    <path clip-path=\"url(#pd2959e6208)\" d=\"M 303.961097 659.52 \r\nL 326.943075 659.52 \r\nL 326.943075 377.13039 \r\nL 303.961097 377.13039 \r\nz\r\n\" style=\"fill:#4c72b0;opacity:0.4;stroke:#ffffff;stroke-linejoin:miter;\"/>\r\n   </g>\r\n   <g id=\"patch_12\">\r\n    <path clip-path=\"url(#pd2959e6208)\" d=\"M 326.943075 659.52 \r\nL 349.925053 659.52 \r\nL 349.925053 207.696623 \r\nL 326.943075 207.696623 \r\nz\r\n\" style=\"fill:#4c72b0;opacity:0.4;stroke:#ffffff;stroke-linejoin:miter;\"/>\r\n   </g>\r\n   <g id=\"patch_13\">\r\n    <path clip-path=\"url(#pd2959e6208)\" d=\"M 349.925053 659.52 \r\nL 372.907031 659.52 \r\nL 372.907031 38.262857 \r\nL 349.925053 38.262857 \r\nz\r\n\" style=\"fill:#4c72b0;opacity:0.4;stroke:#ffffff;stroke-linejoin:miter;\"/>\r\n   </g>\r\n   <g id=\"patch_14\">\r\n    <path clip-path=\"url(#pd2959e6208)\" d=\"M 372.907031 659.52 \r\nL 395.889009 659.52 \r\nL 395.889009 122.97974 \r\nL 372.907031 122.97974 \r\nz\r\n\" style=\"fill:#4c72b0;opacity:0.4;stroke:#ffffff;stroke-linejoin:miter;\"/>\r\n   </g>\r\n   <g id=\"patch_15\">\r\n    <path clip-path=\"url(#pd2959e6208)\" d=\"M 395.889009 659.52 \r\nL 418.870987 659.52 \r\nL 418.870987 320.652468 \r\nL 395.889009 320.652468 \r\nz\r\n\" style=\"fill:#4c72b0;opacity:0.4;stroke:#ffffff;stroke-linejoin:miter;\"/>\r\n   </g>\r\n   <g id=\"patch_16\">\r\n    <path clip-path=\"url(#pd2959e6208)\" d=\"M 418.870987 659.52 \r\nL 441.852965 659.52 \r\nL 441.852965 518.325195 \r\nL 418.870987 518.325195 \r\nz\r\n\" style=\"fill:#4c72b0;opacity:0.4;stroke:#ffffff;stroke-linejoin:miter;\"/>\r\n   </g>\r\n   <g id=\"patch_17\">\r\n    <path clip-path=\"url(#pd2959e6208)\" d=\"M 441.852965 659.52 \r\nL 464.834943 659.52 \r\nL 464.834943 546.564156 \r\nL 441.852965 546.564156 \r\nz\r\n\" style=\"fill:#4c72b0;opacity:0.4;stroke:#ffffff;stroke-linejoin:miter;\"/>\r\n   </g>\r\n   <g id=\"patch_18\">\r\n    <path clip-path=\"url(#pd2959e6208)\" d=\"M 464.834943 659.52 \r\nL 487.816921 659.52 \r\nL 487.816921 574.803117 \r\nL 464.834943 574.803117 \r\nz\r\n\" style=\"fill:#4c72b0;opacity:0.4;stroke:#ffffff;stroke-linejoin:miter;\"/>\r\n   </g>\r\n   <g id=\"patch_19\">\r\n    <path clip-path=\"url(#pd2959e6208)\" d=\"M 487.816921 659.52 \r\nL 510.798899 659.52 \r\nL 510.798899 659.52 \r\nL 487.816921 659.52 \r\nz\r\n\" style=\"fill:#4c72b0;opacity:0.4;stroke:#ffffff;stroke-linejoin:miter;\"/>\r\n   </g>\r\n   <g id=\"patch_20\">\r\n    <path clip-path=\"url(#pd2959e6208)\" d=\"M 510.798899 659.52 \r\nL 533.780877 659.52 \r\nL 533.780877 659.52 \r\nL 510.798899 659.52 \r\nz\r\n\" style=\"fill:#4c72b0;opacity:0.4;stroke:#ffffff;stroke-linejoin:miter;\"/>\r\n   </g>\r\n   <g id=\"patch_21\">\r\n    <path clip-path=\"url(#pd2959e6208)\" d=\"M 533.780877 659.52 \r\nL 556.762855 659.52 \r\nL 556.762855 659.52 \r\nL 533.780877 659.52 \r\nz\r\n\" style=\"fill:#4c72b0;opacity:0.4;stroke:#ffffff;stroke-linejoin:miter;\"/>\r\n   </g>\r\n   <g id=\"patch_22\">\r\n    <path clip-path=\"url(#pd2959e6208)\" d=\"M 556.762855 659.52 \r\nL 579.744833 659.52 \r\nL 579.744833 659.52 \r\nL 556.762855 659.52 \r\nz\r\n\" style=\"fill:#4c72b0;opacity:0.4;stroke:#ffffff;stroke-linejoin:miter;\"/>\r\n   </g>\r\n   <g id=\"patch_23\">\r\n    <path clip-path=\"url(#pd2959e6208)\" d=\"M 579.744833 659.52 \r\nL 602.72681 659.52 \r\nL 602.72681 631.281039 \r\nL 579.744833 631.281039 \r\nz\r\n\" style=\"fill:#4c72b0;opacity:0.4;stroke:#ffffff;stroke-linejoin:miter;\"/>\r\n   </g>\r\n   <g id=\"patch_24\">\r\n    <path clip-path=\"url(#pd2959e6208)\" d=\"M 602.72681 659.52 \r\nL 625.708788 659.52 \r\nL 625.708788 631.281039 \r\nL 602.72681 631.281039 \r\nz\r\n\" style=\"fill:#4c72b0;opacity:0.4;stroke:#ffffff;stroke-linejoin:miter;\"/>\r\n   </g>\r\n   <g id=\"line2d_16\">\r\n    <path clip-path=\"url(#pd2959e6208)\" d=\"M 68.543395 659.263525 \r\nL 73.336523 659.096232 \r\nL 78.129651 658.711232 \r\nL 82.922779 658.018099 \r\nL 87.715907 656.91158 \r\nL 92.509036 655.315019 \r\nL 97.302164 653.236677 \r\nL 106.88842 648.3583 \r\nL 111.681548 646.252797 \r\nL 116.474676 644.90999 \r\nL 121.267804 644.615304 \r\nL 126.060932 645.434322 \r\nL 130.854061 647.189067 \r\nL 135.647189 649.520909 \r\nL 140.440317 652.009722 \r\nL 145.233445 654.295198 \r\nL 150.026573 656.153327 \r\nL 154.819701 657.510396 \r\nL 159.612829 658.407683 \r\nL 164.405958 658.945621 \r\nL 169.199086 659.23327 \r\nL 173.992214 659.355586 \r\nL 178.785342 659.357867 \r\nL 183.57847 659.240466 \r\nL 188.371598 658.957778 \r\nL 193.164726 658.420747 \r\nL 197.957854 657.507555 \r\nL 202.750983 656.088741 \r\nL 207.544111 654.068194 \r\nL 212.337239 651.430892 \r\nL 217.130367 648.277514 \r\nL 226.716623 641.354097 \r\nL 231.509751 638.140589 \r\nL 236.302879 635.356398 \r\nL 241.096008 633.013793 \r\nL 250.682264 628.809198 \r\nL 255.475392 626.158835 \r\nL 260.26852 622.483255 \r\nL 265.061648 617.290772 \r\nL 269.854776 610.163914 \r\nL 274.647905 600.773467 \r\nL 279.441033 588.83573 \r\nL 284.234161 574.038723 \r\nL 289.027289 555.998829 \r\nL 293.820417 534.304425 \r\nL 298.613545 508.647637 \r\nL 303.406673 478.974574 \r\nL 308.199801 445.556354 \r\nL 312.99293 408.930768 \r\nL 317.786058 369.761628 \r\nL 322.579186 328.737689 \r\nL 332.165442 244.442816 \r\nL 336.95857 203.734612 \r\nL 341.751698 166.576115 \r\nL 346.544827 135.356689 \r\nL 351.337955 112.262489 \r\nL 356.131083 98.685462 \r\nL 360.924211 94.812742 \r\nL 365.717339 99.591392 \r\nL 370.510467 111.103197 \r\nL 375.303595 127.210142 \r\nL 380.096723 146.220833 \r\nL 384.889852 167.322337 \r\nL 389.68298 190.619054 \r\nL 394.476108 216.782237 \r\nL 399.269236 246.475846 \r\nL 404.062364 279.814205 \r\nL 408.855492 316.078769 \r\nL 418.441749 391.06804 \r\nL 423.234877 426.109606 \r\nL 428.028005 457.593705 \r\nL 432.821133 484.892832 \r\nL 437.614261 508.049991 \r\nL 442.407389 527.561144 \r\nL 447.200517 544.064301 \r\nL 451.993645 558.072056 \r\nL 456.786774 569.867745 \r\nL 461.579902 579.601374 \r\nL 466.37303 587.50288 \r\nL 471.166158 594.052942 \r\nL 480.752414 606.044428 \r\nL 485.545542 612.788912 \r\nL 490.33867 620.307194 \r\nL 499.924927 635.998729 \r\nL 504.718055 642.913456 \r\nL 509.511183 648.550832 \r\nL 514.304311 652.752919 \r\nL 519.097439 655.617458 \r\nL 523.890567 657.394151 \r\nL 528.683696 658.368454 \r\nL 533.476824 658.774496 \r\nL 538.269952 658.751178 \r\nL 543.06308 658.337264 \r\nL 547.856208 657.496491 \r\nL 552.649336 656.165782 \r\nL 557.442464 654.318998 \r\nL 562.235592 652.030863 \r\nL 571.821849 647.109059 \r\nL 576.614977 645.191714 \r\nL 581.408105 644.056594 \r\nL 586.201233 643.789941 \r\nL 590.994361 644.216924 \r\nL 595.787489 644.95344 \r\nL 600.580618 645.552533 \r\nL 605.373746 645.686252 \r\nL 610.166874 645.282805 \r\nL 619.75313 643.919357 \r\nL 624.546258 643.807215 \r\nL 629.339386 644.510504 \r\nL 634.132514 646.069754 \r\nL 638.925643 648.280563 \r\nL 648.511899 653.225511 \r\nL 653.305027 655.311242 \r\nL 658.098155 656.910396 \r\nL 662.891283 658.017755 \r\nL 667.684411 658.711139 \r\nL 672.477539 659.096209 \r\nL 677.270668 659.263521 \r\nL 677.270668 659.263521 \r\n\" style=\"fill:none;stroke:#4c72b0;stroke-linecap:round;stroke-width:1.5;\"/>\r\n   </g>\r\n   <g id=\"patch_25\">\r\n    <path d=\"M 38.107031 659.52 \r\nL 38.107031 7.2 \r\n\" style=\"fill:none;stroke:#ffffff;stroke-linecap:square;stroke-linejoin:miter;stroke-width:1.25;\"/>\r\n   </g>\r\n   <g id=\"patch_26\">\r\n    <path d=\"M 707.707031 659.52 \r\nL 707.707031 7.2 \r\n\" style=\"fill:none;stroke:#ffffff;stroke-linecap:square;stroke-linejoin:miter;stroke-width:1.25;\"/>\r\n   </g>\r\n   <g id=\"patch_27\">\r\n    <path d=\"M 38.107031 659.52 \r\nL 707.707031 659.52 \r\n\" style=\"fill:none;stroke:#ffffff;stroke-linecap:square;stroke-linejoin:miter;stroke-width:1.25;\"/>\r\n   </g>\r\n   <g id=\"patch_28\">\r\n    <path d=\"M 38.107031 7.2 \r\nL 707.707031 7.2 \r\n\" style=\"fill:none;stroke:#ffffff;stroke-linecap:square;stroke-linejoin:miter;stroke-width:1.25;\"/>\r\n   </g>\r\n  </g>\r\n </g>\r\n <defs>\r\n  <clipPath id=\"pd2959e6208\">\r\n   <rect height=\"652.32\" width=\"669.6\" x=\"38.107031\" y=\"7.2\"/>\r\n  </clipPath>\r\n </defs>\r\n</svg>\r\n",
            "image/png": "[encoded data removed]"
          },
          "metadata": {}
        }
      ]
    },
    {
      "cell_type": "markdown",
      "metadata": {
        "id": "jI9ToieVrisQ",
        "colab_type": "text"
      },
      "source": [
        "Dá para perceber que a maior parte dos dados concentra-se em torno da média (~ 1.7 m) e que apenas algumas observações encontram-se bastante distantes dela."
      ]
    },
    {
      "cell_type": "code",
      "metadata": {
        "id": "q49-oFz4gBHs",
        "colab_type": "code",
        "outputId": "f968b883-a1e3-4ead-963a-19d9f25e9d9e",
        "colab": {
          "base_uri": "https://localhost:8080/",
          "height": 34
        }
      },
      "source": [
        "height_outlier_mean = height_outlier.mean()\n",
        "height_outlier_std = height_outlier.std()\n",
        "\n",
        "height_outlier_mean, height_outlier_std"
      ],
      "execution_count": 82,
      "outputs": [
        {
          "output_type": "execute_result",
          "data": {
            "text/plain": "(1.7181251474953014, 0.2948590174540895)"
          },
          "metadata": {},
          "execution_count": 82
        }
      ]
    },
    {
      "cell_type": "markdown",
      "metadata": {
        "id": "dTtLF6P2rvIh",
        "colab_type": "text"
      },
      "source": [
        "Um jeito de procurar por _outliers_ é ver quem se encontra fora do intervalo $[\\bar{x} - k * \\sigma, \\bar{x} + k * \\sigma]$, onde $k$ geralmente é 1.5, 2.0, 2.5 ou até 3.0.\n",
        "\n",
        "Abaixo utilizamos o $k = 2$, pois esse valor faz sentido (alturas menores que 1.12 m ou maiores que 2.30 m fogem do nosso padrão):"
      ]
    },
    {
      "cell_type": "code",
      "metadata": {
        "id": "cI8gL-QrgK1s",
        "colab_type": "code",
        "outputId": "6c472ac1-ea23-4dd3-b833-91969a62f92d",
        "colab": {
          "base_uri": "https://localhost:8080/",
          "height": 34
        }
      },
      "source": [
        "non_outlier_interval_dist = [height_outlier_mean - 2 * height_outlier_std, height_outlier_mean + 2 * height_outlier_std]\n",
        "\n",
        "non_outlier_interval_dist"
      ],
      "execution_count": 83,
      "outputs": [
        {
          "output_type": "execute_result",
          "data": {
            "text/plain": "[1.1284071125871225, 2.3078431824034804]"
          },
          "metadata": {},
          "execution_count": 83
        }
      ]
    },
    {
      "cell_type": "markdown",
      "metadata": {
        "id": "b5A37brPsVPw",
        "colab_type": "text"
      },
      "source": [
        "Novamente, conhecendo o intervalo, podemos identificar as observações que caem foram dele e removê-las:"
      ]
    },
    {
      "cell_type": "code",
      "metadata": {
        "id": "W6jVe5TMglf5",
        "colab_type": "code",
        "outputId": "c270dcb7-d46a-4dd8-94b3-c3d610269282",
        "colab": {
          "base_uri": "https://localhost:8080/",
          "height": 104
        }
      },
      "source": [
        "outliers_dist = height_outlier[(height_outlier < non_outlier_interval_dist[0]) | (height_outlier > non_outlier_interval_dist[1])]\n",
        "\n",
        "outliers_dist"
      ],
      "execution_count": 84,
      "outputs": [
        {
          "output_type": "execute_result",
          "data": {
            "text/plain": "29    0.516665\n38    2.943781\n48    1.058498\n68    2.737088\nName: Height, dtype: float64"
          },
          "metadata": {},
          "execution_count": 84
        }
      ]
    },
    {
      "cell_type": "code",
      "metadata": {
        "id": "jqYD2d3chJTK",
        "colab_type": "code",
        "colab": {}
      },
      "source": [
        "height_no_outlier_dist = height_outlier.drop(index=outliers_dist.index)"
      ],
      "execution_count": 85,
      "outputs": []
    },
    {
      "cell_type": "markdown",
      "metadata": {
        "id": "8IL5fWP1sePM",
        "colab_type": "text"
      },
      "source": [
        "Até agora, nossas métodos de identificação de _outlier_ foram baseadas em estatísticas descritivas do nosso _data set_ (quantis, média e variância). Porém, alguns testes de hipóteses também existem.\n",
        "\n",
        "Um deles é o teste de Grubb. Esse é um teste bastante simples, cuja estatística de teste $G$ depende dos valores extremos do conjunto e da média amostral:\n",
        "\n",
        "$$G = \\frac{\\vert x_{\\text{\\{min ou max\\}}} - \\bar{x}\\vert}{s}$$\n",
        "\n",
        "onde $\\bar{x}$ é a média amostral e $s$ é o desvio-padrão da amostra.\n",
        "\n",
        "A hipótese nula, $H_{0}$, é de que não existem _outliers_ no _data set_. O teste de Grubb assume que os dados originam-se de uma distribuição normal, então pode ser válido testar essa hipótese antes.\n",
        "\n",
        "Rejeitamos a hipótese nula se o valor de $G$ encontrado for superior ao valor crítico do teste, que é dado por\n",
        "\n",
        "$$G_{\\text{crítico}} = \\frac{n - 1}{\\sqrt{n}} \\sqrt{\\frac{t_{\\alpha',n-2}^{2}}{n - 2 + t_{\\alpha',n-2}^{2}}}$$\n",
        "\n",
        "onde $n$ é o tamanho da amostra, $t$ é um valor com distribuição t-Student e $\\alpha'$ é $\\alpha/2n$ se o teste for bilateral (procuramos _outliers_ muito acima ou muito abaixo) ou $\\alpha/n$ se o teste for unilateral (acreditamos que o _outlier_, se houver, está em somente uma das extremidades da distribuição)."
      ]
    },
    {
      "cell_type": "markdown",
      "metadata": {
        "id": "RNveH7ftxMOV",
        "colab_type": "text"
      },
      "source": [
        "Abaixo criamos algumas funções que nos auxiliam nos cálculos e na exibição dos resultados:"
      ]
    },
    {
      "cell_type": "code",
      "metadata": {
        "id": "Ir61-q0ckV6K",
        "colab_type": "code",
        "colab": {}
      },
      "source": [
        "def grubb_test(g, n, alpha=0.05, tailed='two-tailed'):\n",
        "  if tailed == 'two-tailed':\n",
        "    critical = ((n - 1)/sqrt(n)) * sqrt(sct.t.isf(alpha/(2*n), n-2)**2/(n - 2 + sct.t.isf(alpha/(2*n), n-2)**2))\n",
        "    \n",
        "    return (g, critical, g > critical)\n",
        "  elif tailed == 'one-tailed':\n",
        "    critical = ((n - 1)/sqrt(n)) * sqrt(sct.t.isf(alpha/(n), n-2)**2/(n - 2 + sct.t.isf(alpha/(n), n-2)**2))\n",
        "    \n",
        "    return (g, critical, g > critical)\n",
        "  else:\n",
        "    raise ValueError(f\"Invalid tailed argument\")"
      ],
      "execution_count": 86,
      "outputs": []
    },
    {
      "cell_type": "code",
      "metadata": {
        "id": "c--VvSPuuHaM",
        "colab_type": "code",
        "colab": {}
      },
      "source": [
        "def grubb_summary(result, decimals=10):\n",
        "  return (\n",
        "    f\"Null hypothesis: there is no outliers in the data set\\n\"\n",
        "    f\"Test statistic: {np.round(result[0], decimals)}, \"\n",
        "    f\"Grubb's critical value: {np.round(result[1], decimals)}, \"\n",
        "    f\"Reject: {result[2]}\"\n",
        "  )"
      ],
      "execution_count": 87,
      "outputs": []
    },
    {
      "cell_type": "code",
      "metadata": {
        "id": "d8nFGEVuqgdC",
        "colab_type": "code",
        "colab": {}
      },
      "source": [
        "def next_outlier_candidate(data):\n",
        "  sample_distances = (data - data.mean()).abs()\n",
        "  candidate_idx = sample_distances.idxmax()\n",
        "  candidate_value = data[candidate_idx]\n",
        "  candidate_statistic = sample_distances.max()/data.std()\n",
        "  \n",
        "  return (candidate_idx, candidate_value, candidate_statistic, len(data))"
      ],
      "execution_count": 88,
      "outputs": []
    },
    {
      "cell_type": "markdown",
      "metadata": {
        "id": "MRZwuyOOxU7U",
        "colab_type": "text"
      },
      "source": [
        "Ao executarmos o teste de Grubb no nosso conjunto de alturas, encontramos alguns valores onde a hipótese nula é rejeitada, ou seja, há evidência de que o valor extremo é um _outlier_."
      ]
    },
    {
      "cell_type": "code",
      "metadata": {
        "id": "Rz-yVWFlt-M6",
        "colab_type": "code",
        "outputId": "cb11e99b-2195-45d7-9089-fdf292a65e1c",
        "colab": {
          "base_uri": "https://localhost:8080/",
          "height": 434
        },
        "tags": []
      },
      "source": [
        "height_outlier_grubb = height_outlier.copy()\n",
        "outliers_grubb = pd.Series()\n",
        "has_outlier = True\n",
        "\n",
        "while has_outlier:\n",
        "  outlier_candidate = next_outlier_candidate(height_outlier_grubb)\n",
        "\n",
        "  print(f\"Index: {outlier_candidate[0]}, \"\n",
        "        f\"Value: {np.round(outlier_candidate[1], 3)}, \"\n",
        "        f\"Test statistic: {np.round(outlier_candidate[2], 3)}, \"\n",
        "        f\"Sample size: {outlier_candidate[3]}\\n\")\n",
        "\n",
        "  result = grubb_test(outlier_candidate[2], outlier_candidate[3])\n",
        "\n",
        "  print(grubb_summary(result, 3))\n",
        "\n",
        "  has_outlier = result[2]\n",
        "\n",
        "  if has_outlier:\n",
        "    height_outlier_grubb = height_outlier_grubb.drop(index=outlier_candidate[0])\n",
        "    outliers_grubb.at[outlier_candidate[0]] = outlier_candidate[1]\n",
        "    \n",
        "  print(f\"\\n\")"
      ],
      "execution_count": 89,
      "outputs": [
        {
          "output_type": "stream",
          "name": "stdout",
          "text": "Index: 38, Value: 2.944, Test statistic: 4.157, Sample size: 100\n\nNull hypothesis: there is no outliers in the data set\nTest statistic: 4.157, Grubb's critical value: 3.384, Reject: True\n\n\nIndex: 29, Value: 0.517, Test statistic: 4.421, Sample size: 99\n\nNull hypothesis: there is no outliers in the data set\nTest statistic: 4.421, Grubb's critical value: 3.381, Reject: True\n\n\nIndex: 68, Value: 2.737, Test statistic: 4.219, Sample size: 98\n\nNull hypothesis: there is no outliers in the data set\nTest statistic: 4.219, Grubb's critical value: 3.377, Reject: True\n\n\nIndex: 48, Value: 1.058, Test statistic: 2.96, Sample size: 97\n\nNull hypothesis: there is no outliers in the data set\nTest statistic: 2.96, Grubb's critical value: 3.374, Reject: False\n\n\n"
        }
      ]
    },
    {
      "cell_type": "code",
      "metadata": {
        "id": "49MMneSg-DCj",
        "colab_type": "code",
        "outputId": "a98df152-223e-43e1-ced9-d113a40b879f",
        "colab": {
          "base_uri": "https://localhost:8080/",
          "height": 86
        }
      },
      "source": [
        "outliers_grubb"
      ],
      "execution_count": 90,
      "outputs": [
        {
          "output_type": "execute_result",
          "data": {
            "text/plain": "38    2.943781\n29    0.516665\n68    2.737088\ndtype: float64"
          },
          "metadata": {},
          "execution_count": 90
        }
      ]
    },
    {
      "cell_type": "markdown",
      "metadata": {
        "id": "_hajYam661Zd",
        "colab_type": "text"
      },
      "source": [
        "Abaixo comparamos os _outliers_ encontrados por cada um dos três métodos:"
      ]
    },
    {
      "cell_type": "code",
      "metadata": {
        "id": "l3P2Bavg-zMK",
        "colab_type": "code",
        "outputId": "25065774-49a4-4509-fe92-70a4d32c8cd2",
        "colab": {
          "base_uri": "https://localhost:8080/",
          "height": 86
        }
      },
      "source": [
        "outliers = pd.Series({\"IQR\": outliers_iqr.index.values,\n",
        "                      \"Normal\": outliers_dist.index.values,\n",
        "                      \"Grubb\": outliers_grubb.index.values})\n",
        "\n",
        "outliers.apply(np.sort)"
      ],
      "execution_count": 91,
      "outputs": [
        {
          "output_type": "execute_result",
          "data": {
            "text/plain": "IQR       [29, 38, 48, 68, 91, 92]\nNormal            [29, 38, 48, 68]\nGrubb                 [29, 38, 68]\ndtype: object"
          },
          "metadata": {},
          "execution_count": 91
        }
      ]
    },
    {
      "cell_type": "markdown",
      "metadata": {
        "id": "1oMEwGs_DHJW",
        "colab_type": "text"
      },
      "source": [
        "## _Features_ de texto\n",
        "\n",
        "Dados textuais são muito ricos e muito fáceis de serem encontrados. Diversos _data sets_ são compostos por documentos textuais e ainda um simples _scrapper_ pode coletar dezenas de milhares de documentos da Internet. Coleções de documentos são frequentemente chamadas de _corpus_ (plural, _corpora_).\n",
        "\n",
        "Nosso objetivo aqui é somente mostrar como preprocessar de forma simples _features_ textuais. Para isso, utilizaremos o _data set_ 20 newsgroups, que contém milhares de documentos categorizados em 20 grupos (desde astronomia até carros)."
      ]
    },
    {
      "cell_type": "markdown",
      "metadata": {
        "id": "XItMVwyq8Dp9",
        "colab_type": "text"
      },
      "source": [
        "Abaixo escolhemos somente três grupos para restringir nosso escopo:"
      ]
    },
    {
      "cell_type": "code",
      "metadata": {
        "id": "usWrDfLvMNxw",
        "colab_type": "code",
        "colab": {}
      },
      "source": [
        "categories = [\"sci.crypt\", \"sci.med\", \"sci.space\"]\n",
        "\n",
        "newsgroups = fetch_20newsgroups(subset=\"train\", categories=categories, shuffle=True, random_state=42)"
      ],
      "execution_count": 92,
      "outputs": []
    },
    {
      "cell_type": "markdown",
      "metadata": {
        "id": "4uNwK5uREAn7",
        "colab_type": "text"
      },
      "source": [
        "Temos agora um _corpus_ com 1782 documentos:"
      ]
    },
    {
      "cell_type": "code",
      "metadata": {
        "id": "_lUWgt06EtnR",
        "colab_type": "code",
        "outputId": "f82dd8b7-5f76-477c-9173-ee35d0c7e0aa",
        "colab": {
          "base_uri": "https://localhost:8080/",
          "height": 34
        }
      },
      "source": [
        "len(newsgroups.data)"
      ],
      "execution_count": 93,
      "outputs": [
        {
          "output_type": "execute_result",
          "data": {
            "text/plain": "1782"
          },
          "metadata": {},
          "execution_count": 93
        }
      ]
    },
    {
      "cell_type": "markdown",
      "metadata": {
        "id": "xh326fr28Jyc",
        "colab_type": "text"
      },
      "source": [
        "Um exemplo de documento desse _corpus_ é mostrado abaixo:"
      ]
    },
    {
      "cell_type": "code",
      "metadata": {
        "id": "vsfaD72_M52H",
        "colab_type": "code",
        "outputId": "fb895197-8753-49e6-a631-e7716ad8c8ee",
        "colab": {
          "base_uri": "https://localhost:8080/",
          "height": 295
        },
        "tags": []
      },
      "source": [
        "document_idx = 4\n",
        "documents_total = len(newsgroups.data)\n",
        "\n",
        "print(f\"> Document {document_idx} of {documents_total}:\\n\\n{newsgroups.data[document_idx]}\")\n",
        "print(f\"> Category: {newsgroups.target_names[newsgroups.target[document_idx]]}\")"
      ],
      "execution_count": 94,
      "outputs": [
        {
          "output_type": "stream",
          "name": "stdout",
          "text": "> Document 4 of 1782:\n\nFrom: billc@col.hp.com (Bill Claussen)\nSubject: Re: Should I be angry at this doctor?\nOrganization: HP Colorado Springs Division\nLines: 5\nDistribution: na\nNNTP-Posting-Host: hpcspe17.col.hp.com\n\n\nReport them to your local BBB (Better Business Bureau).\n\nBill Claussen\n\n\n> Category: sci.med\n"
        }
      ]
    },
    {
      "cell_type": "markdown",
      "metadata": {
        "id": "6liTZFzv8Nas",
        "colab_type": "text"
      },
      "source": [
        "Quando trabalhando com dados textuais, uma representação simples é ter:\n",
        "\n",
        "* Cada documento em uma linha.\n",
        "* Cada palavra (ou termo) em uma coluna.\n",
        "\n",
        "Por exemplo, se nosso vocábulário (conjunto de todas palavras ou termos do _corpus_) tiver tamanho 10000 e tivermos 100 documentos, então nosso _data set_ será composto de 100 linhas e 10000 colunas."
      ]
    },
    {
      "cell_type": "markdown",
      "metadata": {
        "id": "qLBi7mFU8mLI",
        "colab_type": "text"
      },
      "source": [
        "O valor de cada célula, $x_{i, j}$, (interseção da linha $i$ com a coluna $j$) do _data set_ depende da tranformação que aplicarmos.\n",
        "\n",
        "A transformação mais simples é a contagem de palavras no documento, ou seja, $x_{i, j}$ indica o número de ocorrências da palavra $j$ no documento $i$.\n",
        "\n",
        "Isso pode ser obtido no sklearn pelo `CountVectorizer`:"
      ]
    },
    {
      "cell_type": "code",
      "metadata": {
        "id": "4E6FmUUhNs8b",
        "colab_type": "code",
        "colab": {}
      },
      "source": [
        "count_vectorizer = CountVectorizer()\n",
        "newsgroups_counts = count_vectorizer.fit_transform(newsgroups.data)"
      ],
      "execution_count": 95,
      "outputs": []
    },
    {
      "cell_type": "code",
      "metadata": {
        "id": "TSylOCPKjLmh",
        "colab_type": "code",
        "outputId": "d7b6e6b8-f227-4ec5-a34a-2cf93fc8ebb5",
        "colab": {
          "base_uri": "https://localhost:8080/",
          "height": 34
        }
      },
      "source": [
        "type(newsgroups_counts)"
      ],
      "execution_count": 96,
      "outputs": [
        {
          "output_type": "execute_result",
          "data": {
            "text/plain": "scipy.sparse.csr.csr_matrix"
          },
          "metadata": {},
          "execution_count": 96
        }
      ]
    },
    {
      "cell_type": "markdown",
      "metadata": {
        "id": "M4rtFrsF9CgR",
        "colab_type": "text"
      },
      "source": [
        "Abaixo escolhemos dez palavras contidas no _corpus_ para exemplificar:"
      ]
    },
    {
      "cell_type": "code",
      "metadata": {
        "id": "kmxzJhkSUpIZ",
        "colab_type": "code",
        "outputId": "613a8241-c25e-4d5d-9830-1cee04671fc4",
        "colab": {
          "base_uri": "https://localhost:8080/",
          "height": 206
        }
      },
      "source": [
        "words_idx = sorted([count_vectorizer.vocabulary_.get(f\"{word.lower()}\") for word in\n",
        "                    [u\"clipper\", u\"Kapor\",\n",
        "                     u\"monitor\", u\"gibberish\",\n",
        "                     u\"Banks\", u\"private\",\n",
        "                     u\"study\", u\"group\",\n",
        "                     u\"Colorado\", u\"Business\"]])\n",
        "\n",
        "pd.DataFrame(newsgroups_counts[:5, words_idx].toarray(), columns=np.array(count_vectorizer.get_feature_names())[words_idx])"
      ],
      "execution_count": 97,
      "outputs": [
        {
          "output_type": "execute_result",
          "data": {
            "text/plain": "   banks  business  clipper  colorado  gibberish  group  kapor  monitor  \\\n0      0         0        2         0          0      0      1        0   \n1      0         0        0         0          1      0      0        2   \n2      3         0        0         0          0      0      0        0   \n3      0         0        0         0          0      4      0        0   \n4      0         1        0         1          0      0      0        0   \n\n   private  study  \n0        0      0  \n1        0      0  \n2        1      0  \n3        0      2  \n4        0      0  ",
            "text/html": "<div>\n<style scoped>\n    .dataframe tbody tr th:only-of-type {\n        vertical-align: middle;\n    }\n\n    .dataframe tbody tr th {\n        vertical-align: top;\n    }\n\n    .dataframe thead th {\n        text-align: right;\n    }\n</style>\n<table border=\"1\" class=\"dataframe\">\n  <thead>\n    <tr style=\"text-align: right;\">\n      <th></th>\n      <th>banks</th>\n      <th>business</th>\n      <th>clipper</th>\n      <th>colorado</th>\n      <th>gibberish</th>\n      <th>group</th>\n      <th>kapor</th>\n      <th>monitor</th>\n      <th>private</th>\n      <th>study</th>\n    </tr>\n  </thead>\n  <tbody>\n    <tr>\n      <th>0</th>\n      <td>0</td>\n      <td>0</td>\n      <td>2</td>\n      <td>0</td>\n      <td>0</td>\n      <td>0</td>\n      <td>1</td>\n      <td>0</td>\n      <td>0</td>\n      <td>0</td>\n    </tr>\n    <tr>\n      <th>1</th>\n      <td>0</td>\n      <td>0</td>\n      <td>0</td>\n      <td>0</td>\n      <td>1</td>\n      <td>0</td>\n      <td>0</td>\n      <td>2</td>\n      <td>0</td>\n      <td>0</td>\n    </tr>\n    <tr>\n      <th>2</th>\n      <td>3</td>\n      <td>0</td>\n      <td>0</td>\n      <td>0</td>\n      <td>0</td>\n      <td>0</td>\n      <td>0</td>\n      <td>0</td>\n      <td>1</td>\n      <td>0</td>\n    </tr>\n    <tr>\n      <th>3</th>\n      <td>0</td>\n      <td>0</td>\n      <td>0</td>\n      <td>0</td>\n      <td>0</td>\n      <td>4</td>\n      <td>0</td>\n      <td>0</td>\n      <td>0</td>\n      <td>2</td>\n    </tr>\n    <tr>\n      <th>4</th>\n      <td>0</td>\n      <td>1</td>\n      <td>0</td>\n      <td>1</td>\n      <td>0</td>\n      <td>0</td>\n      <td>0</td>\n      <td>0</td>\n      <td>0</td>\n      <td>0</td>\n    </tr>\n  </tbody>\n</table>\n</div>"
          },
          "metadata": {},
          "execution_count": 97
        }
      ]
    },
    {
      "cell_type": "markdown",
      "metadata": {
        "id": "C7WuoRgP9WE9",
        "colab_type": "text"
      },
      "source": [
        "Por exemplo, o valor 2 na interseção do documento 0 com a coluna `clipper` indica que a palavra _clipper_ aparece duas vezes no documento 0. Obviamente é possível que uma mesma palavra apareça em múltiplos documentos e mais óbvio ainda que um documento contenha múltiplas palavras."
      ]
    },
    {
      "cell_type": "markdown",
      "metadata": {
        "id": "UQzj-_QT9p7e",
        "colab_type": "text"
      },
      "source": [
        "O problema com essa abordagem é que não temos como medir relevância dos termos. E se o  termo é super comum e aparece em quase todos documentos? E se o termo aparece muitas vezes no mesmo documento, mas poucas vezes nos outros?\n",
        "\n",
        "Essas perguntas não podem ser respondidas simplesmente com a contagem de termos acima. Para isso, precisamos do tf-idf."
      ]
    },
    {
      "cell_type": "markdown",
      "metadata": {
        "id": "AXBnOFk___QK",
        "colab_type": "text"
      },
      "source": [
        "O tf-idf é uma estatística baseada no _corpus_ composta de outras duas estatísticas:\n",
        "\n",
        "* $\\text{tf}(t, d)$, ou _term frequency_, é uma medida de quantas vezes o termo $t$ aparece no documento $d$. Algumas opções estão disponíveis, mas a mais simples é a contagem do número de ocorrências do termo no documento, $f_{t, d}$, exatamente o que computamos acima. Essa é a forma como sklearn define $tf$:\n",
        "\n",
        "$$\\text{tf}(t, d) = f_{t, d}$$\n",
        "\n",
        "* $\\text{idf}(t)$, ou _inverse document frequency_, é uma medida de relevância do termo em todos documentos do _corpus_. O sklearn a computa, seguindo valores _default_, da seguinte forma:\n",
        "\n",
        "$$\\text{idf}(t) = \\log{\\frac{1+n}{1 + d_{t}}} + 1$$\n",
        "\n",
        "onde $n$ é o número de documentos no _corpus_ e $d_{t}$ é o número de documentos no _corpus_ que contêm o termo $t$ ($0 < d_{t} \\leq n$).\n",
        "\n",
        "O tf-idf é calculado multiplicando esses dois valores:\n",
        "\n",
        "$$\\text{tf-idf}(t, d) = \\text{tf}(t, d) \\times \\text{idf}(t) = f_{t, d} \\times \\log{\\frac{1+n}{1 + d_{t}}} + 1$$\n",
        "\n",
        "O sklearn também normaliza todos documentos resultantes, ou seja todas linhas da matriz, para terem norma unitária. Em outras palavras, os elementos do vetor de tf-idf do documento $i$ são dados por:\n",
        "\n",
        "$$\\text{tf-idf}(i, j)_{\\text{normalizado}} = \\frac{\\text{tf-idf}(i, j)}{\\sqrt{\\text{tf-idf}(i, 1)^{2} + \\text{tf-idf}(i, 2)^{2} + \\cdots + \\text{tf-idf}(i, T)^{2}}}$$\n",
        "\n",
        "onde $T$ é o número de termos do _corpus_, ou seja, o tamanho do vocabulário."
      ]
    },
    {
      "cell_type": "markdown",
      "metadata": {
        "id": "bWpYWUMjCH8l",
        "colab_type": "text"
      },
      "source": [
        "O tf-idf é sempre um valor não negativo e quanto mais alto, maior a relevância do termo.\n",
        "\n",
        "Note como o tf aumenta de acordo com o número de ocorrências do termo no documento: quanto mais frequente o termo, mas relevante ele parece ser.\n",
        "\n",
        "O idf é uma medida de \"raridade\" do termo através de todo _corpus_: quanto mais alto, menos o termo aparece no _corpus_ e consequentemente mais informação ele traz.\n",
        "\n",
        "Multiplicando os dois, temos uma medida do quão relevante aquele termo é para aquele documento no _corpus_."
      ]
    },
    {
      "cell_type": "markdown",
      "metadata": {
        "id": "b_N2VQnwDaey",
        "colab_type": "text"
      },
      "source": [
        "O sklearn provê um transformador, `TfidfTransformer`, que transforma de uma matriz de frequências, como a retornada pelo `CountVectorizer`, e retorna uma matriz de tf-idf:"
      ]
    },
    {
      "cell_type": "code",
      "metadata": {
        "id": "Fyxgx0YhVwtF",
        "colab_type": "code",
        "colab": {}
      },
      "source": [
        "tfidf_transformer = TfidfTransformer()\n",
        "\n",
        "tfidf_transformer.fit(newsgroups_counts)\n",
        "\n",
        "newsgroups_tfidf = tfidf_transformer.transform(newsgroups_counts)"
      ],
      "execution_count": 98,
      "outputs": []
    },
    {
      "cell_type": "code",
      "metadata": {
        "id": "evk8smtLWNtO",
        "colab_type": "code",
        "outputId": "bf99b51a-e276-480c-dee9-13713e85a00b",
        "colab": {
          "base_uri": "https://localhost:8080/",
          "height": 206
        }
      },
      "source": [
        "pd.DataFrame(newsgroups_tfidf[:5, words_idx].toarray(), columns=np.array(count_vectorizer.get_feature_names())[words_idx])"
      ],
      "execution_count": 99,
      "outputs": [
        {
          "output_type": "execute_result",
          "data": {
            "text/plain": "      banks  business   clipper  colorado  gibberish     group     kapor  \\\n0  0.000000  0.000000  0.081293  0.000000   0.000000  0.000000  0.096368   \n1  0.000000  0.000000  0.000000  0.000000   0.109894  0.000000  0.000000   \n2  0.148152  0.000000  0.000000  0.000000   0.000000  0.000000  0.000000   \n3  0.000000  0.000000  0.000000  0.000000   0.000000  0.145223  0.000000   \n4  0.000000  0.117248  0.000000  0.131568   0.000000  0.000000  0.000000   \n\n    monitor   private     study  \n0  0.000000  0.000000  0.000000  \n1  0.179352  0.000000  0.000000  \n2  0.000000  0.048551  0.000000  \n3  0.000000  0.000000  0.083477  \n4  0.000000  0.000000  0.000000  ",
            "text/html": "<div>\n<style scoped>\n    .dataframe tbody tr th:only-of-type {\n        vertical-align: middle;\n    }\n\n    .dataframe tbody tr th {\n        vertical-align: top;\n    }\n\n    .dataframe thead th {\n        text-align: right;\n    }\n</style>\n<table border=\"1\" class=\"dataframe\">\n  <thead>\n    <tr style=\"text-align: right;\">\n      <th></th>\n      <th>banks</th>\n      <th>business</th>\n      <th>clipper</th>\n      <th>colorado</th>\n      <th>gibberish</th>\n      <th>group</th>\n      <th>kapor</th>\n      <th>monitor</th>\n      <th>private</th>\n      <th>study</th>\n    </tr>\n  </thead>\n  <tbody>\n    <tr>\n      <th>0</th>\n      <td>0.000000</td>\n      <td>0.000000</td>\n      <td>0.081293</td>\n      <td>0.000000</td>\n      <td>0.000000</td>\n      <td>0.000000</td>\n      <td>0.096368</td>\n      <td>0.000000</td>\n      <td>0.000000</td>\n      <td>0.000000</td>\n    </tr>\n    <tr>\n      <th>1</th>\n      <td>0.000000</td>\n      <td>0.000000</td>\n      <td>0.000000</td>\n      <td>0.000000</td>\n      <td>0.109894</td>\n      <td>0.000000</td>\n      <td>0.000000</td>\n      <td>0.179352</td>\n      <td>0.000000</td>\n      <td>0.000000</td>\n    </tr>\n    <tr>\n      <th>2</th>\n      <td>0.148152</td>\n      <td>0.000000</td>\n      <td>0.000000</td>\n      <td>0.000000</td>\n      <td>0.000000</td>\n      <td>0.000000</td>\n      <td>0.000000</td>\n      <td>0.000000</td>\n      <td>0.048551</td>\n      <td>0.000000</td>\n    </tr>\n    <tr>\n      <th>3</th>\n      <td>0.000000</td>\n      <td>0.000000</td>\n      <td>0.000000</td>\n      <td>0.000000</td>\n      <td>0.000000</td>\n      <td>0.145223</td>\n      <td>0.000000</td>\n      <td>0.000000</td>\n      <td>0.000000</td>\n      <td>0.083477</td>\n    </tr>\n    <tr>\n      <th>4</th>\n      <td>0.000000</td>\n      <td>0.117248</td>\n      <td>0.000000</td>\n      <td>0.131568</td>\n      <td>0.000000</td>\n      <td>0.000000</td>\n      <td>0.000000</td>\n      <td>0.000000</td>\n      <td>0.000000</td>\n      <td>0.000000</td>\n    </tr>\n  </tbody>\n</table>\n</div>"
          },
          "metadata": {},
          "execution_count": 99
        }
      ]
    },
    {
      "cell_type": "markdown",
      "metadata": {
        "id": "h9hI18kYDsuA",
        "colab_type": "text"
      },
      "source": [
        "Também podemos obter a matriz de tf-idf diretamente do _corpus_ sem ter que passar pela matriz de frequência com o transformador `TfidfVectorizer`:"
      ]
    },
    {
      "cell_type": "code",
      "metadata": {
        "id": "wPV4xrxzWlA-",
        "colab_type": "code",
        "colab": {}
      },
      "source": [
        "tfidf_vectorizer = TfidfVectorizer()\n",
        "\n",
        "tfidf_vectorizer.fit(newsgroups.data)\n",
        "\n",
        "newsgroups_tfidf_vectorized = tfidf_vectorizer.transform(newsgroups.data)"
      ],
      "execution_count": 100,
      "outputs": []
    },
    {
      "cell_type": "code",
      "metadata": {
        "id": "WAQ20ew-Wx5V",
        "colab_type": "code",
        "outputId": "fd781f7a-198a-444f-bfb8-baee26469ef0",
        "colab": {
          "base_uri": "https://localhost:8080/",
          "height": 206
        }
      },
      "source": [
        "pd.DataFrame(newsgroups_tfidf_vectorized[:5, words_idx].toarray(), columns=np.array(count_vectorizer.get_feature_names())[words_idx])"
      ],
      "execution_count": 101,
      "outputs": [
        {
          "output_type": "execute_result",
          "data": {
            "text/plain": "      banks  business   clipper  colorado  gibberish     group     kapor  \\\n0  0.000000  0.000000  0.081293  0.000000   0.000000  0.000000  0.096368   \n1  0.000000  0.000000  0.000000  0.000000   0.109894  0.000000  0.000000   \n2  0.148152  0.000000  0.000000  0.000000   0.000000  0.000000  0.000000   \n3  0.000000  0.000000  0.000000  0.000000   0.000000  0.145223  0.000000   \n4  0.000000  0.117248  0.000000  0.131568   0.000000  0.000000  0.000000   \n\n    monitor   private     study  \n0  0.000000  0.000000  0.000000  \n1  0.179352  0.000000  0.000000  \n2  0.000000  0.048551  0.000000  \n3  0.000000  0.000000  0.083477  \n4  0.000000  0.000000  0.000000  ",
            "text/html": "<div>\n<style scoped>\n    .dataframe tbody tr th:only-of-type {\n        vertical-align: middle;\n    }\n\n    .dataframe tbody tr th {\n        vertical-align: top;\n    }\n\n    .dataframe thead th {\n        text-align: right;\n    }\n</style>\n<table border=\"1\" class=\"dataframe\">\n  <thead>\n    <tr style=\"text-align: right;\">\n      <th></th>\n      <th>banks</th>\n      <th>business</th>\n      <th>clipper</th>\n      <th>colorado</th>\n      <th>gibberish</th>\n      <th>group</th>\n      <th>kapor</th>\n      <th>monitor</th>\n      <th>private</th>\n      <th>study</th>\n    </tr>\n  </thead>\n  <tbody>\n    <tr>\n      <th>0</th>\n      <td>0.000000</td>\n      <td>0.000000</td>\n      <td>0.081293</td>\n      <td>0.000000</td>\n      <td>0.000000</td>\n      <td>0.000000</td>\n      <td>0.096368</td>\n      <td>0.000000</td>\n      <td>0.000000</td>\n      <td>0.000000</td>\n    </tr>\n    <tr>\n      <th>1</th>\n      <td>0.000000</td>\n      <td>0.000000</td>\n      <td>0.000000</td>\n      <td>0.000000</td>\n      <td>0.109894</td>\n      <td>0.000000</td>\n      <td>0.000000</td>\n      <td>0.179352</td>\n      <td>0.000000</td>\n      <td>0.000000</td>\n    </tr>\n    <tr>\n      <th>2</th>\n      <td>0.148152</td>\n      <td>0.000000</td>\n      <td>0.000000</td>\n      <td>0.000000</td>\n      <td>0.000000</td>\n      <td>0.000000</td>\n      <td>0.000000</td>\n      <td>0.000000</td>\n      <td>0.048551</td>\n      <td>0.000000</td>\n    </tr>\n    <tr>\n      <th>3</th>\n      <td>0.000000</td>\n      <td>0.000000</td>\n      <td>0.000000</td>\n      <td>0.000000</td>\n      <td>0.000000</td>\n      <td>0.145223</td>\n      <td>0.000000</td>\n      <td>0.000000</td>\n      <td>0.000000</td>\n      <td>0.083477</td>\n    </tr>\n    <tr>\n      <th>4</th>\n      <td>0.000000</td>\n      <td>0.117248</td>\n      <td>0.000000</td>\n      <td>0.131568</td>\n      <td>0.000000</td>\n      <td>0.000000</td>\n      <td>0.000000</td>\n      <td>0.000000</td>\n      <td>0.000000</td>\n      <td>0.000000</td>\n    </tr>\n  </tbody>\n</table>\n</div>"
          },
          "metadata": {},
          "execution_count": 101
        }
      ]
    },
    {
      "cell_type": "markdown",
      "metadata": {
        "id": "RLFGR7A_D0px",
        "colab_type": "text"
      },
      "source": [
        "Note como a matriz acima é exatamente igual a retornada pelo `TfidfTransformer`.\n",
        "\n",
        "O resultado (igual da matriz de frequência) é um _data set_ com 1782 documentos e 33796 termos:"
      ]
    },
    {
      "cell_type": "code",
      "metadata": {
        "id": "8I_w7yLeYnRe",
        "colab_type": "code",
        "outputId": "e1162574-03a2-4368-c3b6-517759bb973f",
        "colab": {
          "base_uri": "https://localhost:8080/",
          "height": 34
        }
      },
      "source": [
        "newsgroups_tfidf_vectorized.shape"
      ],
      "execution_count": 102,
      "outputs": [
        {
          "output_type": "execute_result",
          "data": {
            "text/plain": "(1782, 33796)"
          },
          "metadata": {},
          "execution_count": 102
        }
      ]
    },
    {
      "cell_type": "markdown",
      "metadata": {
        "id": "NjPMTtkUwrS1",
        "colab_type": "text"
      },
      "source": [
        "## Referências\n",
        "\n",
        "* [Feature engineering](https://jakevdp.github.io/PythonDataScienceHandbook/05.04-feature-engineering.html)\n",
        "\n",
        "* [Feature Scaling with scikit-learn](http://benalexkeen.com/feature-scaling-with-scikit-learn/)\n",
        "\n",
        "* [Anthony Goldbloom gives you the secret to winning Kaggle competitions](https://www.import.io/post/how-to-win-a-kaggle-competition/)\n",
        "\n",
        "* [What are some best practices in Feature Engineering?](https://www.quora.com/What-are-some-best-practices-in-Feature-Engineering)\n",
        "\n",
        "* [Discover Feature Engineering, How to Engineer Features and How to Get Good at It](https://machinelearningmastery.com/discover-feature-engineering-how-to-engineer-features-and-how-to-get-good-at-it/)\n",
        "\n",
        "* [Fundamental Techniques of Feature Engineering for Machine Learning](https://towardsdatascience.com/feature-engineering-for-machine-learning-3a5e293a5114)\n",
        "\n",
        "* [Feature Engineering Cookbook for Machine Learning](https://medium.com/@michaelabehsera/feature-engineering-cookbook-for-machine-learning-7bf21f0bcbae)\n",
        "\n",
        "* [A Simple Guide to Scikit-learn Pipelines](https://medium.com/vickdata/a-simple-guide-to-scikit-learn-pipelines-4ac0d974bdcf)\n",
        "\n",
        "* [Outlier detection with Scikit Learn](https://www.mikulskibartosz.name/outlier-detection-with-scikit-learn/)\n",
        "\n",
        "* [Working With Text Data](https://scikit-learn.org/stable/tutorial/text_analytics/working_with_text_data.html)\n",
        "\n",
        "* [WTF is TF-IDF?](https://www.kdnuggets.com/2018/08/wtf-tf-idf.html)\n"
      ]
    }
  ]
}