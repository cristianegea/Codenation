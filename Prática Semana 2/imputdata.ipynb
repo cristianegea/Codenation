{
 "cells": [
  {
   "cell_type": "markdown",
   "metadata": {},
   "source": [
    "# Imputação de dados"
   ]
  },
  {
   "cell_type": "code",
   "execution_count": 1,
   "metadata": {},
   "outputs": [],
   "source": [
    "# importação da biblioteca\n",
    "import pandas as pd"
   ]
  },
  {
   "cell_type": "code",
   "execution_count": 2,
   "metadata": {},
   "outputs": [],
   "source": [
    "# leitura do arquivo\n",
    "df = pd.read_csv('train.csv')"
   ]
  },
  {
   "cell_type": "code",
   "execution_count": 3,
   "metadata": {},
   "outputs": [],
   "source": [
    "# criação do dataframe\n",
    "aux = pd.DataFrame({\n",
    "'colunas': df.columns,\n",
    "'tipos': df.dtypes,\n",
    "'% NA': (df.isna().sum()/df.shape[0])*100\n",
    "})"
   ]
  },
  {
   "cell_type": "code",
   "execution_count": 4,
   "metadata": {},
   "outputs": [
    {
     "output_type": "execute_result",
     "data": {
      "text/plain": "                 colunas    tipos       % NA\nPassengerId  PassengerId    int64   0.000000\nSurvived        Survived    int64   0.000000\nPclass            Pclass    int64   0.000000\nName                Name   object   0.000000\nSex                  Sex   object   0.000000\nAge                  Age  float64  19.865320\nSibSp              SibSp    int64   0.000000\nParch              Parch    int64   0.000000\nTicket            Ticket   object   0.000000\nFare                Fare  float64   0.000000\nCabin              Cabin   object  77.104377\nEmbarked        Embarked   object   0.224467",
      "text/html": "<div>\n<style scoped>\n    .dataframe tbody tr th:only-of-type {\n        vertical-align: middle;\n    }\n\n    .dataframe tbody tr th {\n        vertical-align: top;\n    }\n\n    .dataframe thead th {\n        text-align: right;\n    }\n</style>\n<table border=\"1\" class=\"dataframe\">\n  <thead>\n    <tr style=\"text-align: right;\">\n      <th></th>\n      <th>colunas</th>\n      <th>tipos</th>\n      <th>% NA</th>\n    </tr>\n  </thead>\n  <tbody>\n    <tr>\n      <th>PassengerId</th>\n      <td>PassengerId</td>\n      <td>int64</td>\n      <td>0.000000</td>\n    </tr>\n    <tr>\n      <th>Survived</th>\n      <td>Survived</td>\n      <td>int64</td>\n      <td>0.000000</td>\n    </tr>\n    <tr>\n      <th>Pclass</th>\n      <td>Pclass</td>\n      <td>int64</td>\n      <td>0.000000</td>\n    </tr>\n    <tr>\n      <th>Name</th>\n      <td>Name</td>\n      <td>object</td>\n      <td>0.000000</td>\n    </tr>\n    <tr>\n      <th>Sex</th>\n      <td>Sex</td>\n      <td>object</td>\n      <td>0.000000</td>\n    </tr>\n    <tr>\n      <th>Age</th>\n      <td>Age</td>\n      <td>float64</td>\n      <td>19.865320</td>\n    </tr>\n    <tr>\n      <th>SibSp</th>\n      <td>SibSp</td>\n      <td>int64</td>\n      <td>0.000000</td>\n    </tr>\n    <tr>\n      <th>Parch</th>\n      <td>Parch</td>\n      <td>int64</td>\n      <td>0.000000</td>\n    </tr>\n    <tr>\n      <th>Ticket</th>\n      <td>Ticket</td>\n      <td>object</td>\n      <td>0.000000</td>\n    </tr>\n    <tr>\n      <th>Fare</th>\n      <td>Fare</td>\n      <td>float64</td>\n      <td>0.000000</td>\n    </tr>\n    <tr>\n      <th>Cabin</th>\n      <td>Cabin</td>\n      <td>object</td>\n      <td>77.104377</td>\n    </tr>\n    <tr>\n      <th>Embarked</th>\n      <td>Embarked</td>\n      <td>object</td>\n      <td>0.224467</td>\n    </tr>\n  </tbody>\n</table>\n</div>"
     },
     "metadata": {},
     "execution_count": 4
    }
   ],
   "source": [
    "# exibição do dataframe\n",
    "aux\n",
    "\n",
    "# é possível observar a existência de NA: 'Age' (19.86%), 'Cabin' (77.10%) e 'Embarked' (0.22%)"
   ]
  },
  {
   "cell_type": "code",
   "execution_count": 5,
   "metadata": {},
   "outputs": [
    {
     "output_type": "execute_result",
     "data": {
      "text/plain": "                 colunas    tipos       % NA\nPassengerId  PassengerId    int64   0.000000\nSurvived        Survived    int64   0.000000\nPclass            Pclass    int64   0.000000\nName                Name   object   0.000000\nSex                  Sex   object   0.000000\nAge                  Age  float64   0.000000\nSibSp              SibSp    int64   0.000000\nParch              Parch    int64   0.000000\nTicket            Ticket   object   0.000000\nFare                Fare  float64   0.000000\nCabin              Cabin   object  77.104377\nEmbarked        Embarked   object   0.224467",
      "text/html": "<div>\n<style scoped>\n    .dataframe tbody tr th:only-of-type {\n        vertical-align: middle;\n    }\n\n    .dataframe tbody tr th {\n        vertical-align: top;\n    }\n\n    .dataframe thead th {\n        text-align: right;\n    }\n</style>\n<table border=\"1\" class=\"dataframe\">\n  <thead>\n    <tr style=\"text-align: right;\">\n      <th></th>\n      <th>colunas</th>\n      <th>tipos</th>\n      <th>% NA</th>\n    </tr>\n  </thead>\n  <tbody>\n    <tr>\n      <th>PassengerId</th>\n      <td>PassengerId</td>\n      <td>int64</td>\n      <td>0.000000</td>\n    </tr>\n    <tr>\n      <th>Survived</th>\n      <td>Survived</td>\n      <td>int64</td>\n      <td>0.000000</td>\n    </tr>\n    <tr>\n      <th>Pclass</th>\n      <td>Pclass</td>\n      <td>int64</td>\n      <td>0.000000</td>\n    </tr>\n    <tr>\n      <th>Name</th>\n      <td>Name</td>\n      <td>object</td>\n      <td>0.000000</td>\n    </tr>\n    <tr>\n      <th>Sex</th>\n      <td>Sex</td>\n      <td>object</td>\n      <td>0.000000</td>\n    </tr>\n    <tr>\n      <th>Age</th>\n      <td>Age</td>\n      <td>float64</td>\n      <td>0.000000</td>\n    </tr>\n    <tr>\n      <th>SibSp</th>\n      <td>SibSp</td>\n      <td>int64</td>\n      <td>0.000000</td>\n    </tr>\n    <tr>\n      <th>Parch</th>\n      <td>Parch</td>\n      <td>int64</td>\n      <td>0.000000</td>\n    </tr>\n    <tr>\n      <th>Ticket</th>\n      <td>Ticket</td>\n      <td>object</td>\n      <td>0.000000</td>\n    </tr>\n    <tr>\n      <th>Fare</th>\n      <td>Fare</td>\n      <td>float64</td>\n      <td>0.000000</td>\n    </tr>\n    <tr>\n      <th>Cabin</th>\n      <td>Cabin</td>\n      <td>object</td>\n      <td>77.104377</td>\n    </tr>\n    <tr>\n      <th>Embarked</th>\n      <td>Embarked</td>\n      <td>object</td>\n      <td>0.224467</td>\n    </tr>\n  </tbody>\n</table>\n</div>"
     },
     "metadata": {},
     "execution_count": 5
    }
   ],
   "source": [
    "# preenchimento dos dados faltantes\n",
    "# se os dados faltantes forem numéricos, o preenchimento pode ser com média, mediana ou moda\n",
    "df['Age'] = df['Age'].fillna(df['Age'].mean()) \n",
    "\n",
    "aux = pd.DataFrame({\n",
    "'colunas': df.columns,\n",
    "'tipos': df.dtypes,\n",
    "'% NA': (df.isna().sum()/df.shape[0])*100\n",
    "})\n",
    "\n",
    "aux"
   ]
  },
  {
   "cell_type": "code",
   "execution_count": 11,
   "metadata": {},
   "outputs": [
    {
     "output_type": "execute_result",
     "data": {
      "text/plain": "                 colunas    tipos  % NA\nPassengerId  PassengerId    int64   0.0\nSurvived        Survived    int64   0.0\nPclass            Pclass    int64   0.0\nName                Name   object   0.0\nSex                  Sex   object   0.0\nAge                  Age  float64   0.0\nSibSp              SibSp    int64   0.0\nParch              Parch    int64   0.0\nTicket            Ticket   object   0.0\nFare                Fare  float64   0.0\nCabin              Cabin   object   0.0\nEmbarked        Embarked   object   0.0",
      "text/html": "<div>\n<style scoped>\n    .dataframe tbody tr th:only-of-type {\n        vertical-align: middle;\n    }\n\n    .dataframe tbody tr th {\n        vertical-align: top;\n    }\n\n    .dataframe thead th {\n        text-align: right;\n    }\n</style>\n<table border=\"1\" class=\"dataframe\">\n  <thead>\n    <tr style=\"text-align: right;\">\n      <th></th>\n      <th>colunas</th>\n      <th>tipos</th>\n      <th>% NA</th>\n    </tr>\n  </thead>\n  <tbody>\n    <tr>\n      <th>PassengerId</th>\n      <td>PassengerId</td>\n      <td>int64</td>\n      <td>0.0</td>\n    </tr>\n    <tr>\n      <th>Survived</th>\n      <td>Survived</td>\n      <td>int64</td>\n      <td>0.0</td>\n    </tr>\n    <tr>\n      <th>Pclass</th>\n      <td>Pclass</td>\n      <td>int64</td>\n      <td>0.0</td>\n    </tr>\n    <tr>\n      <th>Name</th>\n      <td>Name</td>\n      <td>object</td>\n      <td>0.0</td>\n    </tr>\n    <tr>\n      <th>Sex</th>\n      <td>Sex</td>\n      <td>object</td>\n      <td>0.0</td>\n    </tr>\n    <tr>\n      <th>Age</th>\n      <td>Age</td>\n      <td>float64</td>\n      <td>0.0</td>\n    </tr>\n    <tr>\n      <th>SibSp</th>\n      <td>SibSp</td>\n      <td>int64</td>\n      <td>0.0</td>\n    </tr>\n    <tr>\n      <th>Parch</th>\n      <td>Parch</td>\n      <td>int64</td>\n      <td>0.0</td>\n    </tr>\n    <tr>\n      <th>Ticket</th>\n      <td>Ticket</td>\n      <td>object</td>\n      <td>0.0</td>\n    </tr>\n    <tr>\n      <th>Fare</th>\n      <td>Fare</td>\n      <td>float64</td>\n      <td>0.0</td>\n    </tr>\n    <tr>\n      <th>Cabin</th>\n      <td>Cabin</td>\n      <td>object</td>\n      <td>0.0</td>\n    </tr>\n    <tr>\n      <th>Embarked</th>\n      <td>Embarked</td>\n      <td>object</td>\n      <td>0.0</td>\n    </tr>\n  </tbody>\n</table>\n</div>"
     },
     "metadata": {},
     "execution_count": 11
    }
   ],
   "source": [
    "# preenchimento dos dados faltantes \n",
    "# se os dados faltantes não forem numéricos (dados categóricos), o preenchimento pode ser com \"unknown\"\n",
    "df['Cabin'] = df['Cabin'].fillna('unknown')\n",
    "df['Embarked'] = df['Embarked'].fillna('unknown')\n",
    "\n",
    "aux = pd.DataFrame({\n",
    "'colunas': df.columns,\n",
    "'tipos': df.dtypes,\n",
    "'% NA': (df.isna().sum()/df.shape[0])*100\n",
    "})\n",
    "\n",
    "aux"
   ]
  },
  {
   "cell_type": "code",
   "execution_count": null,
   "metadata": {},
   "outputs": [],
   "source": []
  }
 ],
 "metadata": {
  "language_info": {
   "codemirror_mode": {
    "name": "ipython",
    "version": 3
   },
   "file_extension": ".py",
   "mimetype": "text/x-python",
   "name": "python",
   "nbconvert_exporter": "python",
   "pygments_lexer": "ipython3",
   "version": "3.7.6-final"
  },
  "orig_nbformat": 2,
  "kernelspec": {
   "name": "python3",
   "display_name": "Python 3"
  }
 },
 "nbformat": 4,
 "nbformat_minor": 2
}