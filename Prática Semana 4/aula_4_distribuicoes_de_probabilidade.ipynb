{
 "cells": [
  {
   "cell_type": "markdown",
   "metadata": {
    "colab_type": "text",
    "id": "NWIKx7XbqO_8"
   },
   "source": [
    "![Codenation](https://forum.codenation.com.br/uploads/default/original/2X/2/2d2d2a9469f0171e7df2c4ee97f70c555e431e76.png)\n",
    "\n",
    "__Autor__: Kazuki Yokoyama (kazuki.yokoyama@ufrgs.br)"
   ]
  },
  {
   "cell_type": "markdown",
   "metadata": {
    "colab_type": "text",
    "id": "qdc6JWLJgoRT"
   },
   "source": [
    "# Distribuições de probabilidades\n",
    "\n",
    "## Distribuição Normal\n",
    "\n",
    "![normal](https://upload.wikimedia.org/wikipedia/commons/thumb/7/74/Normal_Distribution_PDF.svg/1200px-Normal_Distribution_PDF.svg.png)\n",
    "\n",
    "Neste módulo falaremos sobre distribuições de probabilidade. A importância disso é fundamentar nossos conhecimentos para entendermos bem os conceitos mais avançados de machine learning, que frequentemente requisitam alguma base em probabilidade e estatística.\n",
    "\n",
    "Falaremos portanto de variáveis aleatórias, funções de probabilidade, distribuição binomial e normal e, por fim, de técnicas de amostragem. "
   ]
  },
  {
   "cell_type": "code",
   "execution_count": 1,
   "metadata": {
    "colab": {},
    "colab_type": "code",
    "id": "tQPKPpJWmtle"
   },
   "outputs": [],
   "source": [
    "# Importação dos pacotes\n",
    "from math import sqrt\n",
    "import pandas as pd\n",
    "import matplotlib.pyplot as plt\n",
    "import numpy as np\n",
    "import scipy.stats as sct\n",
    "import seaborn as sns"
   ]
  },
  {
   "cell_type": "code",
   "execution_count": 2,
   "metadata": {
    "colab": {},
    "colab_type": "code",
    "id": "KGbaEKGpod9Y"
   },
   "outputs": [],
   "source": [
    "# Algumas configurações para o matplotlib.\n",
    "%matplotlib inline\n",
    "\n",
    "from IPython.core.pylabtools import figsize\n",
    "\n",
    "\n",
    "figsize(12, 8)\n",
    "\n",
    "sns.set()"
   ]
  },
  {
   "cell_type": "markdown",
   "metadata": {
    "colab_type": "text",
    "id": "rDBbvE0Gj_T-"
   },
   "source": [
    "## Variáveis aleatórias\n",
    "\n",
    "Primeiro, vamos definir uma variável aleatória, que será nossa unidade mais básica de estudo enquanto falarmos de distribuições de probabilidade.\n",
    "\n",
    "Uma variável aleatória $X$ é uma função (ou mapa) entre um espaço amostral e os números reais:\n",
    "\n",
    "$$X(\\omega): \\Omega \\rightarrow \\mathbb{R}$$\n",
    "\n",
    "A necessidade de estabelecer esse conceito é facilitar o trabalho com valores aleatórios e resultados de experimentos aleatórios. O espaço amostral original, $\\Omega$, pode ser muito complexo para se trabalhar diretamente, e uma medida mais simples dos resultados dos experimentos nesse espaço muitas vezes é o suficiente. Essa medida resumo dos possíveis resultados dos experimentos é o que chamamos de variável aleatória (V.A).\n",
    "\n",
    "> A notação na literatura é identificar a variável aleatória (a função) por uma letra maiúscula, por exemplo $X$, e um possível valor para ela (um número real) por uma letra minúscula, $x$.\n",
    "\n",
    "Uma V.A é dita discreta se ela pode tomar valores contáveis $\\{x_{1}, x_{2}, \\dots\\}$. E é dita contínua se ela pode tomar valores reais."
   ]
  },
  {
   "cell_type": "markdown",
   "metadata": {
    "colab_type": "text",
    "id": "qxtXhjdQmPOl"
   },
   "source": [
    "__Exemplo 1__ (Retirado de Casella e Berger):\n",
    "\n",
    "Imaginem o cenário onde queremos fazer uma pesquisa de opinião com 50 pessoas. Se anotarmos 0 para respostas \"Não\" e 1 para \"Sim\", nosso espaço amostral - a combinação de todas as respostas - é $2^{50}$, um número muito grande. Deve haver portanto um jeito de sumarizar essa informação. E há.\n",
    "\n",
    "Como queremos saber apenas, por exemplo, a quantidade de pessoas que responderam \"Sim\", podemos representar essa informaçao com apenas um único escalar. Podemos definir nossa variável aleatória, $X$, como $X = \\text{número de respondentes `Sim`}$. Reparem que os possíveis valores para $X$ são $\\{0, 1, 2, 3, \\dots, 50\\}$, que é bem menor que $2^{50}$."
   ]
  },
  {
   "cell_type": "markdown",
   "metadata": {
    "colab_type": "text",
    "id": "vukJ6YFEvxDz"
   },
   "source": [
    "## Função de distribuição acumulada (CDF)\n",
    "\n",
    "Associada a cada V.A existe uma __função de distribuição acumulada__ (do inglês, _Cumulative Distribution Function_ - CDF) que é definida como:\n",
    "\n",
    "$$\\Phi(x) = F_{X}(x) = P(X \\leq x)$$\n",
    "\n",
    "ou seja, a $F_{X}(x)$ é a probabilidade de obtermos um valor menor ou igual a $x$ para determinada V.A $X$. A partir de agora o sobrescrito $X$ da CDF será omitido e a V.A relacionada será implícita pela variável da função.\n",
    "\n",
    "Algumas propriedades que decorrem dessa definição são:\n",
    "\n",
    "* $F(x)$ é sempre não decrescente: $x_{1} < x_{2} \\rightarrow F(x_{1}) < F(x_{2})$.\n",
    "* $F(x)$ tem domínio no suporte de $X$ e imagem em $[0, 1]$.\n",
    "\n",
    "Se uma V.A $X$ tem distribuição de probabilidade dada pela CDF $F$, então escrevemos $X \\sim F$."
   ]
  },
  {
   "cell_type": "markdown",
   "metadata": {
    "colab_type": "text",
    "id": "bHzqS8hwwCuU"
   },
   "source": [
    "## Função de probabilidade\n",
    "\n",
    "Associada a CDF existe uma função de probabilidade, $P(X=x)$, que nos diz a probabilidade da variável aleatória $X$ tomar um determinado valor $x$. Para uma função ser considerada uma função de probabilidade válida, ela deve satisfazer:\n",
    "\n",
    "1. Ela deve ser sempre um valor não negativo, para qualquer valor de $X$: $P(X) \\geq 0$.\n",
    "2. A soma de todas probabilidades, para todos valores possíveis de $X$, deve ser exatamente igual a 1: $P(\\Omega) = 1$.\n",
    "3. A probabilidade da união de todos eventos (disjuntos dois a dois) deve ser igual à soma das probabilidades desses eventos: $P(\\cup_{i}A_{i}) = \\sum_{i} P(A_{i})$, se $A_{1}, A_{2}, \\dots$ forem disjuntos dois a dois.\n",
    "\n",
    "Chamamos de suporte de $X$ o conjunto de todos possíveis valores que $X$ pode assumir.\n",
    "\n",
    "Se a V.A é discreta, então $f(x) = P(X=x)$ é chamada de __função massa de probabilidade__.\n",
    "\n",
    "$$F(x) = P(X \\leq x) = \\sum_{k \\leq x} f(k) = \\sum_{k \\leq x} P(X = k)$$\n",
    "\n",
    "Se a V.A é contínua, então $f(x)$ é chamada __função de densidade de probabilidade__ e vale a relação (se $f(x)$ é contínua, o que acontece na maioria dos casos)\n",
    "\n",
    "$$P(X \\leq x) = F(x) = \\int_{-\\infty}^x f(t) dt$$\n",
    "\n",
    "logo\n",
    "\n",
    "$$f(x) = \\frac{d}{dx}F(x)$$\n",
    "\n",
    "Note que, se $X$ é contínua, $P(X=x) = 0$ para qualquer valor de $x$ no suporte de $X$. Consequentemente se $X$ é contínua, $P(X \\leq x) = P(X < x)$."
   ]
  },
  {
   "cell_type": "markdown",
   "metadata": {
    "colab_type": "text",
    "id": "0LqlhhvgNJEn"
   },
   "source": [
    "A função densidade de probabilidade de uma V.A contínua não nos dá uma probabilidade em si, mas sim uma função cuja integral é uma probabilidade. Como em Cálculo I, a integral de uma função pode ser interpretada geometricamente como a área embaixo da curva dessa função, para determinado intervalo. Aqui no nosso caso, essa área é $F(x)$, enquanto a função é $f(x)$.\n",
    "\n",
    "Um importante teorema que decorre é o seguinte:\n",
    "\n",
    "$$P(a \\leq X \\leq b) = F(b) - F(a) = \\int_{a}^{b} f(t) dt$$"
   ]
  },
  {
   "cell_type": "markdown",
   "metadata": {
    "colab_type": "text",
    "id": "WCmQ5aIbO9Ik"
   },
   "source": [
    "Com isso, temos o básico de funções de probabilidade para prosseguirmos o estudo de distribuições."
   ]
  },
  {
   "cell_type": "markdown",
   "metadata": {
    "colab_type": "text",
    "id": "APAayg3SPIqO"
   },
   "source": [
    "## Distribuição normal\n",
    "\n",
    "A distribuição normal (ou Gaussiana) é uma das mais famosas e icônicas distribuições __contínuas__ da estatística. Sua fama não é à toa. A distribuição normal tem importância devido a, principalmente, três fatores:\n",
    "\n",
    "1. Seu tratamento analítico é muito fácil e já foi bastante explorado.\n",
    "2. Muitos fenômenos naturais são facilmente modelados como distribuições normais.\n",
    "3. Vários resultados importantes da estatística são dados em função da distribuição normal.\n",
    "\n",
    "A distribuição normal tem dois parâmetros, $\\mu$ e $\\sigma^{2}$, que são a média e a variância respectivamente. Denotamos uma V.A $X$ com distribuição normal de parâmetros $\\mu$ e $\\sigma^{2}$ por $X \\sim N(\\mu, \\sigma^{2})$.\n",
    "\n",
    "![normal](https://upload.wikimedia.org/wikipedia/commons/thumb/7/74/Normal_Distribution_PDF.svg/1200px-Normal_Distribution_PDF.svg.png)\n",
    "\n",
    "A função densidade de probabilidade da normal é dada pela fórmula:\n",
    "\n",
    "$$f(x) = \\frac{1}{\\sigma\\sqrt{2\\pi}}e^{(x-\\mu)^{2}/(2\\sigma^{2})}$$\n",
    "\n",
    "para todo $ -\\infty < x < \\infty$.\n",
    "\n",
    "É comum padronizarmos (_standardize_) a distribuição normal para que tenha média $\\mu = 0$ e variância $\\sigma^{2} = 1$. Para isso, subtraímos $\\mu$ de $X$ e dividimos pelo desvio padrão $\\sigma$, chamamos a nova V.A normal padronizada de $Z$:\n",
    "\n",
    "$$Z = \\frac{X - \\mu}{\\sigma}$$\n",
    "\n",
    "E especificamos a nova distribuição\n",
    "\n",
    "$$Z \\sim N(0, 1)$$\n",
    "\n",
    "A nova fdp tem a seguinte forma:\n",
    "\n",
    "$$f(z) = \\frac{1}{\\sqrt{2\\pi}}e^{z^{2}/2}$$\n",
    "\n",
    "A normal padronizada tem sua importância histórica, pois sem o auxílio computacional, identificar os quantis das distribuições era feito por tabelas, e é muito mais fácil ter somente uma tebela (para $\\mu = 0$ e $\\sigma = 1$) do que várias tabelas, uma para cada combinação de $\\mu$ e $\\sigma$ (o que seria infinito).\n",
    "\n",
    "Talvez já seja óbvio, mas para confirmar, se $X \\sim N(\\mu, \\sigma^{2})$:\n",
    "\n",
    "$$\\mathbb{E}[X] = \\mu$$\n",
    "\n",
    "e\n",
    "\n",
    "$$\\text{Var}[X] = \\sigma^{2}$$.\n",
    "\n",
    "A distribuição normal tem a clássica forma de sino, simétrica, como mostrado no exemplo abaixo:\n",
    "\n",
    "![normal](https://cdn-images-1.medium.com/max/1600/1*IZ2II2HYKeoMrdLU5jW6Dw.png)\n",
    "\n",
    "A figura acima ilustra alguns pontos interessantes:\n",
    "\n",
    "1. A função densidade de probabilidade, $f(x)$, é quem dá a forma de sino da distribuição.\n",
    "2. O eixo vertical (eixo dos y) é o valor da $f(x)$, e isso __não__ é uma probabilidade.\n",
    "3. O eixo horizontal (eixo dos x) é o valor de $x$, ou seja, o suporte da V.A de distribuição normal.\n",
    "4. A área embaixo da curva (por exemplo, a área verde ou azul ou vermelha da figura) são probabilidades. Por exemplo, a área vermelha indica a probabilidade de $X$ assumir valores entre $\\mu - \\sigma$ e $\\mu + \\sigma$, que é de 68.27%. Essa área é a CDF $F(x)$.\n",
    "5. A distribuição normal tem essas probabilidades conhecidas:\n",
    "  * A probabilidade de $X$ assumir valores entre $\\mu - \\sigma$ e $\\mu + \\sigma$ é de 68.27%.\n",
    "  * A probabilidade de $X$ assumir valores entre $\\mu - 2\\sigma$ e $\\mu + 2\\sigma$ é de 95.45%.\n",
    "  * A probabilidade de $X$ assumir valores entre $\\mu - 3\\sigma$ e $\\mu + 3\\sigma$ é de 99.73%.\n",
    "  \n",
    "6. Isso ilustra um outro ponto: a maior parte dos valores que $X$ assume numa distribuição normal se concentra em torno da média, e vai ficando cada vez mais difícil de assumir valores no sentido das caudas.\n",
    "\n",
    "A respeito do que dissemos acima sobre o valor da $f(x)$, note que ela assume valor identicamente zero em qualquer ponto em particular ($f(x) = 0, \\forall x$). Por exemplo, $f(\\mu) = f(\\mu + \\sigma) = 0$."
   ]
  },
  {
   "cell_type": "markdown",
   "metadata": {
    "colab_type": "text",
    "id": "4p_IITAimeLk"
   },
   "source": [
    "O SciPy e o NumPy possuem funções para lidar com a distribuição normal. Por exemplo, podemos gerar 1000 valores normais de média 10 e variância 9 com:"
   ]
  },
  {
   "cell_type": "code",
   "execution_count": 3,
   "metadata": {
    "colab": {
     "base_uri": "https://localhost:8080/",
     "height": 491
    },
    "colab_type": "code",
    "id": "doYjLQBmmnGS",
    "outputId": "3c9a03bf-0ca3-46fd-8c8f-f8ef10ccc7b8"
   },
   "outputs": [
    {
     "data": {
      "text/plain": [
       "array([14.73766205, 13.73745827,  9.14921142,  7.58032428,  4.15956193,\n",
       "        8.31580219, 12.04583649,  9.06642563, 12.46117429, 11.53888371,\n",
       "       11.06304317, 11.69836767,  6.9438412 ,  7.14653247,  9.39744603,\n",
       "        8.47623311,  7.44967628,  6.34289753, 13.6634864 ,  7.1502107 ,\n",
       "        9.55721023, 15.11703838, 16.68497063, 11.4163491 ,  9.697033  ,\n",
       "       11.64997788, 10.36891891, 11.73083233,  7.89310067,  5.34635837,\n",
       "        6.90816589,  5.92503354,  5.30228192, 11.85727288,  9.77022573,\n",
       "        8.76134057,  9.38768066,  9.43793337, 10.52847959,  7.74571882,\n",
       "       10.68570935,  5.41421247,  9.20944228, 10.67466065,  6.51731831,\n",
       "        9.50611842,  8.2124112 , 11.21527958, 13.23828468,  8.71816537,\n",
       "       13.57022511,  1.39711168,  8.88518355, 11.63868758, 11.01838495,\n",
       "       12.31178534,  9.96979647, 15.37828829, 12.15841473,  8.89996299,\n",
       "        6.23306856,  8.22850844,  9.1210987 ,  8.71067377,  6.94054503,\n",
       "       10.00253264, 10.08912951, 13.7012081 ,  8.11908308, 10.44959527,\n",
       "        9.34120412,  5.03150876, 11.78478688,  6.1672277 ,  8.27553199,\n",
       "       10.1601997 ,  8.41626868, 11.05022317,  8.49836559, 11.93743264,\n",
       "        8.10004905,  6.37093458, 16.96110547,  8.4914657 ,  9.74964016,\n",
       "       10.31811232,  7.06642018,  9.36346818, 11.00232748,  7.92085565,\n",
       "       10.80136283,  9.792302  ,  9.75616227,  8.20963775, 11.00541303,\n",
       "       11.25591327, 11.23440887, 13.28486273, 13.53521641,  4.38615851,\n",
       "        8.39720953, 10.59927745, 10.68823942,  8.89751404,  9.72836163,\n",
       "       10.01723659, 13.11369418,  9.91569978, 15.3341651 ,  9.0912943 ,\n",
       "       12.60293358, 11.09814945,  7.15551276, 10.65719069,  5.80823427,\n",
       "       12.05587275, 11.85337788, 10.86278433, 11.82901893,  4.67740059,\n",
       "        9.97187365, 13.57606695, 10.66069018,  8.83231174,  8.66860182,\n",
       "        4.49802997,  7.92997494, 13.45930924,  6.15513059, 12.35098842,\n",
       "        8.10477997,  3.64702053,  5.89828133, 12.94335184,  6.72491527,\n",
       "        8.36207599,  5.554096  , 10.39424848, 12.44654906,  5.97554998,\n",
       "        5.93652507, 10.50245989,  9.80762759,  8.05822015,  5.4199471 ,\n",
       "        7.47075335, 11.35357162, 13.57777962, 14.60871919, 10.09340663,\n",
       "       11.24441332, 10.57611827,  4.25675644,  7.56543159, 10.92745745,\n",
       "       11.13557576, 11.42636962, 10.07882404, 12.13879084,  8.21292741,\n",
       "       11.56024345, 11.86940172,  8.2880283 ,  2.10670361, 11.73578565,\n",
       "       15.11876712,  8.26484189,  9.19533438,  4.65305512,  4.36506813,\n",
       "       10.199321  ,  9.97719443,  7.6280067 ,  6.68559206, 11.16730825,\n",
       "       13.98387996,  8.69501605, 13.09298679, 16.70658507,  1.71902249,\n",
       "        7.50747238,  9.27964857, 12.3718657 ,  6.16811994, 10.57310161,\n",
       "       12.61671739, 10.48081486,  9.70135948,  9.14106614,  8.62825705,\n",
       "        9.225431  , 10.06258025, 10.64212986, 10.92217751,  9.74394069,\n",
       "        9.84153093,  8.44714081, 10.57080253,  7.22819014, 12.53995266,\n",
       "       13.82788811,  7.13027176, 17.84093624,  8.75769415, 16.48024163,\n",
       "        7.66704302, 11.22728221,  6.23585368,  8.5855474 ,  9.77770703,\n",
       "       12.1119027 , 11.20281671, 10.52403914,  6.41739743, 11.80394585,\n",
       "        9.01574978,  8.97833244,  8.02299047, 13.79427225, 13.13113167,\n",
       "        8.43709801, 12.16163241,  5.31537448, 14.46283298, 17.15474563,\n",
       "       14.78096563,  6.03315829, 11.07969737, 10.77987183, 11.44597186,\n",
       "        7.51522193, 10.93581683,  7.65082712,  9.33662035,  5.17998227,\n",
       "       12.07299445,  8.20414723,  9.19796755,  7.0732813 , 11.74818769,\n",
       "        9.45562083,  6.58333211, 15.60379638, 11.50195638, 15.81239762,\n",
       "       11.79154094,  6.76541151,  5.30843559, 15.69732061,  9.28756855,\n",
       "        9.49628871, 10.70079055,  8.50232979,  7.89188188,  9.91803958,\n",
       "        9.97566044,  9.30842853,  5.80971092,  9.38424318, 10.7331467 ,\n",
       "       11.53180347,  5.45229419,  8.56000407,  9.74416809,  9.36542744,\n",
       "       11.84766102,  8.65821648, 12.02387323, 12.6520489 ,  7.85739352,\n",
       "        6.60929506,  8.65023998, 10.99151828,  4.58711829, 14.80479168,\n",
       "        7.68426498,  7.78265484,  8.39838349,  9.35406302,  6.81724972,\n",
       "        7.48103559, 11.98063215, 12.3014263 , 15.49027062,  8.51361386,\n",
       "       10.76807436,  5.43699141, 12.78901583,  9.96448733, 11.42932935,\n",
       "       10.87445397, 11.66690313, 13.45578957,  8.32916933, 10.55561918,\n",
       "        6.62650331,  8.33229712,  9.84603056, 13.58238449,  7.41952162,\n",
       "        7.4959861 ,  8.13372649, 13.11315546,  8.87914144,  8.24667223,\n",
       "        7.72190644,  4.78563923,  8.40319333, 11.13004542, 12.66768605,\n",
       "        8.49196237,  9.48638263,  9.7493722 , 12.20194755, 10.38797897,\n",
       "       12.29005184, 12.9519167 ,  8.25955985,  9.42165234,  9.98949985,\n",
       "        7.14839883, 13.2834064 , 15.21742741,  5.62637831, 11.19787596,\n",
       "       11.94948404, 12.22610196,  8.04587552,  7.05527453,  3.70248574,\n",
       "       10.98417328, 11.5923861 ,  6.74335049,  9.79976316, 11.37895704,\n",
       "        9.89983204, 12.41728666, 12.43276652,  6.90907841,  8.87683305,\n",
       "        5.53006684,  9.46130554,  7.56107967,  9.97931074,  7.74097598,\n",
       "        5.70496186,  9.79347045,  8.65290559,  9.51974741,  7.75141754,\n",
       "       11.056084  ,  9.30070051,  7.25990004, 13.88596909, 10.11257451,\n",
       "       10.01140347,  9.16200753, 11.22617661, 13.35262588,  9.39250278,\n",
       "       11.25048418,  9.85530309, 12.71816257, 10.16781183, 10.9550401 ,\n",
       "       10.57575526, 13.67618657,  8.7398865 , 12.24369868, 14.61941953,\n",
       "       14.02140809, 13.45475998, 13.31156944, 10.8378263 , 11.80046123,\n",
       "       17.12324629,  7.84012147,  5.54940211,  2.27508738, 11.52082251,\n",
       "       11.41075671,  7.70245809, 11.34551879,  7.12937656, 16.31924168,\n",
       "        6.98491332, 10.50846154,  9.88736887, 10.82977723, 11.9530161 ,\n",
       "       13.07198173,  2.98591252,  6.67086068, 10.88441616,  9.94322594,\n",
       "       11.62715833, 13.07714242, 14.27864042,  4.98717353, 11.47141586,\n",
       "       11.06512896,  8.32224801, 10.33806046, 12.20657621, 12.70879924,\n",
       "        7.72034384, 10.94223086,  9.3824385 , 13.51014373,  7.34190417,\n",
       "       11.89442463, 10.95458827, 11.00942769, 16.49264096, 12.07781385,\n",
       "       12.98528495, 10.92392461,  6.14085756, 11.05871895,  7.33466541,\n",
       "        8.96111468, 12.25924433,  9.04517753, 11.72566751,  9.34937187,\n",
       "       10.91613621, 10.62738776,  9.22891981, 10.63128361,  8.43842268,\n",
       "        8.78248267, 14.40541704,  5.4605912 ,  8.87310774, 10.2085824 ,\n",
       "        8.05176744,  7.81571946,  8.77107948,  5.63713993,  5.57832962,\n",
       "        6.50022599,  6.66991646,  8.34704826,  7.1075925 , 12.4424774 ,\n",
       "       15.00294552,  9.17291792, 13.81972173,  5.41869081, 10.07295496,\n",
       "       12.13052201, 13.43463863, 10.84650314,  7.96273057, 10.12194076,\n",
       "        9.37677546,  9.74084096,  7.04330361, 13.10045168, 10.05999453,\n",
       "       16.34648741, 10.93625074, 11.10009039,  9.92683389,  6.62090397,\n",
       "       12.15612372,  9.48963907, 11.74192318, 14.18247531,  8.18252537,\n",
       "        5.92534487, 11.06748828,  2.63525092,  8.74667979,  9.19971329,\n",
       "        6.13980435,  4.69582999,  8.58562599, 16.58946922, 10.43445538,\n",
       "       11.64365628, 12.12438627, 10.94064367, 13.27398937,  9.47862105,\n",
       "        9.25747858, 14.87351312,  3.49740099,  7.43148185, 11.63379764,\n",
       "        9.28292073, 16.65142477,  1.63989497,  3.68567976,  8.16695883,\n",
       "       12.4005474 , 10.54394965, 12.67504786,  8.13959895, 14.53638359,\n",
       "        7.03300967,  9.91700264, 14.49976555,  8.86651878,  4.69600831,\n",
       "        8.87216737,  8.91650786, 10.57047267, 10.02661321,  8.77891228,\n",
       "       10.77241407,  6.80319444, 11.09892592, 10.04541002, 11.25670731,\n",
       "       16.90374157, 13.29351559, 11.94016768, 13.46665319,  8.84009167,\n",
       "       12.7451616 , 12.22559664,  4.54514133,  9.65755867, 11.9360945 ,\n",
       "       14.38210398,  8.0478479 ,  2.54746694,  9.76298194, 11.5028641 ,\n",
       "       12.91058094,  4.28709931,  6.05931501, 13.83003534, 16.39679856,\n",
       "        5.5580328 ,  7.21656015,  6.08706025, 12.03173835, 10.02762426,\n",
       "        7.55467821, 12.12455541, 10.1656197 , 16.36054559,  9.29883211,\n",
       "       10.55656143, 11.61549387, 12.9572494 , 10.33524904, 13.93862748,\n",
       "       10.21486296, 11.30101094, 11.38449889,  3.81858222, 14.9708706 ,\n",
       "       10.82271498,  7.99077045, 14.05118765, 14.61210817,  7.32898307,\n",
       "        7.43772052, 14.02693382, 14.14248456,  8.15158888, 12.6196928 ,\n",
       "        9.73743829,  5.99693831,  9.63426702,  8.99674272, 12.30501544,\n",
       "       13.85936396, 12.59162482,  6.4285077 , 12.49354478, 10.35750792,\n",
       "       12.09190211, 12.76118584, 11.78090588, 12.45585992,  4.0575301 ,\n",
       "        9.56248437, 12.88485883,  4.62548023,  8.21314431, 11.50075289,\n",
       "       12.41739004,  6.82439834,  4.28067073,  7.00316311,  9.9219763 ,\n",
       "        8.92277039, 10.73406626,  6.52619814, 12.40855034, 12.82174141,\n",
       "       11.13904263,  5.17671387,  6.05206309, 15.61911698, 11.50771423,\n",
       "        8.60261981, 16.10817751,  9.51290414,  5.49544881,  6.64987871,\n",
       "       13.64394483,  7.76489977, 10.07009714, 14.19155743,  5.70776797,\n",
       "        9.87418672,  6.32256421,  9.15683878,  7.12914215,  9.80561926,\n",
       "        4.03386039, 10.38460778, 13.01013572,  9.11761494,  8.61695983,\n",
       "        6.4635059 , 10.77954873, 10.91554449,  9.87903025,  7.22946092,\n",
       "       15.84382721,  7.82710088, 11.08654267,  9.58910505,  7.86785423,\n",
       "       11.9124685 , 11.54661827,  9.65493396, 10.2545877 , 14.0319409 ,\n",
       "       11.39159073,  7.25459068, 11.69612365, 13.92273595, 11.83038157,\n",
       "        9.81803088, 11.13345069, 11.2891    ,  5.32541447,  7.0434657 ,\n",
       "        9.29771458,  5.6101965 ,  7.95670108,  4.64611051, 14.06168155,\n",
       "        8.28154184, 11.75464834, 10.12372451,  7.7886862 , 15.51633061,\n",
       "        9.775265  , 11.08044659, 14.38916635, 10.20783042, 16.97734972,\n",
       "        9.34886928,  8.72409823,  7.87341129,  4.35295557, 11.92462138,\n",
       "        9.65594357, 12.09722222, 10.19035453,  6.68192492, 13.77348487,\n",
       "       14.89167469, 10.9604063 ,  7.75350682, 11.81139755,  9.4616507 ,\n",
       "        5.83168761,  8.41874404, 13.50361925, 13.71830288,  6.57338986,\n",
       "       11.85460095, 10.59804046,  5.65045502, 10.60483117, 11.44764959,\n",
       "        9.7709948 ,  8.16569753, 14.83288068,  9.12687027, 11.10655147,\n",
       "        8.44559653, 10.58177804,  7.59935366,  9.71052791,  5.91751812,\n",
       "       13.59702192,  5.03054334, 12.04405084,  7.16593896, 10.42032879,\n",
       "       10.66342226, 13.68375557, 10.93366572, 16.46056013,  5.89642907,\n",
       "        6.97671789, 14.96205126, 16.22556648,  6.90526058,  6.71445095,\n",
       "        4.71854984, 11.39703573,  0.45818377,  7.74529309,  6.75600187,\n",
       "        8.95082068,  6.07345842, 10.48887613,  9.53322279,  9.36175143,\n",
       "       10.42742416, 11.10569547,  8.791112  ,  8.76247081,  8.70261676,\n",
       "       15.99523823,  8.82925772, 12.12088217, 11.78176865, 10.04584814,\n",
       "        6.31260042, 11.27919144,  3.44378647, 16.8531824 ,  6.39672815,\n",
       "       13.6872993 , 13.79217596, 10.68896541, 14.84692298,  8.28499919,\n",
       "        8.98573371, 13.37290311, 13.00724998,  7.22426626, 11.6116272 ,\n",
       "        6.12252497,  6.63859384,  6.41519129,  7.27853257,  6.6792994 ,\n",
       "       13.35158782,  9.65394773,  8.70475875, 11.39014568, 10.81920343,\n",
       "       11.90504466,  6.10630854, 11.4161285 , 14.61857095, 10.9539418 ,\n",
       "        5.63943252, 10.39417583,  5.04673988,  7.85639462, 10.76408677,\n",
       "        6.93635929,  4.95360339, 15.31164904,  9.50974142, 11.10716029,\n",
       "       10.3985741 ,  6.66843634,  9.00103883,  6.47525675,  5.45546351,\n",
       "        6.30477232,  8.51816461, 15.80576793,  7.72420366, 10.03808632,\n",
       "       10.9451065 ,  5.7506726 ,  8.3625865 ,  9.5829789 ,  6.07262831,\n",
       "       10.4445326 , 12.95067919,  7.06263749, 13.59083315,  9.55869848,\n",
       "       10.93595303,  9.28329476,  9.08403262, 12.14932902,  2.69174031,\n",
       "       14.33994368,  9.10977517, 13.6082103 ,  8.54749323,  9.49127918,\n",
       "        9.89853445,  3.80562922,  7.30932186,  8.00913095,  6.58525088,\n",
       "        8.61278692,  4.37312566,  7.5238706 , 10.14726498,  7.21494865,\n",
       "        9.12629976,  7.12491093, 11.98073411,  9.1658878 ,  9.1035169 ,\n",
       "       12.84679751,  4.17267154,  6.34017049, 14.66175458, 13.35743866,\n",
       "       19.06523119, 11.71772668,  6.28556577,  9.88169652, 10.19400291,\n",
       "       12.58988882,  9.90460613, 12.15004499,  7.82447556, 13.20820957,\n",
       "       12.0451956 , 12.47001609,  4.66422731,  9.23651147,  8.63545683,\n",
       "        9.21333206,  8.76070623,  9.26758866, 11.76845003, 12.16506036,\n",
       "        9.95863633,  7.07374656, 11.08120367, 12.45952076,  7.48222661,\n",
       "       11.70362161, 12.04621506,  7.90076232,  5.64319467, 10.90024176,\n",
       "       13.04866164, 12.93374907, 13.05320914, 11.34382094,  6.85465014,\n",
       "        9.6808423 ,  7.55762488, 11.84159758, 11.42400335, 12.97984189,\n",
       "        8.56204175, 11.13352283, 10.19459533,  8.2477215 , 10.42072619,\n",
       "       11.46606937,  3.95464743,  5.49567599, 12.15323303, 12.03816596,\n",
       "        7.36938639, 11.81379994,  7.01510279,  7.67774584, 13.67243081,\n",
       "        8.92578971, 11.67039081, 12.66414325, 12.66877305,  5.02206769,\n",
       "        8.99540298, 13.21477226,  7.48391202,  7.16178209,  5.31632186,\n",
       "        9.64605347, 15.37436131, 10.47844982, 11.26433767, 10.26201625,\n",
       "       12.5877461 ,  9.8682881 , 10.73879693,  8.80154631,  8.64399005,\n",
       "       12.65644796, 13.29905284, 11.060015  ,  7.08869367, 11.94218076,\n",
       "       10.00280919, 11.68538538, 10.57390922,  4.15071037,  9.24361713,\n",
       "        9.89073039, 10.59748057,  7.22258913,  6.77833046,  9.98646685,\n",
       "       10.62537499,  8.37071834, 10.84853644, 10.31422185, 10.5474905 ,\n",
       "        7.04896444, 14.49027578, 13.89276945,  5.01354712, 10.15186492,\n",
       "        3.35033275, 15.42272758,  5.87782104,  6.78148271, 10.55709863,\n",
       "       13.37913337,  5.39016191,  9.91566032, 11.04827118,  4.38265936,\n",
       "       13.12177389, 12.37841435, 11.5616529 ,  8.4478858 , 11.3994491 ,\n",
       "       14.36399701,  8.41421287,  9.99457584,  6.57493624,  7.9154526 ,\n",
       "       10.21037377,  8.17331533, 15.02302472, 10.80118983, 10.3999956 ,\n",
       "       10.34410171, 14.11165687,  8.93601435,  9.96498996,  7.28504763,\n",
       "        8.80006535, 11.3054246 ,  5.93195981, 10.14873693,  6.3053742 ,\n",
       "        8.85206635, 10.03760999,  6.88665917, 10.34152494,  8.13331717,\n",
       "        9.26823048,  7.59199123, 11.88119034,  7.44412525, 16.2864268 ,\n",
       "        1.91056028,  6.35796709,  5.52543762,  7.31718939, 13.17575195,\n",
       "        8.95239787,  9.57166316,  9.17182582,  7.29061707,  9.41690778,\n",
       "        8.96291109, 12.52212822,  7.78391591, 16.49562584,  9.84507635,\n",
       "       11.42948334,  8.82527913,  2.6719414 ,  8.55272036, 15.01106088,\n",
       "       14.67899924,  6.37261494, 12.41919767,  7.28047722,  7.64422584,\n",
       "       16.71236653, 16.97169285, 10.97572392, 10.78759456,  4.5610591 ,\n",
       "        4.90209923,  8.41977676, 12.45427546,  6.71915045, 13.1224107 ])"
      ]
     },
     "execution_count": 3,
     "metadata": {},
     "output_type": "execute_result"
    }
   ],
   "source": [
    "# Criação de uma distribuição normal (com média = 10 desvio padrão = 3)\n",
    "norm = sct.norm.rvs(loc=10, scale=3, size=1000) # loc é a média, scale é o desvio padrão. X ~ N(10, 9).\n",
    "# \"norm.rvs\" => gerador de números aleatórios com distribuição normal\n",
    "\n",
    "norm # retorna um array"
   ]
  },
  {
   "cell_type": "code",
   "execution_count": 4,
   "metadata": {},
   "outputs": [
    {
     "data": {
      "image/png": "[encoded data removed]",
      "text/plain": [
       "<Figure size 864x576 with 1 Axes>"
      ]
     },
     "metadata": {},
     "output_type": "display_data"
    }
   ],
   "source": [
    "# Gráfico da distribuição normal\n",
    "sns.distplot(norm);\n",
    "\n",
    "# O gráfico mostra que a distribuição é centrada no valor 10"
   ]
  },
  {
   "cell_type": "markdown",
   "metadata": {
    "colab_type": "text",
    "id": "R0mNPVtwpjkE"
   },
   "source": [
    "Note que, apesar de termos criado a amostra a partir de uma distribuição com média exatamente zero e variância exatamente 9 (populacional), a amostra que geramos possui média amostral e variância amostral ligeiramente diferente de 0 e 9:"
   ]
  },
  {
   "cell_type": "code",
   "execution_count": 6,
   "metadata": {
    "colab": {
     "base_uri": "https://localhost:8080/",
     "height": 34
    },
    "colab_type": "code",
    "id": "ZV6PbgU2qbqS",
    "outputId": "0bd45468-5a54-488a-c5b8-f918cc35ca9b"
   },
   "outputs": [
    {
     "data": {
      "text/plain": [
       "(9.842149785922878, 8.795831257589604, 2.965776670214668)"
      ]
     },
     "execution_count": 6,
     "metadata": {},
     "output_type": "execute_result"
    }
   ],
   "source": [
    "# Média, variância e desvio padrão da distribuição normal\n",
    "(norm.mean(), norm.var(), norm.std())\n",
    "\n",
    "# Como são gerados valores aleatórios, os valores da média, variância e desvio padrão não são cravados, mas muito próximos"
   ]
  },
  {
   "cell_type": "markdown",
   "metadata": {
    "colab_type": "text",
    "id": "vcIABQ3wqyPs"
   },
   "source": [
    "Podemos encontrar $P(X \\leq 8)$ com a função `cdf()`:"
   ]
  },
  {
   "cell_type": "code",
   "execution_count": 0,
   "metadata": {
    "colab": {
     "base_uri": "https://localhost:8080/",
     "height": 34
    },
    "colab_type": "code",
    "id": "1sKSgWTzpf6y",
    "outputId": "b82f489c-fbcb-48c8-8520-afecb35044bd"
   },
   "outputs": [
    {
     "data": {
      "text/plain": [
       "0.2524925375469229"
      ]
     },
     "execution_count": 5,
     "metadata": {
      "tags": []
     },
     "output_type": "execute_result"
    }
   ],
   "source": [
    "sct.norm.cdf(8, loc=10, scale=3)\n",
    "# \"cdf\" => calcula a função de distribuição cumulativa\n",
    "# X = 8\n",
    "# média = 10\n",
    "# desvio padrão = 3"
   ]
  },
  {
   "cell_type": "markdown",
   "metadata": {
    "colab_type": "text",
    "id": "PojupbPYrSXp"
   },
   "source": [
    "Obviamente, como a distribuição é normal é simétrica em torno da média $\\mu$, a probabilidade de $X$ assumir um valor menor ou igual à média deve ser 0.5 (50%), ou seja, $P(X \\leq \\mu) = 0.5$:"
   ]
  },
  {
   "cell_type": "code",
   "execution_count": 0,
   "metadata": {
    "colab": {
     "base_uri": "https://localhost:8080/",
     "height": 34
    },
    "colab_type": "code",
    "id": "FUa1SyTjrern",
    "outputId": "83e5d6de-97a4-411a-d678-b088ac61dca4"
   },
   "outputs": [
    {
     "data": {
      "text/plain": [
       "0.5"
      ]
     },
     "execution_count": 6,
     "metadata": {
      "tags": []
     },
     "output_type": "execute_result"
    }
   ],
   "source": [
    "sct.norm.cdf(10, loc=10, scale=3)\n",
    "# a área embaixo da curva é igual a 1 => probabilidade total"
   ]
  },
  {
   "cell_type": "markdown",
   "metadata": {
    "colab_type": "text",
    "id": "0YWK5acJ7xx4"
   },
   "source": [
    "Podemos utilizar a função `cdf()` em conjunto com a função `linspace()` do NumPy para gerar um gráfico da CDF:"
   ]
  },
  {
   "cell_type": "code",
   "execution_count": 7,
   "metadata": {
    "colab": {
     "base_uri": "https://localhost:8080/",
     "height": 491
    },
    "colab_type": "code",
    "id": "j8BrJeJS77WL",
    "outputId": "30c3d5ad-6da1-4ef8-e087-4f52ee33df1b"
   },
   "outputs": [
    {
     "data": {
      "image/png": "[encoded data removed]",
      "text/plain": [
       "<Figure size 864x576 with 1 Axes>"
      ]
     },
     "metadata": {},
     "output_type": "display_data"
    }
   ],
   "source": [
    "x = np.linspace(0, 20, num=1000)\n",
    "# linspace => retorna números espaçados uniformemente sobre um intervalo especificado\n",
    "# valor inicial da sequência = 0\n",
    "# valor final da sequência = 20\n",
    "# nº de amostras geradas (num) = 1000\n",
    "\n",
    "f = lambda x: sct.norm.cdf(x, loc=10, scale=3)\n",
    "\n",
    "cdf = f(x)\n",
    "\n",
    "sns.lineplot(x, cdf); # esboça o gráfico da função cdf"
   ]
  },
  {
   "cell_type": "markdown",
   "metadata": {
    "colab_type": "text",
    "id": "Cp-feI5FrqLR"
   },
   "source": [
    "Às vezes, estamos interessados no complemento da CDF, ou seja, na probabilidade a partir da outra ponta da distribuição. Para isso, usamos a função `sf()`. Por exemplo, utilizamos essa função para achar $P(X \\geq 8)$:"
   ]
  },
  {
   "cell_type": "code",
   "execution_count": 8,
   "metadata": {
    "colab": {
     "base_uri": "https://localhost:8080/",
     "height": 34
    },
    "colab_type": "code",
    "id": "hTLzoqU4r5Mv",
    "outputId": "c73802f2-db6e-4ab1-f0fa-332c1fc921a1"
   },
   "outputs": [
    {
     "data": {
      "text/plain": [
       "0.7475074624530771"
      ]
     },
     "execution_count": 8,
     "metadata": {},
     "output_type": "execute_result"
    }
   ],
   "source": [
    "# Cálculo do valor da probabilidade acumulada, dada um valor \"x\"\n",
    "sct.norm.sf(8, loc=10, scale=3)\n",
    "# sf => survivor function (função de confiabilidade).\n",
    "# sf descreve a probabilidade de que a variável X >= x."
   ]
  },
  {
   "cell_type": "markdown",
   "metadata": {
    "colab_type": "text",
    "id": "7RIuPalxr_ao"
   },
   "source": [
    "Note como esse valor é o complemento da probabilidade encontrado acima com a CDF."
   ]
  },
  {
   "cell_type": "markdown",
   "metadata": {
    "colab_type": "text",
    "id": "fn1ozFgFsQtd"
   },
   "source": [
    "Também pode ser útil encontrar o quantil para determinada probabilidade (acumulada a partir da cauda à esquerda). Por exemplo, podemos nos perguntar qual o valor de $X$ que acumula 25% da probabilidade, ou seja, qual valor de $x$ tal que $P(X \\leq x) = 0.25$? Respondemos esse tipo de pergunta com a função `ppf()`:"
   ]
  },
  {
   "cell_type": "code",
   "execution_count": 9,
   "metadata": {
    "colab": {
     "base_uri": "https://localhost:8080/",
     "height": 34
    },
    "colab_type": "code",
    "id": "vylIe5tNsq0U",
    "outputId": "a9cf637a-ff23-48b8-85a0-4f1611cde765"
   },
   "outputs": [
    {
     "data": {
      "text/plain": [
       "7.976530749411754"
      ]
     },
     "execution_count": 9,
     "metadata": {},
     "output_type": "execute_result"
    }
   ],
   "source": [
    "# Cálculo de determinado valor \"x\", dada à probabilidade acumulada\n",
    "sct.norm.ppf(0.25, loc=10, scale=3)\n",
    "# ppf => função de ponto percentual (inverso da cdf Percent point function).\n",
    "# valor da probabilidade acumulada = 0.25\n",
    "# média = 10\n",
    "# desvio padrão = 3"
   ]
  },
  {
   "cell_type": "markdown",
   "metadata": {
    "colab_type": "text",
    "id": "W1tIhFB5s4dY"
   },
   "source": [
    "Se quiséssemos o saber o quantil para a probabilidade acumulada a partir da cauda à direita, usaríamos a função `isf()`. Por exemplo, se quisermos encontrar $x$ tal que $P(X \\geq x) = 0.25$:"
   ]
  },
  {
   "cell_type": "code",
   "execution_count": 10,
   "metadata": {
    "colab": {
     "base_uri": "https://localhost:8080/",
     "height": 34
    },
    "colab_type": "code",
    "id": "vzbzB_FatEtf",
    "outputId": "d410bf11-1fab-4d1d-cdbb-cec884be1752"
   },
   "outputs": [
    {
     "data": {
      "text/plain": [
       "12.023469250588246"
      ]
     },
     "execution_count": 10,
     "metadata": {},
     "output_type": "execute_result"
    }
   ],
   "source": [
    "sct.norm.isf(0.25, loc=10, scale=3)\n",
    "# isf => inversa da survival function (inversa de sf)"
   ]
  },
  {
   "cell_type": "markdown",
   "metadata": {
    "colab_type": "text",
    "id": "seNQsrS_tawL"
   },
   "source": [
    "Por fim, podemos querer saber o valor da função densidade de probabilidade, $f(x)$, em determinado ponto. Apesar de não ser tão útil normalmente (por __não__ ser representar uma probabilidade), ela pode ter seus usos. Para isso, utilizamos a função `pdf()`. Para acharmos $f(8)$:"
   ]
  },
  {
   "cell_type": "code",
   "execution_count": 11,
   "metadata": {
    "colab": {
     "base_uri": "https://localhost:8080/",
     "height": 34
    },
    "colab_type": "code",
    "id": "4xyCVe_9twav",
    "outputId": "d461891d-1549-479e-ef0a-9bcb7aa6d8e1"
   },
   "outputs": [
    {
     "data": {
      "text/plain": [
       "0.10648266850745075"
      ]
     },
     "execution_count": 11,
     "metadata": {},
     "output_type": "execute_result"
    }
   ],
   "source": [
    "sct.norm.pdf(8, loc=10, scale=3)\n",
    "# pdf => função de densidade de probabilidade"
   ]
  },
  {
   "cell_type": "markdown",
   "metadata": {
    "colab_type": "text",
    "id": "YEbnaH1at3ck"
   },
   "source": [
    "Na distribuição normal, a função $f(x)$ assume seu valor máximo na média:"
   ]
  },
  {
   "cell_type": "code",
   "execution_count": 12,
   "metadata": {
    "colab": {
     "base_uri": "https://localhost:8080/",
     "height": 34
    },
    "colab_type": "code",
    "id": "4Xx9uZKVuJOT",
    "outputId": "2119c4a8-e249-4c85-c3c0-408db1572cbc"
   },
   "outputs": [
    {
     "data": {
      "text/plain": [
       "0.1329807601338109"
      ]
     },
     "execution_count": 12,
     "metadata": {},
     "output_type": "execute_result"
    }
   ],
   "source": [
    "sct.norm.pdf(10, loc=10, scale=3)"
   ]
  },
  {
   "cell_type": "markdown",
   "metadata": {
    "colab_type": "text",
    "id": "rmZJEWU9-ACU"
   },
   "source": [
    "Como fizemos com a CDF, podemos utilizar a função `linspace()` para gerar o gráfico da pdf:"
   ]
  },
  {
   "cell_type": "code",
   "execution_count": 13,
   "metadata": {
    "colab": {
     "base_uri": "https://localhost:8080/",
     "height": 491
    },
    "colab_type": "code",
    "id": "aSpOi5Z5-JuK",
    "outputId": "71fbaa16-0d15-477d-a94e-f04b0a05d4e8"
   },
   "outputs": [
    {
     "data": {
      "image/png": "[encoded data removed]",
      "text/plain": [
       "<Figure size 864x576 with 1 Axes>"
      ]
     },
     "metadata": {},
     "output_type": "display_data"
    }
   ],
   "source": [
    "x = np.linspace(0, 20, num=1000)\n",
    "\n",
    "f = lambda x: sct.norm.pdf(x, loc=10, scale=3)\n",
    "\n",
    "pdf = f(x)\n",
    "\n",
    "sns.lineplot(x, pdf);"
   ]
  },
  {
   "cell_type": "markdown",
   "metadata": {
    "colab_type": "text",
    "id": "Hce_oq73uR_D"
   },
   "source": [
    "Agora que estamos mais familiarizados com a distribuição normal, veremos a distribuição binomial."
   ]
  },
  {
   "cell_type": "markdown",
   "metadata": {
    "colab_type": "text",
    "id": "HwR0grnbabtf"
   },
   "source": [
    "## Distribuição binomial\n",
    "\n",
    "Agora focaremos em uma distribuição discreta: a distribuição binomial. A distribuição binomial tem grande relação com a distribuição de Bernoulli, então a apresentaremos brevemente antes.\n",
    "\n",
    "A distribuição de Bernoulli é uma das mais simples distribuições discretas com apenas um parâmetro, $p$. Ela nos informa sobre a distribuição de uma V.A que toma valor 1 com probabilidade $p$ e valor 0 com probabilidade $q = 1-p$. Portanto, sua função de massa de probabilidade pode ser escrita como:\n",
    "\n",
    "$$f(x) = p^{x} (1-p)^{1-x}$$\n",
    "\n",
    "para $x \\in \\{0, 1\\}$. Se $X$ tem distribuição de Bernoulli, denotamos por $X \\sim \\text{Bernoulli}(p)$.\n",
    "\n",
    "Note que,se $p = 0.5$, temos basicamente a distribuição do lançar de uma única moeda não viciada."
   ]
  },
  {
   "cell_type": "markdown",
   "metadata": {
    "colab_type": "text",
    "id": "hqHf3qU8ccCa"
   },
   "source": [
    "A distribuição binomial, por sua vez, nos diz sobre a distribuição de uma V.A que é a quantidade de resultados 1 (sucessos) de uma sequência de $n$ lançamentos __independentes__ de uma moeda que tem probabilidade $p$ de sair 1 (por exemplo, cara) e probabilidade $q = 1 - p$ de sair 0 (por exemplo, coroa). Note que cada um dos $n$ lançamentos pode ser modelado individualmente por uma distribuição de Bernoulli.\n",
    "\n",
    "Essa distribuição tem dois parâmetros: $n \\in \\mathbb{N}$ é a quantidade de lançamentos e $p \\in [0, 1]$ é a probabilidade de $X$ assumir 1 (ou ter um sucesso). Se X tem distribuição binomial de parâmetros $n$ e $p$, denotamos por $X \\sim \\text{Bin}(n, p)$.\n",
    "\n",
    "A função massa de probabilidade da distribuição binomial é dada por:\n",
    "\n",
    "$$f(k) = P(X = k) = C(n, k) p^{k} (1 - p)^{n - k}$$\n",
    "\n",
    "onde $k$ é a quantidade de sucessos nos $n$ experimentos. Obviamente $k \\in \\{0, 1, 2, \\dots, n\\}$.\n",
    "\n",
    "Note que $P(X = k)$ não é mais necessariamente igual a zero, como era com a distribuição normal. A diferença agora é que a binomial é __discreta__, enquanto a normal é __contínua__.\n",
    "\n",
    "Definimos também a função de distribuição acumulada (CDF), $F(k)$ como\n",
    "\n",
    "$$F(k) = P(X \\leq k) = P(X = 0) + P(X = 1) + \\dots + P(X = k) = \\sum_{i=0}^{k} C(n, i) p^{i} (1 - p)^{n - i}$$\n",
    "\n",
    "O valor esperado de $X \\sim \\text{Bin}(n, p)$ é\n",
    "\n",
    "$$\\mathbb{E}[X] = np$$\n",
    "\n",
    "e sua variância é\n",
    "\n",
    "$$\\text{Var}[X] = np(1 - p) = npq$$\n",
    "\n",
    "onde $q = 1 - p$."
   ]
  },
  {
   "cell_type": "markdown",
   "metadata": {
    "colab_type": "text",
    "id": "lGz9zdrseWIr"
   },
   "source": [
    "Vamos explorar a distribuição binomial visualmente um pouco. No experimento abaixo"
   ]
  },
  {
   "cell_type": "code",
   "execution_count": 14,
   "metadata": {
    "colab": {
     "base_uri": "https://localhost:8080/",
     "height": 491
    },
    "colab_type": "code",
    "id": "7JevNFNWebM-",
    "outputId": "af64c018-8738-4579-8550-869a64516025"
   },
   "outputs": [
    {
     "data": {
      "image/png": "[encoded data removed]",
      "text/plain": [
       "<Figure size 864x576 with 1 Axes>"
      ]
     },
     "metadata": {},
     "output_type": "display_data"
    }
   ],
   "source": [
    "# Criação de uma distribuição binomial\n",
    "binom_20_05 = sct.binom.rvs(20, 0.5, size=100000) # Média 10, variância 5.\n",
    "# \"rvs\" => gerador de variáveis aleatórias\n",
    "# valor da variável (n) = 20\n",
    "# probabilidade (p) = 0.5\n",
    "# tamanho da amostra (size) = 100,000\n",
    "\n",
    "binom_20_07 = sct.binom.rvs(20, 0.7, size=100000) # Média 14, variância 4.2.\n",
    "\n",
    "# Gráfico da distribuição \n",
    "sns.distplot(binom_20_05, bins=range(4, 18), kde=False, hist_kws={\"alpha\": 0.9});\n",
    "# \"binom_20_05\" => distribuição de probabilidade\n",
    "# bins => argument for matplotlib hist(), or None, optional\n",
    "# bins => Specification of hist bins. If unspecified, as reference rule is used that tries to find a useful defaul.\n",
    "# kde => bool, optional\n",
    "# kde => Whether to plot a gaussian kernel density estimate.\n",
    "\n",
    "sns.distplot(binom_20_07, bins=range(8, 22), kde=False, hist_kws={\"alpha\": 0.5});"
   ]
  },
  {
   "cell_type": "markdown",
   "metadata": {
    "colab_type": "text",
    "id": "d0-n2sw4jMtP"
   },
   "source": [
    "A maior parte das funções disponíveis para a distribuição normal que apresentamos também está disponível para a distribuição binomial:\n",
    "\n",
    "* `mean()`: $\\mathbb{E}[X]$\n",
    "* `var()`: $\\text{Var}[X]$\n",
    "* `rvs()`: $\\vec{X}$\n",
    "* `cdf()`: $P(X \\leq x)$\n",
    "* `sf()`: $P(X > x)$\n",
    "* `ppf()`: $x$ tal que $P(X \\leq x) = p$\n",
    "* `isf()`: $x$ tal que $P(X > x) = p$\n",
    "\n",
    "A única mudança significativa é na função `pmf()` ($P(X = x)$), que na normal era chamada `pdf()` ($f(x)$).\n",
    "\n",
    "Vejamos alguns exemplos para reforçar."
   ]
  },
  {
   "cell_type": "markdown",
   "metadata": {
    "colab_type": "text",
    "id": "7ofQDrIKj8Pm"
   },
   "source": [
    "__Exemplo 2__: Qual a probabilidade de obtermos no máximo 3 caras (sucessos) em 20 lançamentos de uma moeda viciada, que tem probabilidade $0.10$ de sair cara?\n",
    "\n",
    "Resposta:\n",
    "\n",
    "O que buscamos é\n",
    "\n",
    "$$P(X \\leq 3) = \\sum_{i=0}^{3} C(20, i) (0.10)^{i} (0.9)^{20 - i}$$"
   ]
  },
  {
   "cell_type": "markdown",
   "metadata": {
    "colab_type": "text",
    "id": "nqQCIjhRoRT_"
   },
   "source": [
    "Uma das formas de resolver isso com SciPy é somar a $f(i)$ para $i \\in \\{0, 1, 2, 3\\}$, usando a função `pmf()`:"
   ]
  },
  {
   "cell_type": "code",
   "execution_count": 15,
   "metadata": {
    "colab": {
     "base_uri": "https://localhost:8080/",
     "height": 34
    },
    "colab_type": "code",
    "id": "5RjgZZdrno8V",
    "outputId": "b40311ae-e060-4f45-9239-446f20f32db4"
   },
   "outputs": [
    {
     "data": {
      "text/plain": [
       "0.8670466765656644"
      ]
     },
     "execution_count": 15,
     "metadata": {},
     "output_type": "execute_result"
    }
   ],
   "source": [
    "# Cálculo de P(X <= 3)\n",
    "sum((sct.binom.pmf(i, 20, 0.10) for i in range(4))) # Realiza exatamente o somatório mostrado acima.\n",
    "# nº de tentativas = 20\n",
    "# probabilidade de sucesso = 0.10"
   ]
  },
  {
   "cell_type": "markdown",
   "metadata": {
    "colab_type": "text",
    "id": "cRMlOJKgoiDC"
   },
   "source": [
    "Outra forma é utilizar direto a CDF através da função `cdf()`:"
   ]
  },
  {
   "cell_type": "code",
   "execution_count": 16,
   "metadata": {
    "colab": {
     "base_uri": "https://localhost:8080/",
     "height": 34
    },
    "colab_type": "code",
    "id": "lkflvEBOodnX",
    "outputId": "06e0fe2b-3780-4ec9-9e08-949e7f4a80b4"
   },
   "outputs": [
    {
     "data": {
      "text/plain": [
       "0.867046676565665"
      ]
     },
     "execution_count": 16,
     "metadata": {},
     "output_type": "execute_result"
    }
   ],
   "source": [
    "# Cálculo da função de probabilidade acumulada => P(X <= 3)\n",
    "sct.binom.cdf(3, 20, 0.10)"
   ]
  },
  {
   "cell_type": "markdown",
   "metadata": {
    "colab_type": "text",
    "id": "7BnQT2coo3_r"
   },
   "source": [
    "__Exemplo 3__: Qual a probabilidade de obtermos pelo menos 10 sucessos em 20 lançamentos da mesma moeda viciada acima?\n",
    "\n",
    "Resposta:\n",
    "\n",
    "O que queremos agora é\n",
    "\n",
    "$$P(X \\geq 10) = P(X > 9) = 1 - P(X < 10) = 1 - P(X \\leq 9) = 1 - \\sum_{i=0}^{9} C(20,i) (0.10)^{i} (0.9)^{20 - i}$$"
   ]
  },
  {
   "cell_type": "markdown",
   "metadata": {
    "colab_type": "text",
    "id": "Z9G8DFD_pZQr"
   },
   "source": [
    "De novo, podemos utilizar a função `pmf()`:"
   ]
  },
  {
   "cell_type": "code",
   "execution_count": 17,
   "metadata": {
    "colab": {
     "base_uri": "https://localhost:8080/",
     "height": 34
    },
    "colab_type": "code",
    "id": "sTk7bJLNphE8",
    "outputId": "f043335c-033e-48ff-c613-5e7c1b0fd779"
   },
   "outputs": [
    {
     "data": {
      "text/plain": [
       "7.150904021813176e-06"
      ]
     },
     "execution_count": 17,
     "metadata": {},
     "output_type": "execute_result"
    }
   ],
   "source": [
    "# Cálculo de P(X >= 10) = 1 - P(X < 10)\n",
    "1 - sum((sct.binom.pmf(i, 20, 0.10) for i in range(10))) # Realiza exatamente o somatório mostrado acima."
   ]
  },
  {
   "cell_type": "markdown",
   "metadata": {
    "colab_type": "text",
    "id": "C_IZw3rWptYG"
   },
   "source": [
    "Ou usar a função `cdf()`:"
   ]
  },
  {
   "cell_type": "code",
   "execution_count": 18,
   "metadata": {
    "colab": {
     "base_uri": "https://localhost:8080/",
     "height": 34
    },
    "colab_type": "code",
    "id": "YZjNL7dwpvtB",
    "outputId": "4a08c67c-bdb1-48eb-b98c-f7c7296cc2ec"
   },
   "outputs": [
    {
     "data": {
      "text/plain": [
       "7.15090402103602e-06"
      ]
     },
     "execution_count": 18,
     "metadata": {},
     "output_type": "execute_result"
    }
   ],
   "source": [
    "# P(X >= 10) = 1 - P(X < 10)\n",
    "1 - sct.binom.cdf(9, 20, 0.10)"
   ]
  },
  {
   "cell_type": "markdown",
   "metadata": {
    "colab_type": "text",
    "id": "3AFN0VYFpzQ9"
   },
   "source": [
    "Ou utilizarmos a função `sf()`, que nos dá a probabilidade a partir da cauda à direita, e elimina a necessidade de subtrair o resultado de 1:"
   ]
  },
  {
   "cell_type": "code",
   "execution_count": 19,
   "metadata": {
    "colab": {
     "base_uri": "https://localhost:8080/",
     "height": 34
    },
    "colab_type": "code",
    "id": "iRnfff-XqE_g",
    "outputId": "1f66b27d-e1ae-478e-b1f6-88804dddc0d3"
   },
   "outputs": [
    {
     "data": {
      "text/plain": [
       "7.150904021083785e-06"
      ]
     },
     "execution_count": 19,
     "metadata": {},
     "output_type": "execute_result"
    }
   ],
   "source": [
    "# sf =  P(X >= 10)\n",
    "sct.binom.sf(9, 20, 0.10)"
   ]
  },
  {
   "cell_type": "markdown",
   "metadata": {
    "colab_type": "text",
    "id": "KlzqM2voqTtT"
   },
   "source": [
    "Note que a função `sf(k)` calcula $P(X > k)$ e __não__ $P(X \\geq k)$."
   ]
  },
  {
   "cell_type": "markdown",
   "metadata": {
    "colab_type": "text",
    "id": "vLejdCSZqsZ5"
   },
   "source": [
    "Agora vamos falar da relação entre a distribuição binomial e a normal.\n",
    "\n",
    "Você deve concordar que fazer o cálculo da CDF da binomial através de somatórios não é a coisa mais divertida, nem computacionalmente mais eficiente. **Acontece que a binomial pode ser aproximada pela normal, se estivermos falando de valores grandes de** $n$. É de acordo que $n \\geq 20$ deve servir, e de preferência que $p$ não esteja nem muito próximo de 0 nem de 1.\n",
    "\n",
    "Nesse cenário, podemos utilizar a distribuição normal como uma boa aproximação para a distribuição binomial, o que significa que todas as funções que mostramos para a função normal podem ser utilizadas para resolver problemas envolvendo a distribuição binomial.\n",
    "\n",
    "A relação mais especificamente é a seguinte, se $X \\sim \\text{Bin}(n, p)$, então podemos aproximar resultados sobre $X$ utilizando a seguinte distribuição normal:\n",
    "\n",
    "$$N(np, np(1 - p))$$\n",
    "\n",
    "Note como $\\mu = np$ e $\\sigma^{2} = np(1 - p)$ são exatamente iguais à média e variância da distribuição binomial, respectivamente.\n",
    "\n",
    "Vejamos alguns exemplos."
   ]
  },
  {
   "cell_type": "markdown",
   "metadata": {
    "colab_type": "text",
    "id": "HhQ_fpp8s2-l"
   },
   "source": [
    "__Exemplo 4__: Qual a probabilidade de obtermos pelo menos 50 sucessos em 200 lançamentos de uma moeda viciada que tem probabilidade de sucesso igual a $0.3$?\n",
    "\n",
    "Resposta:\n",
    "\n",
    "Dispondo somente da distribuição binomial como fizemos até agora, deveríamos calcular:\n",
    "\n",
    "$$P(X \\geq 50) = 1 - P(X < 50) = 1 - P(X \\leq 49) = 1 - \\sum_{i=0}^{49} C(200,i) (0.3)^{i} (0.7)^{200 - i}$$"
   ]
  },
  {
   "cell_type": "markdown",
   "metadata": {
    "colab_type": "text",
    "id": "w8ApQhhIuWyn"
   },
   "source": [
    "O que em um computador moderno não deve ser grandes problemas:"
   ]
  },
  {
   "cell_type": "code",
   "execution_count": 0,
   "metadata": {
    "colab": {
     "base_uri": "https://localhost:8080/",
     "height": 34
    },
    "colab_type": "code",
    "id": "BAto7xf2uZtV",
    "outputId": "a7b4bc31-8915-4a92-f0ac-241b9ab0af47"
   },
   "outputs": [
    {
     "data": {
      "text/plain": [
       "0.9494082059701139"
      ]
     },
     "execution_count": 20,
     "metadata": {
      "tags": []
     },
     "output_type": "execute_result"
    }
   ],
   "source": [
    "1 - sct.binom.cdf(49, 200, 0.3) # X ~ Bin(200, 0.3)."
   ]
  },
  {
   "cell_type": "markdown",
   "metadata": {
    "colab_type": "text",
    "id": "nocIGszZutVj"
   },
   "source": [
    "Porém, como $n = 200$ e $p = 0.3$ (nem tão perto de 0, nem de 1), então podemos utilizar a distribuição normal para aproximar esse valor:"
   ]
  },
  {
   "cell_type": "code",
   "execution_count": 0,
   "metadata": {
    "colab": {
     "base_uri": "https://localhost:8080/",
     "height": 34
    },
    "colab_type": "code",
    "id": "Ug1ilUWju5Nf",
    "outputId": "ddbaf14c-7a35-48d2-e6d6-b4af59c20596"
   },
   "outputs": [
    {
     "data": {
      "text/plain": [
       "0.9385886759493037"
      ]
     },
     "execution_count": 21,
     "metadata": {
      "tags": []
     },
     "output_type": "execute_result"
    }
   ],
   "source": [
    "1 - sct.norm.cdf(50, 60, sqrt(42)) # Y ~ N(60, 42)."
   ]
  },
  {
   "cell_type": "markdown",
   "metadata": {
    "colab_type": "text",
    "id": "Bb5hhuk7vwum"
   },
   "source": [
    "Ou ainda, utilizar a normal padronizada $\\left(Z = \\frac{(Y-\\mu)}{\\sigma} \\sim N(0, 1)\\right)$:"
   ]
  },
  {
   "cell_type": "code",
   "execution_count": 0,
   "metadata": {
    "colab": {
     "base_uri": "https://localhost:8080/",
     "height": 34
    },
    "colab_type": "code",
    "id": "XvsOKnbTwK37",
    "outputId": "794e671d-35cb-47fe-f269-04a77b77fa2f"
   },
   "outputs": [
    {
     "data": {
      "text/plain": [
       "0.9385886759493037"
      ]
     },
     "execution_count": 22,
     "metadata": {
      "tags": []
     },
     "output_type": "execute_result"
    }
   ],
   "source": [
    "1 - sct.norm.cdf((50 - 60)/sqrt(42), 0, 1) # Z ~ N(0, 1)."
   ]
  },
  {
   "cell_type": "markdown",
   "metadata": {
    "colab_type": "text",
    "id": "aKyohZ0qySxN"
   },
   "source": [
    "É recomendado introduzir também um fator de correção de continuidade nessa aproximação. Para isso, simplesmente calculamos $Y$ (a V.A normalmente distribuída) diminuída de 0.5, ou seja:\n",
    "\n",
    "$$P(X \\geq 50) \\approx P(Y \\geq 49.5)$$"
   ]
  },
  {
   "cell_type": "code",
   "execution_count": 0,
   "metadata": {
    "colab": {
     "base_uri": "https://localhost:8080/",
     "height": 34
    },
    "colab_type": "code",
    "id": "9Y1PB2E2yxBT",
    "outputId": "e5f253b4-8dec-4c14-8c56-2bb01e6a25ee"
   },
   "outputs": [
    {
     "data": {
      "text/plain": [
       "0.9474037474399793"
      ]
     },
     "execution_count": 23,
     "metadata": {
      "tags": []
     },
     "output_type": "execute_result"
    }
   ],
   "source": [
    "1 - sct.norm.cdf(49.5, 60, sqrt(42)) # Y ~ N(60, 42)."
   ]
  },
  {
   "cell_type": "markdown",
   "metadata": {
    "colab_type": "text",
    "id": "E6owPf7izJt5"
   },
   "source": [
    "Que é bem mais próximo do real valor encontrado utilizando a exata distribuição binomial mais acima.\n",
    "\n",
    "Se quiséssemos $P(X \\leq 50)$, então aproximaríamos como:\n",
    "\n",
    "$$P(X \\leq 50) \\approx P(Y \\leq 50.5)$$\n",
    "\n",
    "ou seja, adicionando 0.5 à variável normalmente distribuída."
   ]
  },
  {
   "cell_type": "markdown",
   "metadata": {
    "colab_type": "text",
    "id": "2XURLuEFqdG1"
   },
   "source": [
    "## Referências\n",
    "\n",
    "* [Probability Theory Review for Machine Learning](https://see.stanford.edu/materials/aimlcs229/cs229-prob.pdf)\n",
    "\n",
    "* [Understanding Probability Distributions](https://statisticsbyjim.com/basics/probability-distributions/)\n",
    "\n",
    "* [Probability Distribution](https://en.wikipedia.org/wiki/Probability_distribution)\n",
    "\n",
    "* [Statistical Modeling: The Two Cultures](http://www2.math.uu.se/~thulin/mm/breiman.pdf)\n",
    "\n",
    "* [Variáveis Aleatórias Unidimensionais](http://www.professores.uff.br/anafarias/wp-content/uploads/sites/32/2017/08/GET00182-DistNomal.pdf)"
   ]
  }
 ],
 "metadata": {
  "colab": {
   "collapsed_sections": [],
   "name": "Aula 4 - Distribuições de probabilidade.ipynb",
   "provenance": [],
   "version": "0.3.2"
  },
  "kernelspec": {
   "display_name": "Python 3",
   "language": "python",
   "name": "python3"
  },
  "language_info": {
   "codemirror_mode": {
    "name": "ipython",
    "version": 3
   },
   "file_extension": ".py",
   "mimetype": "text/x-python",
   "name": "python",
   "nbconvert_exporter": "python",
   "pygments_lexer": "ipython3",
   "version": "3.7.6"
  }
 },
 "nbformat": 4,
 "nbformat_minor": 1
}
