{
 "cells": [
  {
   "cell_type": "markdown",
   "metadata": {},
   "source": [
    "# Desafio 3\n",
    "\n",
    "Neste desafio, iremos praticar nossos conhecimentos sobre distribuições de probabilidade. Para isso,\n",
    "dividiremos este desafio em duas partes:\n",
    "    \n",
    "1. A primeira parte contará com 3 questões sobre um *data set* artificial com dados de uma amostra normal e\n",
    "    uma binomial.\n",
    "2. A segunda parte será sobre a análise da distribuição de uma variável do _data set_ [Pulsar Star](https://archive.ics.uci.edu/ml/datasets/HTRU2), contendo 2 questões.\n",
    "\n",
    "> Obs.: Por favor, não modifique o nome das funções de resposta."
   ]
  },
  {
   "cell_type": "markdown",
   "metadata": {},
   "source": [
    "## _Setup_ geral"
   ]
  },
  {
   "cell_type": "code",
   "execution_count": 1,
   "metadata": {},
   "outputs": [],
   "source": [
    "import pandas as pd\n",
    "import matplotlib.pyplot as plt\n",
    "import numpy as np\n",
    "import scipy.stats as sct\n",
    "import seaborn as sns\n",
    "from statsmodels.distributions.empirical_distribution import ECDF"
   ]
  },
  {
   "cell_type": "code",
   "execution_count": 2,
   "metadata": {},
   "outputs": [],
   "source": [
    "#%matplotlib inline\n",
    "\n",
    "from IPython.core.pylabtools import figsize\n",
    "\n",
    "\n",
    "figsize(12, 8)\n",
    "\n",
    "sns.set()"
   ]
  },
  {
   "cell_type": "markdown",
   "metadata": {},
   "source": [
    "## Parte 1"
   ]
  },
  {
   "cell_type": "markdown",
   "metadata": {},
   "source": [
    "### _Setup_ da parte 1"
   ]
  },
  {
   "cell_type": "code",
   "execution_count": 3,
   "metadata": {},
   "outputs": [],
   "source": [
    "np.random.seed(42)\n",
    "    \n",
    "dataframe = pd.DataFrame({\"normal\": sct.norm.rvs(20, 4, size=10000),\n",
    "                     \"binomial\": sct.binom.rvs(100, 0.2, size=10000)})"
   ]
  },
  {
   "cell_type": "markdown",
   "metadata": {},
   "source": [
    "## Inicie sua análise a partir da parte 1 a partir daqui"
   ]
  },
  {
   "cell_type": "code",
   "execution_count": 4,
   "metadata": {},
   "outputs": [
    {
     "output_type": "execute_result",
     "data": {
      "text/plain": "      normal  binomial\n0  21.986857        18\n1  19.446943        15\n2  22.590754        14\n3  26.092119        15\n4  19.063387        21",
      "text/html": "<div>\n<style scoped>\n    .dataframe tbody tr th:only-of-type {\n        vertical-align: middle;\n    }\n\n    .dataframe tbody tr th {\n        vertical-align: top;\n    }\n\n    .dataframe thead th {\n        text-align: right;\n    }\n</style>\n<table border=\"1\" class=\"dataframe\">\n  <thead>\n    <tr style=\"text-align: right;\">\n      <th></th>\n      <th>normal</th>\n      <th>binomial</th>\n    </tr>\n  </thead>\n  <tbody>\n    <tr>\n      <th>0</th>\n      <td>21.986857</td>\n      <td>18</td>\n    </tr>\n    <tr>\n      <th>1</th>\n      <td>19.446943</td>\n      <td>15</td>\n    </tr>\n    <tr>\n      <th>2</th>\n      <td>22.590754</td>\n      <td>14</td>\n    </tr>\n    <tr>\n      <th>3</th>\n      <td>26.092119</td>\n      <td>15</td>\n    </tr>\n    <tr>\n      <th>4</th>\n      <td>19.063387</td>\n      <td>21</td>\n    </tr>\n  </tbody>\n</table>\n</div>"
     },
     "metadata": {},
     "execution_count": 4
    }
   ],
   "source": [
    "# Sua análise da parte 1 começa aqui.\n",
    "dataframe.head()"
   ]
  },
  {
   "cell_type": "code",
   "execution_count": 5,
   "metadata": {},
   "outputs": [
    {
     "output_type": "execute_result",
     "data": {
      "text/plain": "(10000, 2)"
     },
     "metadata": {},
     "execution_count": 5
    }
   ],
   "source": [
    "# Dimensões do data frame\n",
    "dataframe.shape"
   ]
  },
  {
   "cell_type": "code",
   "execution_count": 6,
   "metadata": {},
   "outputs": [
    {
     "output_type": "execute_result",
     "data": {
      "text/plain": "             normal      binomial\ncount  10000.000000  10000.000000\nmean      19.991456     20.097000\nstd        4.013850      4.041191\nmin        4.310399      6.000000\n25%       17.309638     17.000000\n50%       19.989620     20.000000\n75%       22.684324     23.000000\nmax       35.704951     36.000000",
      "text/html": "<div>\n<style scoped>\n    .dataframe tbody tr th:only-of-type {\n        vertical-align: middle;\n    }\n\n    .dataframe tbody tr th {\n        vertical-align: top;\n    }\n\n    .dataframe thead th {\n        text-align: right;\n    }\n</style>\n<table border=\"1\" class=\"dataframe\">\n  <thead>\n    <tr style=\"text-align: right;\">\n      <th></th>\n      <th>normal</th>\n      <th>binomial</th>\n    </tr>\n  </thead>\n  <tbody>\n    <tr>\n      <th>count</th>\n      <td>10000.000000</td>\n      <td>10000.000000</td>\n    </tr>\n    <tr>\n      <th>mean</th>\n      <td>19.991456</td>\n      <td>20.097000</td>\n    </tr>\n    <tr>\n      <th>std</th>\n      <td>4.013850</td>\n      <td>4.041191</td>\n    </tr>\n    <tr>\n      <th>min</th>\n      <td>4.310399</td>\n      <td>6.000000</td>\n    </tr>\n    <tr>\n      <th>25%</th>\n      <td>17.309638</td>\n      <td>17.000000</td>\n    </tr>\n    <tr>\n      <th>50%</th>\n      <td>19.989620</td>\n      <td>20.000000</td>\n    </tr>\n    <tr>\n      <th>75%</th>\n      <td>22.684324</td>\n      <td>23.000000</td>\n    </tr>\n    <tr>\n      <th>max</th>\n      <td>35.704951</td>\n      <td>36.000000</td>\n    </tr>\n  </tbody>\n</table>\n</div>"
     },
     "metadata": {},
     "execution_count": 6
    }
   ],
   "source": [
    "# Resumo estatístico dos dados\n",
    "dataframe.describe()"
   ]
  },
  {
   "cell_type": "markdown",
   "metadata": {},
   "source": [
    "## Questão 1\n",
    "\n",
    "Qual a diferença entre os quartis (Q1, Q2 e Q3) das variáveis `normal` e `binomial` de `dataframe`? Responda como uma tupla de três elementos arredondados para três casas decimais.\n",
    "\n",
    "Em outra palavras, sejam `q1_norm`, `q2_norm` e `q3_norm` os quantis da variável `normal` e `q1_binom`, `q2_binom` e `q3_binom` os quantis da variável `binom`, qual a diferença `(q1_norm - q1 binom, q2_norm - q2_binom, q3_norm - q3_binom)`?"
   ]
  },
  {
   "cell_type": "code",
   "execution_count": 9,
   "metadata": {},
   "outputs": [
    {
     "output_type": "execute_result",
     "data": {
      "text/plain": "(0.31, -0.01, -0.316)"
     },
     "metadata": {},
     "execution_count": 9
    }
   ],
   "source": [
    "def q1():\n",
    "    # Retorne aqui o resultado da questão 1.\n",
    "    quantiles = dataframe.quantile([0.25, 0.5, 0.75])\n",
    "    return tuple((quantiles.normal - quantiles.binomial).round(3))\n",
    "\n",
    "q1()"
   ]
  },
  {
   "cell_type": "markdown",
   "metadata": {},
   "source": [
    "Para refletir:\n",
    "\n",
    "* Você esperava valores dessa magnitude?\n",
    "\n",
    "* Você é capaz de explicar como distribuições aparentemente tão diferentes (discreta e contínua, por exemplo) conseguem dar esses valores?"
   ]
  },
  {
   "cell_type": "markdown",
   "metadata": {},
   "source": [
    "## Questão 2\n",
    "\n",
    "Considere o intervalo $[\\bar{x} - s, \\bar{x} + s]$, onde $\\bar{x}$ é a média amostral e $s$ é o desvio padrão. Qual a probabilidade nesse intervalo, calculada pela função de distribuição acumulada empírica (CDF empírica) da variável `normal`? Responda como uma único escalar arredondado para três casas decimais."
   ]
  },
  {
   "cell_type": "code",
   "execution_count": 10,
   "metadata": {},
   "outputs": [
    {
     "output_type": "execute_result",
     "data": {
      "text/plain": "0.684"
     },
     "metadata": {},
     "execution_count": 10
    }
   ],
   "source": [
    "def q2():\n",
    "    # Retorne aqui o resultado da questão 2.\n",
    "    ecdf = ECDF(dataframe.normal)\n",
    "    media = dataframe.normal.mean()\n",
    "    desvio = dataframe.normal.std()\n",
    "    \n",
    "    return round(ecdf(media + desvio) - ecdf(media - desvio), 3)    \n",
    "\n",
    "q2()"
   ]
  },
  {
   "cell_type": "markdown",
   "metadata": {},
   "source": [
    "Para refletir:\n",
    "\n",
    "* Esse valor se aproxima do esperado teórico?\n",
    "* Experimente também para os intervalos $[\\bar{x} - 2s, \\bar{x} + 2s]$ e $[\\bar{x} - 3s, \\bar{x} + 3s]$."
   ]
  },
  {
   "cell_type": "markdown",
   "metadata": {},
   "source": [
    "## Questão 3\n",
    "\n",
    "Qual é a diferença entre as médias e as variâncias das variáveis `binomial` e `normal`? Responda como uma tupla de dois elementos arredondados para três casas decimais.\n",
    "\n",
    "Em outras palavras, sejam `m_binom` e `v_binom` a média e a variância da variável `binomial`, e `m_norm` e `v_norm` a média e a variância da variável `normal`. Quais as diferenças `(m_binom - m_norm, v_binom - v_norm)`?"
   ]
  },
  {
   "cell_type": "code",
   "execution_count": 11,
   "metadata": {},
   "outputs": [
    {
     "output_type": "execute_result",
     "data": {
      "text/plain": "(0.106, 0.22)"
     },
     "metadata": {},
     "execution_count": 11
    }
   ],
   "source": [
    "def q3():\n",
    "    # Retorne aqui o resultado da questão 3.\n",
    "    df_mean = dataframe.mean()\n",
    "    df_var = dataframe.var()\n",
    "    return (round(df_mean.binomial - df_mean.normal, 3), round(df_var.binomial - df_var.normal, 3))\n",
    "\n",
    "q3()"
   ]
  },
  {
   "cell_type": "markdown",
   "metadata": {},
   "source": [
    "Para refletir:\n",
    "\n",
    "* Você esperava valore dessa magnitude?\n",
    "* Qual o efeito de aumentar ou diminuir $n$ (atualmente 100) na distribuição da variável `binomial`?"
   ]
  },
  {
   "cell_type": "markdown",
   "metadata": {},
   "source": [
    "## Parte 2"
   ]
  },
  {
   "cell_type": "markdown",
   "metadata": {},
   "source": [
    "### _Setup_ da parte 2"
   ]
  },
  {
   "cell_type": "code",
   "execution_count": 12,
   "metadata": {},
   "outputs": [],
   "source": [
    "stars = pd.read_csv(\"pulsar_stars.csv\")\n",
    "\n",
    "stars.rename({old_name: new_name\n",
    "              for (old_name, new_name)\n",
    "              in zip(stars.columns,\n",
    "                     [\"mean_profile\", \"sd_profile\", \"kurt_profile\", \"skew_profile\", \"mean_curve\", \"sd_curve\", \"kurt_curve\", \"skew_curve\", \"target\"])\n",
    "             },\n",
    "             axis=1, inplace=True)\n",
    "\n",
    "stars.loc[:, \"target\"] = stars.target.astype(bool)"
   ]
  },
  {
   "cell_type": "markdown",
   "metadata": {},
   "source": [
    "## Inicie sua análise da parte 2 a partir daqui"
   ]
  },
  {
   "cell_type": "code",
   "execution_count": 13,
   "metadata": {},
   "outputs": [
    {
     "output_type": "execute_result",
     "data": {
      "text/plain": "   mean_profile  sd_profile  kurt_profile  skew_profile  mean_curve  \\\n0    102.507812   58.882430      0.465318     -0.515088    1.677258   \n1    103.015625   39.341649      0.323328      1.051164    3.121237   \n2    136.750000   57.178449     -0.068415     -0.636238    3.642977   \n3     88.726562   40.672225      0.600866      1.123492    1.178930   \n4     93.570312   46.698114      0.531905      0.416721    1.636288   \n\n    sd_curve  kurt_curve  skew_curve  target  \n0  14.860146   10.576487  127.393580   False  \n1  21.744669    7.735822   63.171909   False  \n2  20.959280    6.896499   53.593661   False  \n3  11.468720   14.269573  252.567306   False  \n4  14.545074   10.621748  131.394004   False  ",
      "text/html": "<div>\n<style scoped>\n    .dataframe tbody tr th:only-of-type {\n        vertical-align: middle;\n    }\n\n    .dataframe tbody tr th {\n        vertical-align: top;\n    }\n\n    .dataframe thead th {\n        text-align: right;\n    }\n</style>\n<table border=\"1\" class=\"dataframe\">\n  <thead>\n    <tr style=\"text-align: right;\">\n      <th></th>\n      <th>mean_profile</th>\n      <th>sd_profile</th>\n      <th>kurt_profile</th>\n      <th>skew_profile</th>\n      <th>mean_curve</th>\n      <th>sd_curve</th>\n      <th>kurt_curve</th>\n      <th>skew_curve</th>\n      <th>target</th>\n    </tr>\n  </thead>\n  <tbody>\n    <tr>\n      <th>0</th>\n      <td>102.507812</td>\n      <td>58.882430</td>\n      <td>0.465318</td>\n      <td>-0.515088</td>\n      <td>1.677258</td>\n      <td>14.860146</td>\n      <td>10.576487</td>\n      <td>127.393580</td>\n      <td>False</td>\n    </tr>\n    <tr>\n      <th>1</th>\n      <td>103.015625</td>\n      <td>39.341649</td>\n      <td>0.323328</td>\n      <td>1.051164</td>\n      <td>3.121237</td>\n      <td>21.744669</td>\n      <td>7.735822</td>\n      <td>63.171909</td>\n      <td>False</td>\n    </tr>\n    <tr>\n      <th>2</th>\n      <td>136.750000</td>\n      <td>57.178449</td>\n      <td>-0.068415</td>\n      <td>-0.636238</td>\n      <td>3.642977</td>\n      <td>20.959280</td>\n      <td>6.896499</td>\n      <td>53.593661</td>\n      <td>False</td>\n    </tr>\n    <tr>\n      <th>3</th>\n      <td>88.726562</td>\n      <td>40.672225</td>\n      <td>0.600866</td>\n      <td>1.123492</td>\n      <td>1.178930</td>\n      <td>11.468720</td>\n      <td>14.269573</td>\n      <td>252.567306</td>\n      <td>False</td>\n    </tr>\n    <tr>\n      <th>4</th>\n      <td>93.570312</td>\n      <td>46.698114</td>\n      <td>0.531905</td>\n      <td>0.416721</td>\n      <td>1.636288</td>\n      <td>14.545074</td>\n      <td>10.621748</td>\n      <td>131.394004</td>\n      <td>False</td>\n    </tr>\n  </tbody>\n</table>\n</div>"
     },
     "metadata": {},
     "execution_count": 13
    }
   ],
   "source": [
    "# Sua análise da parte 2 começa aqui.\n",
    "stars.head()"
   ]
  },
  {
   "cell_type": "code",
   "execution_count": 14,
   "metadata": {},
   "outputs": [
    {
     "output_type": "execute_result",
     "data": {
      "text/plain": "       mean_profile    sd_profile  kurt_profile  skew_profile    mean_curve  \\\ncount  17897.000000  17897.000000  17897.000000  17897.000000  17897.000000   \nmean     111.078321     46.549021      0.477897      1.770417     12.614926   \nstd       25.652705      6.843040      1.064056      6.168058     29.473637   \nmin        5.812500     24.772042     -1.876011     -1.791886      0.213211   \n25%      100.929688     42.375426      0.027108     -0.188528      1.923077   \n50%      115.078125     46.946435      0.223241      0.198736      2.801839   \n75%      127.085938     51.022887      0.473349      0.928206      5.464883   \nmax      192.617188     98.778911      8.069522     68.101622    223.392140   \n\n           sd_curve    kurt_curve    skew_curve  \ncount  17897.000000  17897.000000  17897.000000  \nmean      26.326918      8.303574    104.859419  \nstd       19.471042      4.506217    106.517270  \nmin        7.370432     -3.139270     -1.976976  \n25%       14.437330      5.781485     34.957119  \n50%       18.459977      8.433872     83.068996  \n75%       28.428152     10.702973    139.310905  \nmax      110.642211     34.539844   1191.000837  ",
      "text/html": "<div>\n<style scoped>\n    .dataframe tbody tr th:only-of-type {\n        vertical-align: middle;\n    }\n\n    .dataframe tbody tr th {\n        vertical-align: top;\n    }\n\n    .dataframe thead th {\n        text-align: right;\n    }\n</style>\n<table border=\"1\" class=\"dataframe\">\n  <thead>\n    <tr style=\"text-align: right;\">\n      <th></th>\n      <th>mean_profile</th>\n      <th>sd_profile</th>\n      <th>kurt_profile</th>\n      <th>skew_profile</th>\n      <th>mean_curve</th>\n      <th>sd_curve</th>\n      <th>kurt_curve</th>\n      <th>skew_curve</th>\n    </tr>\n  </thead>\n  <tbody>\n    <tr>\n      <th>count</th>\n      <td>17897.000000</td>\n      <td>17897.000000</td>\n      <td>17897.000000</td>\n      <td>17897.000000</td>\n      <td>17897.000000</td>\n      <td>17897.000000</td>\n      <td>17897.000000</td>\n      <td>17897.000000</td>\n    </tr>\n    <tr>\n      <th>mean</th>\n      <td>111.078321</td>\n      <td>46.549021</td>\n      <td>0.477897</td>\n      <td>1.770417</td>\n      <td>12.614926</td>\n      <td>26.326918</td>\n      <td>8.303574</td>\n      <td>104.859419</td>\n    </tr>\n    <tr>\n      <th>std</th>\n      <td>25.652705</td>\n      <td>6.843040</td>\n      <td>1.064056</td>\n      <td>6.168058</td>\n      <td>29.473637</td>\n      <td>19.471042</td>\n      <td>4.506217</td>\n      <td>106.517270</td>\n    </tr>\n    <tr>\n      <th>min</th>\n      <td>5.812500</td>\n      <td>24.772042</td>\n      <td>-1.876011</td>\n      <td>-1.791886</td>\n      <td>0.213211</td>\n      <td>7.370432</td>\n      <td>-3.139270</td>\n      <td>-1.976976</td>\n    </tr>\n    <tr>\n      <th>25%</th>\n      <td>100.929688</td>\n      <td>42.375426</td>\n      <td>0.027108</td>\n      <td>-0.188528</td>\n      <td>1.923077</td>\n      <td>14.437330</td>\n      <td>5.781485</td>\n      <td>34.957119</td>\n    </tr>\n    <tr>\n      <th>50%</th>\n      <td>115.078125</td>\n      <td>46.946435</td>\n      <td>0.223241</td>\n      <td>0.198736</td>\n      <td>2.801839</td>\n      <td>18.459977</td>\n      <td>8.433872</td>\n      <td>83.068996</td>\n    </tr>\n    <tr>\n      <th>75%</th>\n      <td>127.085938</td>\n      <td>51.022887</td>\n      <td>0.473349</td>\n      <td>0.928206</td>\n      <td>5.464883</td>\n      <td>28.428152</td>\n      <td>10.702973</td>\n      <td>139.310905</td>\n    </tr>\n    <tr>\n      <th>max</th>\n      <td>192.617188</td>\n      <td>98.778911</td>\n      <td>8.069522</td>\n      <td>68.101622</td>\n      <td>223.392140</td>\n      <td>110.642211</td>\n      <td>34.539844</td>\n      <td>1191.000837</td>\n    </tr>\n  </tbody>\n</table>\n</div>"
     },
     "metadata": {},
     "execution_count": 14
    }
   ],
   "source": [
    "stars.describe()"
   ]
  },
  {
   "cell_type": "code",
   "execution_count": 15,
   "metadata": {},
   "outputs": [
    {
     "output_type": "execute_result",
     "data": {
      "text/plain": "       mean_profile  sd_profile  kurt_profile  skew_profile  mean_curve  \\\n18        99.367188   41.572202      1.547197      4.154106   27.555184   \n41       120.554688   45.549905      0.282924      0.419909    1.358696   \n60        27.765625   28.666042      5.770087     37.419009   73.112876   \n91        23.625000   29.948654      5.688038     35.987172  146.568562   \n92        94.585938   35.779823      1.187309      3.687469    6.071070   \n...             ...         ...           ...           ...         ...   \n17514     89.867188   47.482295      1.591325      2.505057    0.763378   \n17528     27.039062   33.754722      4.779124     26.255357  129.863712   \n17557     77.070312   39.000638      1.884421      6.372178   38.517559   \n17641     28.375000   27.649311      6.377273     45.944048  141.860368   \n17875    111.765625   52.943585      0.671724      0.383594  149.843646   \n\n        sd_curve  kurt_curve  skew_curve  target  \n18     61.719016    2.208808    3.662680    True  \n41     13.079034   13.312141  212.597029    True  \n60     62.070220    1.268206    1.082920    True  \n91     82.394624   -0.274902   -1.121848    True  \n92     29.760400    5.318767   28.698048    True  \n...          ...         ...         ...     ...  \n17514  12.393561   17.940745  333.902631    True  \n17528  78.815440   -0.348492   -0.893791    True  \n17557  65.741059    1.589513    1.285346    True  \n17641  82.893017   -0.477222   -1.067880    True  \n17875  97.926948   -0.696153   -1.260403    True  \n\n[1639 rows x 9 columns]",
      "text/html": "<div>\n<style scoped>\n    .dataframe tbody tr th:only-of-type {\n        vertical-align: middle;\n    }\n\n    .dataframe tbody tr th {\n        vertical-align: top;\n    }\n\n    .dataframe thead th {\n        text-align: right;\n    }\n</style>\n<table border=\"1\" class=\"dataframe\">\n  <thead>\n    <tr style=\"text-align: right;\">\n      <th></th>\n      <th>mean_profile</th>\n      <th>sd_profile</th>\n      <th>kurt_profile</th>\n      <th>skew_profile</th>\n      <th>mean_curve</th>\n      <th>sd_curve</th>\n      <th>kurt_curve</th>\n      <th>skew_curve</th>\n      <th>target</th>\n    </tr>\n  </thead>\n  <tbody>\n    <tr>\n      <th>18</th>\n      <td>99.367188</td>\n      <td>41.572202</td>\n      <td>1.547197</td>\n      <td>4.154106</td>\n      <td>27.555184</td>\n      <td>61.719016</td>\n      <td>2.208808</td>\n      <td>3.662680</td>\n      <td>True</td>\n    </tr>\n    <tr>\n      <th>41</th>\n      <td>120.554688</td>\n      <td>45.549905</td>\n      <td>0.282924</td>\n      <td>0.419909</td>\n      <td>1.358696</td>\n      <td>13.079034</td>\n      <td>13.312141</td>\n      <td>212.597029</td>\n      <td>True</td>\n    </tr>\n    <tr>\n      <th>60</th>\n      <td>27.765625</td>\n      <td>28.666042</td>\n      <td>5.770087</td>\n      <td>37.419009</td>\n      <td>73.112876</td>\n      <td>62.070220</td>\n      <td>1.268206</td>\n      <td>1.082920</td>\n      <td>True</td>\n    </tr>\n    <tr>\n      <th>91</th>\n      <td>23.625000</td>\n      <td>29.948654</td>\n      <td>5.688038</td>\n      <td>35.987172</td>\n      <td>146.568562</td>\n      <td>82.394624</td>\n      <td>-0.274902</td>\n      <td>-1.121848</td>\n      <td>True</td>\n    </tr>\n    <tr>\n      <th>92</th>\n      <td>94.585938</td>\n      <td>35.779823</td>\n      <td>1.187309</td>\n      <td>3.687469</td>\n      <td>6.071070</td>\n      <td>29.760400</td>\n      <td>5.318767</td>\n      <td>28.698048</td>\n      <td>True</td>\n    </tr>\n    <tr>\n      <th>...</th>\n      <td>...</td>\n      <td>...</td>\n      <td>...</td>\n      <td>...</td>\n      <td>...</td>\n      <td>...</td>\n      <td>...</td>\n      <td>...</td>\n      <td>...</td>\n    </tr>\n    <tr>\n      <th>17514</th>\n      <td>89.867188</td>\n      <td>47.482295</td>\n      <td>1.591325</td>\n      <td>2.505057</td>\n      <td>0.763378</td>\n      <td>12.393561</td>\n      <td>17.940745</td>\n      <td>333.902631</td>\n      <td>True</td>\n    </tr>\n    <tr>\n      <th>17528</th>\n      <td>27.039062</td>\n      <td>33.754722</td>\n      <td>4.779124</td>\n      <td>26.255357</td>\n      <td>129.863712</td>\n      <td>78.815440</td>\n      <td>-0.348492</td>\n      <td>-0.893791</td>\n      <td>True</td>\n    </tr>\n    <tr>\n      <th>17557</th>\n      <td>77.070312</td>\n      <td>39.000638</td>\n      <td>1.884421</td>\n      <td>6.372178</td>\n      <td>38.517559</td>\n      <td>65.741059</td>\n      <td>1.589513</td>\n      <td>1.285346</td>\n      <td>True</td>\n    </tr>\n    <tr>\n      <th>17641</th>\n      <td>28.375000</td>\n      <td>27.649311</td>\n      <td>6.377273</td>\n      <td>45.944048</td>\n      <td>141.860368</td>\n      <td>82.893017</td>\n      <td>-0.477222</td>\n      <td>-1.067880</td>\n      <td>True</td>\n    </tr>\n    <tr>\n      <th>17875</th>\n      <td>111.765625</td>\n      <td>52.943585</td>\n      <td>0.671724</td>\n      <td>0.383594</td>\n      <td>149.843646</td>\n      <td>97.926948</td>\n      <td>-0.696153</td>\n      <td>-1.260403</td>\n      <td>True</td>\n    </tr>\n  </tbody>\n</table>\n<p>1639 rows × 9 columns</p>\n</div>"
     },
     "metadata": {},
     "execution_count": 15
    }
   ],
   "source": [
    "stars[stars['target'] == True]"
   ]
  },
  {
   "cell_type": "code",
   "execution_count": 16,
   "metadata": {},
   "outputs": [
    {
     "output_type": "execute_result",
     "data": {
      "text/plain": "       mean_profile   sd_profile  kurt_profile  skew_profile   mean_curve  \\\ncount   1639.000000  1639.000000   1639.000000   1639.000000  1639.000000   \nmean      56.690608    38.710598      3.130655     15.553576    49.825995   \nstd       30.007707     8.033614      1.872861     13.997200    45.287932   \nmin        5.812500    24.772042     -0.094888     -1.139069     0.486622   \n25%       31.777344    32.284803      1.556038      3.805492    12.759615   \n50%       54.296875    37.341297      2.961258     11.609644    33.494983   \n75%       79.277344    43.759278      4.586930     24.881853    78.313545   \nmax      139.257812    83.796909      8.069522     68.101622   199.577759   \n\n          sd_curve   kurt_curve   skew_curve  \ncount  1639.000000  1639.000000  1639.000000  \nmean     56.468963     2.757069    17.931728  \nstd      19.731080     3.105945    50.896263  \nmin       7.658623    -1.862320    -1.874683  \n25%      43.333643     0.756451    -0.228294  \n50%      59.367088     1.918327     2.585145  \n75%      70.985965     3.709978    13.469687  \nmax     109.655345    30.883882  1017.383180  ",
      "text/html": "<div>\n<style scoped>\n    .dataframe tbody tr th:only-of-type {\n        vertical-align: middle;\n    }\n\n    .dataframe tbody tr th {\n        vertical-align: top;\n    }\n\n    .dataframe thead th {\n        text-align: right;\n    }\n</style>\n<table border=\"1\" class=\"dataframe\">\n  <thead>\n    <tr style=\"text-align: right;\">\n      <th></th>\n      <th>mean_profile</th>\n      <th>sd_profile</th>\n      <th>kurt_profile</th>\n      <th>skew_profile</th>\n      <th>mean_curve</th>\n      <th>sd_curve</th>\n      <th>kurt_curve</th>\n      <th>skew_curve</th>\n    </tr>\n  </thead>\n  <tbody>\n    <tr>\n      <th>count</th>\n      <td>1639.000000</td>\n      <td>1639.000000</td>\n      <td>1639.000000</td>\n      <td>1639.000000</td>\n      <td>1639.000000</td>\n      <td>1639.000000</td>\n      <td>1639.000000</td>\n      <td>1639.000000</td>\n    </tr>\n    <tr>\n      <th>mean</th>\n      <td>56.690608</td>\n      <td>38.710598</td>\n      <td>3.130655</td>\n      <td>15.553576</td>\n      <td>49.825995</td>\n      <td>56.468963</td>\n      <td>2.757069</td>\n      <td>17.931728</td>\n    </tr>\n    <tr>\n      <th>std</th>\n      <td>30.007707</td>\n      <td>8.033614</td>\n      <td>1.872861</td>\n      <td>13.997200</td>\n      <td>45.287932</td>\n      <td>19.731080</td>\n      <td>3.105945</td>\n      <td>50.896263</td>\n    </tr>\n    <tr>\n      <th>min</th>\n      <td>5.812500</td>\n      <td>24.772042</td>\n      <td>-0.094888</td>\n      <td>-1.139069</td>\n      <td>0.486622</td>\n      <td>7.658623</td>\n      <td>-1.862320</td>\n      <td>-1.874683</td>\n    </tr>\n    <tr>\n      <th>25%</th>\n      <td>31.777344</td>\n      <td>32.284803</td>\n      <td>1.556038</td>\n      <td>3.805492</td>\n      <td>12.759615</td>\n      <td>43.333643</td>\n      <td>0.756451</td>\n      <td>-0.228294</td>\n    </tr>\n    <tr>\n      <th>50%</th>\n      <td>54.296875</td>\n      <td>37.341297</td>\n      <td>2.961258</td>\n      <td>11.609644</td>\n      <td>33.494983</td>\n      <td>59.367088</td>\n      <td>1.918327</td>\n      <td>2.585145</td>\n    </tr>\n    <tr>\n      <th>75%</th>\n      <td>79.277344</td>\n      <td>43.759278</td>\n      <td>4.586930</td>\n      <td>24.881853</td>\n      <td>78.313545</td>\n      <td>70.985965</td>\n      <td>3.709978</td>\n      <td>13.469687</td>\n    </tr>\n    <tr>\n      <th>max</th>\n      <td>139.257812</td>\n      <td>83.796909</td>\n      <td>8.069522</td>\n      <td>68.101622</td>\n      <td>199.577759</td>\n      <td>109.655345</td>\n      <td>30.883882</td>\n      <td>1017.383180</td>\n    </tr>\n  </tbody>\n</table>\n</div>"
     },
     "metadata": {},
     "execution_count": 16
    }
   ],
   "source": [
    "stars[stars['target'] == True].describe()"
   ]
  },
  {
   "cell_type": "markdown",
   "metadata": {},
   "source": [
    "## Questão 4\n",
    "\n",
    "Considerando a variável `mean_profile` de `stars`:\n",
    "\n",
    "1. Filtre apenas os valores de `mean_profile` onde `target == 0` (ou seja, onde a estrela não é um pulsar).\n",
    "2. Padronize a variável `mean_profile` filtrada anteriormente para ter média 0 e variância 1.\n",
    "\n",
    "Chamaremos a variável resultante de `false_pulsar_mean_profile_standardized`.\n",
    "\n",
    "Encontre os quantis teóricos para uma distribuição normal de média 0 e variância 1 para 0.80, 0.90 e 0.95 através da função `norm.ppf()` disponível em `scipy.stats`.\n",
    "\n",
    "Quais as probabilidade associadas a esses quantis utilizando a CDF empírica da variável `false_pulsar_mean_profile_standardized`? Responda como uma tupla de três elementos arredondados para três casas decimais."
   ]
  },
  {
   "cell_type": "code",
   "execution_count": 17,
   "metadata": {},
   "outputs": [],
   "source": [
    "aux = stars[stars['target'] == False]\n",
    "aux = aux['mean_profile']\n",
    "padronizado = (aux - aux.mean()) / aux.std()"
   ]
  },
  {
   "cell_type": "code",
   "execution_count": 18,
   "metadata": {},
   "outputs": [
    {
     "output_type": "execute_result",
     "data": {
      "text/plain": "(0.806, 0.911, 0.959)"
     },
     "metadata": {},
     "execution_count": 18
    }
   ],
   "source": [
    "def q4():\n",
    "    # Retorne aqui o resultado da questão 4.\n",
    "    ecdf = ECDF(padronizado)\n",
    "    result = ecdf(sct.norm.ppf([0.8, 0.9, 0.95]))\n",
    "    return tuple(np.round(result, 3))\n",
    "\n",
    "q4()"
   ]
  },
  {
   "cell_type": "markdown",
   "metadata": {},
   "source": [
    "Para refletir:\n",
    "\n",
    "* Os valores encontrados fazem sentido?\n",
    "* O que isso pode dizer sobre a distribuição da variável `false_pulsar_mean_profile_standardized`?"
   ]
  },
  {
   "cell_type": "markdown",
   "metadata": {},
   "source": [
    "## Questão 5\n",
    "\n",
    "Qual a diferença entre os quantis Q1, Q2 e Q3 de `false_pulsar_mean_profile_standardized` e os mesmos quantis teóricos de uma distribuição normal de média 0 e variância 1? Responda como uma tupla de três elementos arredondados para três casas decimais."
   ]
  },
  {
   "cell_type": "code",
   "execution_count": 19,
   "metadata": {},
   "outputs": [
    {
     "output_type": "execute_result",
     "data": {
      "text/plain": "(0.027, 0.04, -0.004)"
     },
     "metadata": {},
     "execution_count": 19
    }
   ],
   "source": [
    "def q5():\n",
    "    # Retorne aqui o resultado da questão 5.\n",
    "    quantiles = [0.25, 0.5, 0.75]\n",
    "    result = padronizado.quantile(quantiles) - sct.norm.ppf(quantiles)\n",
    "    return tuple(result.round(3))\n",
    "\n",
    "q5()"
   ]
  },
  {
   "cell_type": "markdown",
   "metadata": {},
   "source": [
    "Para refletir:\n",
    "\n",
    "* Os valores encontrados fazem sentido?\n",
    "* O que isso pode dizer sobre a distribuição da variável `false_pulsar_mean_profile_standardized`?\n",
    "* Curiosidade: alguns testes de hipóteses sobre normalidade dos dados utilizam essa mesma abordagem."
   ]
  }
 ],
 "metadata": {
  "kernelspec": {
   "display_name": "Python 3",
   "language": "python",
   "name": "python3"
  },
  "language_info": {
   "codemirror_mode": {
    "name": "ipython",
    "version": 3
   },
   "file_extension": ".py",
   "mimetype": "text/x-python",
   "name": "python",
   "nbconvert_exporter": "python",
   "pygments_lexer": "ipython3",
   "version": "3.7.6-final"
  }
 },
 "nbformat": 4,
 "nbformat_minor": 2
}